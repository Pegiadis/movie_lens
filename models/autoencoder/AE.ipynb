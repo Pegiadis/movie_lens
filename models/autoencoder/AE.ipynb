{
 "cells": [
  {
   "cell_type": "code",
   "execution_count": 1,
   "outputs": [],
   "source": [
    "import torch\n",
    "import pandas as pd\n",
    "import numpy as np\n",
    "from torch import nn, optim\n",
    "from torch.utils.data import Dataset, DataLoader, random_split\n",
    "\n",
    "import torch.nn.functional as F\n",
    "from sklearn.preprocessing import LabelEncoder\n",
    "from sklearn.model_selection import train_test_split"
   ],
   "metadata": {
    "collapsed": false,
    "ExecuteTime": {
     "end_time": "2023-08-07T20:18:27.676538645Z",
     "start_time": "2023-08-07T20:18:26.178071003Z"
    }
   }
  },
  {
   "cell_type": "code",
   "execution_count": 2,
   "outputs": [],
   "source": [
    "data = pd.read_csv('../../data/lens_tmdb/ratings_small.csv')"
   ],
   "metadata": {
    "collapsed": false,
    "ExecuteTime": {
     "end_time": "2023-08-07T20:18:27.748594646Z",
     "start_time": "2023-08-07T20:18:27.675661611Z"
    }
   }
  },
  {
   "cell_type": "code",
   "execution_count": 3,
   "outputs": [],
   "source": [
    "ratings_df = data[['userId', 'movieId', 'rating']]"
   ],
   "metadata": {
    "collapsed": false,
    "ExecuteTime": {
     "end_time": "2023-08-07T20:18:27.749125315Z",
     "start_time": "2023-08-07T20:18:27.719570805Z"
    }
   }
  },
  {
   "cell_type": "code",
   "execution_count": 4,
   "outputs": [
    {
     "name": "stderr",
     "output_type": "stream",
     "text": [
      "/tmp/ipykernel_10599/1744291944.py:1: SettingWithCopyWarning: \n",
      "A value is trying to be set on a copy of a slice from a DataFrame.\n",
      "Try using .loc[row_indexer,col_indexer] = value instead\n",
      "\n",
      "See the caveats in the documentation: https://pandas.pydata.org/pandas-docs/stable/user_guide/indexing.html#returning-a-view-versus-a-copy\n",
      "  ratings_df['rating'] = ratings_df['rating'].apply(lambda x: 1 if x >= 4 else 0)\n"
     ]
    }
   ],
   "source": [
    "ratings_df['rating'] = ratings_df['rating'].apply(lambda x: 1 if x >= 4 else 0)\n"
   ],
   "metadata": {
    "collapsed": false,
    "ExecuteTime": {
     "end_time": "2023-08-07T20:18:27.750871444Z",
     "start_time": "2023-08-07T20:18:27.721798162Z"
    }
   }
  },
  {
   "cell_type": "code",
   "execution_count": 5,
   "outputs": [
    {
     "name": "stderr",
     "output_type": "stream",
     "text": [
      "/tmp/ipykernel_10599/3728636018.py:2: SettingWithCopyWarning: \n",
      "A value is trying to be set on a copy of a slice from a DataFrame.\n",
      "Try using .loc[row_indexer,col_indexer] = value instead\n",
      "\n",
      "See the caveats in the documentation: https://pandas.pydata.org/pandas-docs/stable/user_guide/indexing.html#returning-a-view-versus-a-copy\n",
      "  ratings_df['userId'] = user_enc.fit_transform(ratings_df['userId'].values)\n",
      "/tmp/ipykernel_10599/3728636018.py:5: SettingWithCopyWarning: \n",
      "A value is trying to be set on a copy of a slice from a DataFrame.\n",
      "Try using .loc[row_indexer,col_indexer] = value instead\n",
      "\n",
      "See the caveats in the documentation: https://pandas.pydata.org/pandas-docs/stable/user_guide/indexing.html#returning-a-view-versus-a-copy\n",
      "  ratings_df['movieId'] = item_enc.fit_transform(ratings_df['movieId'].values)\n"
     ]
    }
   ],
   "source": [
    "user_enc = LabelEncoder()\n",
    "ratings_df['userId'] = user_enc.fit_transform(ratings_df['userId'].values)\n",
    "\n",
    "item_enc = LabelEncoder()\n",
    "ratings_df['movieId'] = item_enc.fit_transform(ratings_df['movieId'].values)\n"
   ],
   "metadata": {
    "collapsed": false,
    "ExecuteTime": {
     "end_time": "2023-08-07T20:18:27.868381969Z",
     "start_time": "2023-08-07T20:18:27.750651293Z"
    }
   }
  },
  {
   "cell_type": "code",
   "execution_count": 6,
   "outputs": [],
   "source": [
    "train_df, test_df = train_test_split(ratings_df, test_size=0.2, random_state=42)\n"
   ],
   "metadata": {
    "collapsed": false,
    "ExecuteTime": {
     "end_time": "2023-08-07T20:18:27.869217348Z",
     "start_time": "2023-08-07T20:18:27.792440552Z"
    }
   }
  },
  {
   "cell_type": "markdown",
   "source": [
    "## Create Dataloaders"
   ],
   "metadata": {
    "collapsed": false
   }
  },
  {
   "cell_type": "code",
   "execution_count": 7,
   "outputs": [],
   "source": [
    "class MovieLensDataset(Dataset):\n",
    "    def __init__(self, ratings_df, num_users, num_items):\n",
    "        self.users = ratings_df['userId'].values.astype(np.int64)\n",
    "        self.items = ratings_df['movieId'].values.astype(np.int64)\n",
    "        self.ratings = ratings_df['rating'].values.astype(np.float32)\n",
    "\n",
    "        self.num_users = num_users\n",
    "        self.num_items = num_items\n",
    "\n",
    "    def __len__(self):\n",
    "        return len(self.users)\n",
    "\n",
    "    def __getitem__(self, idx):\n",
    "        return self.users[idx], self.items[idx], self.ratings[idx]\n"
   ],
   "metadata": {
    "collapsed": false,
    "ExecuteTime": {
     "end_time": "2023-08-07T20:18:27.869468454Z",
     "start_time": "2023-08-07T20:18:27.792721447Z"
    }
   }
  },
  {
   "cell_type": "code",
   "execution_count": 8,
   "outputs": [],
   "source": [
    "num_users = ratings_df['userId'].nunique()\n",
    "num_items = ratings_df['movieId'].nunique()\n",
    "\n",
    "train_dataset = MovieLensDataset(train_df, num_users, num_items)\n",
    "test_dataset = MovieLensDataset(test_df, num_users, num_items)\n",
    "\n",
    "train_loader = DataLoader(train_dataset, batch_size=1024, shuffle=True)\n",
    "test_loader = DataLoader(test_dataset, batch_size=1024)\n"
   ],
   "metadata": {
    "collapsed": false,
    "ExecuteTime": {
     "end_time": "2023-08-07T20:18:27.869618298Z",
     "start_time": "2023-08-07T20:18:27.792894787Z"
    }
   }
  },
  {
   "cell_type": "markdown",
   "source": [
    "# Create Model Architecture"
   ],
   "metadata": {
    "collapsed": false
   }
  },
  {
   "cell_type": "code",
   "execution_count": 21,
   "outputs": [],
   "source": [
    "class AutoEncoder(nn.Module):\n",
    "    def __init__(self, num_users, num_items, embedding_dim, hidden_dim):\n",
    "        super().__init__()\n",
    "        self.user_emb = nn.Embedding(num_users, embedding_dim)\n",
    "        self.item_emb = nn.Embedding(num_items, embedding_dim)\n",
    "        self.encoder = nn.Sequential(\n",
    "            nn.Linear(embedding_dim*2, hidden_dim),\n",
    "            nn.ReLU(),\n",
    "            nn.Linear(hidden_dim, embedding_dim*2)\n",
    "        )\n",
    "        self.decoder = nn.Sequential(\n",
    "            nn.Linear(embedding_dim*2, hidden_dim),\n",
    "            nn.ReLU(),\n",
    "            nn.Linear(hidden_dim, 1)\n",
    "        )\n",
    "\n",
    "    def forward(self, users, items):\n",
    "        user_emb = self.user_emb(users)\n",
    "        item_emb = self.item_emb(items)\n",
    "        x = torch.cat([user_emb, item_emb], dim=1)\n",
    "        x = self.encoder(x)\n",
    "        x = self.decoder(x)\n",
    "        return torch.sigmoid(x).squeeze()\n"
   ],
   "metadata": {
    "collapsed": false,
    "ExecuteTime": {
     "end_time": "2023-08-07T20:31:25.601833643Z",
     "start_time": "2023-08-07T20:31:25.547298078Z"
    }
   }
  },
  {
   "cell_type": "code",
   "execution_count": 22,
   "outputs": [],
   "source": [
    "def mae(y_true, y_pred):\n",
    "    return torch.mean(torch.abs(y_true - y_pred))\n",
    "\n",
    "def rmse(y_true, y_pred):\n",
    "    return torch.sqrt(torch.mean((y_true - y_pred)**2))\n"
   ],
   "metadata": {
    "collapsed": false,
    "ExecuteTime": {
     "end_time": "2023-08-07T20:31:26.032121165Z",
     "start_time": "2023-08-07T20:31:26.023926076Z"
    }
   }
  },
  {
   "cell_type": "code",
   "execution_count": 25,
   "outputs": [
    {
     "name": "stdout",
     "output_type": "stream",
     "text": [
      "Epoch 1/10, Train Loss: 0.6267743480356434\n",
      "Test Loss: 0.5942789673805237\n",
      "Test MAE: 0.40878851860761645\n",
      "Test RMSE: 0.45159695446491244\n",
      "Epoch 2/10, Train Loss: 0.5589132180696801\n",
      "Test Loss: 0.5724477440118789\n",
      "Test MAE: 0.39031959474086764\n",
      "Test RMSE: 0.44146002680063245\n",
      "Epoch 3/10, Train Loss: 0.5195261296592181\n",
      "Test Loss: 0.5798165827989579\n",
      "Test MAE: 0.3708644315600395\n",
      "Test RMSE: 0.4421451181173325\n",
      "Epoch 4/10, Train Loss: 0.49243778933452653\n",
      "Test Loss: 0.5837537854909897\n",
      "Test MAE: 0.37419016659259796\n",
      "Test RMSE: 0.44482129216194155\n",
      "Epoch 5/10, Train Loss: 0.4645217966429795\n",
      "Test Loss: 0.6390185475349426\n",
      "Test MAE: 0.3541640877723694\n",
      "Test RMSE: 0.45629332810640333\n",
      "Epoch 6/10, Train Loss: 0.4327780404422857\n",
      "Test Loss: 0.6520563364028931\n",
      "Test MAE: 0.3574335306882858\n",
      "Test RMSE: 0.4606810674071312\n",
      "Epoch 7/10, Train Loss: 0.39727807874921\n",
      "Test Loss: 0.7349487721920014\n",
      "Test MAE: 0.3583121865987778\n",
      "Test RMSE: 0.4722987785935402\n",
      "Epoch 8/10, Train Loss: 0.3647207515903666\n",
      "Test Loss: 0.7022800922393799\n",
      "Test MAE: 0.3673012375831604\n",
      "Test RMSE: 0.47133359462022784\n",
      "Epoch 9/10, Train Loss: 0.3255752249609066\n",
      "Test Loss: 0.8954373061656952\n",
      "Test MAE: 0.3601875022053719\n",
      "Test RMSE: 0.4928696811199188\n",
      "Epoch 10/10, Train Loss: 0.29047680561301076\n",
      "Test Loss: 1.0195677727460861\n",
      "Test MAE: 0.3480185762047768\n",
      "Test RMSE: 0.504144375026226\n"
     ]
    },
    {
     "data": {
      "text/plain": "<Figure size 1000x500 with 1 Axes>",
      "image/png": "[encoded data removed]"
     },
     "metadata": {},
     "output_type": "display_data"
    },
    {
     "data": {
      "text/plain": "<Figure size 1000x500 with 1 Axes>",
      "image/png": "[encoded data removed]"
     },
     "metadata": {},
     "output_type": "display_data"
    }
   ],
   "source": [
    "device = torch.device(\"cuda\" if torch.cuda.is_available() else \"cpu\")\n",
    "model = AutoEncoder(num_users, num_items, embedding_dim=50, hidden_dim=100).to(device)\n",
    "criterion = nn.BCELoss()\n",
    "optimizer = optim.Adam(model.parameters(), lr=0.01)\n",
    "train_losses = []\n",
    "test_losses = []\n",
    "maes = []\n",
    "rmses = []\n",
    "\n",
    "num_epochs = 10\n",
    "for epoch in range(num_epochs):\n",
    "    model.train()\n",
    "    train_loss = 0\n",
    "    for users, items, ratings in train_loader:\n",
    "        users = users.to(device)\n",
    "        items = items.to(device)\n",
    "        ratings = ratings.to(device)\n",
    "\n",
    "        optimizer.zero_grad()\n",
    "        outputs = model(users, items)\n",
    "        loss = criterion(outputs, ratings)\n",
    "        loss.backward()\n",
    "        optimizer.step()\n",
    "\n",
    "        train_loss += loss.item()\n",
    "\n",
    "    train_loss /= len(train_loader) # calculate average loss per epoch\n",
    "    train_losses.append(train_loss)\n",
    "    print(f'Epoch {epoch+1}/{num_epochs}, Train Loss: {train_loss}')\n",
    "\n",
    "    model.eval()\n",
    "    test_loss = 0\n",
    "    test_mae = 0\n",
    "    test_rmse = 0\n",
    "    with torch.no_grad():\n",
    "        for users, items, ratings in test_loader:\n",
    "            users = users.to(device)\n",
    "            items = items.to(device)\n",
    "            ratings = ratings.to(device)\n",
    "\n",
    "            outputs = model(users, items)\n",
    "            loss = criterion(outputs, ratings)\n",
    "\n",
    "            test_loss += loss.item()\n",
    "            test_mae += mae(ratings, outputs).item()\n",
    "            test_rmse += rmse(ratings, outputs).item()\n",
    "\n",
    "        test_loss /= len(test_loader) # calculate average test loss per epoch\n",
    "        test_losses.append(test_loss)\n",
    "\n",
    "        test_mae /= len(test_loader) # calculate average mae per epoch\n",
    "        maes.append(test_mae)\n",
    "\n",
    "        test_rmse /= len(test_loader) # calculate average rmse per epoch\n",
    "        rmses.append(test_rmse)\n",
    "\n",
    "    print(f'Test Loss: {test_loss}')\n",
    "    print(f'Test MAE: {test_mae}')\n",
    "    print(f'Test RMSE: {test_rmse}')\n",
    "\n",
    "import matplotlib.pyplot as plt\n",
    "# Plot the RMSE\n",
    "plt.figure(figsize=(10,5))\n",
    "plt.plot(np.arange(num_epochs), rmses)\n",
    "plt.xlabel('Epochs')\n",
    "plt.ylabel('RMSE')\n",
    "plt.title('Test RMSE')\n",
    "plt.show()\n",
    "\n",
    "# To visualize the distribution of errors on test data\n",
    "# Assume `errors` as absolute difference between predictions and actual ratings\n",
    "errors = torch.abs(outputs - ratings).view(-1).cpu().numpy()\n",
    "\n",
    "plt.figure(figsize=(10,5))\n",
    "plt.hist(errors, bins='auto')\n",
    "plt.xlabel('Error')\n",
    "plt.ylabel('Frequency')\n",
    "plt.title('Distribution of prediction errors on Test set')\n",
    "plt.show()\n"
   ],
   "metadata": {
    "collapsed": false,
    "ExecuteTime": {
     "end_time": "2023-08-07T20:33:50.165672547Z",
     "start_time": "2023-08-07T20:33:46.657831675Z"
    }
   }
  },
  {
   "cell_type": "code",
   "execution_count": 26,
   "outputs": [],
   "source": [
    "movies_df = pd.read_csv('../../data/lens_tmdb/cleaned/df_all.csv')\n",
    "\n",
    "def get_movie_details(movie_id):\n",
    "    original_id = item_enc.inverse_transform([movie_id])\n",
    "    movie_row = movies_df[movies_df['movieId'] == original_id[0]]\n",
    "    movie_name = movie_row['title'].values[0]\n",
    "    genres = movie_row['genre'].values[0]\n",
    "    vote_average = movie_row[movie_row['movieId'] == original_id[0]]['vote_average'].values[0]\n",
    "    return movie_name, genres, vote_average\n"
   ],
   "metadata": {
    "collapsed": false,
    "ExecuteTime": {
     "end_time": "2023-08-07T20:33:57.230030634Z",
     "start_time": "2023-08-07T20:33:56.655703313Z"
    }
   }
  },
  {
   "cell_type": "code",
   "execution_count": 27,
   "outputs": [],
   "source": [
    "def recommend(user_id, model, num_items):\n",
    "    user_ids = torch.tensor([user_id]*num_items).to(device)\n",
    "    movie_ids = torch.tensor(range(num_items)).to(device)\n",
    "\n",
    "    with torch.no_grad():\n",
    "        predictions = model(user_ids, movie_ids)\n",
    "\n",
    "    _, indices = torch.topk(predictions, 10)\n",
    "    top_10_movies = indices.cpu().numpy()\n",
    "\n",
    "    movie_details = [get_movie_details(movie_id) for movie_id in top_10_movies]\n",
    "\n",
    "    return movie_details\n"
   ],
   "metadata": {
    "collapsed": false,
    "ExecuteTime": {
     "end_time": "2023-08-07T20:33:57.698631411Z",
     "start_time": "2023-08-07T20:33:57.690207485Z"
    }
   }
  },
  {
   "cell_type": "code",
   "execution_count": 28,
   "outputs": [
    {
     "name": "stdout",
     "output_type": "stream",
     "text": [
      "Movie: The White Balloon\n",
      "Genres: Family\n",
      "Vote Average: 7.5\n",
      "\n",
      "\n",
      "Movie: The Amazing Panda Adventure\n",
      "Genres: Action\n",
      "Vote Average: 5.0\n",
      "\n",
      "\n",
      "Movie: A Serious Man\n",
      "Genres: Comedy\n",
      "Vote Average: 6.6\n",
      "\n",
      "\n",
      "Movie: Mirrormask\n",
      "Genres: Fantasy\n",
      "Vote Average: 6.6\n",
      "\n",
      "\n",
      "Movie: The Fighter\n",
      "Genres: Drama\n",
      "Vote Average: 7.2\n",
      "\n",
      "\n",
      "Movie: Warlock\n",
      "Genres: Adventure\n",
      "Vote Average: 5.8\n",
      "\n",
      "\n",
      "Movie: The Wolf Man\n",
      "Genres: Horror\n",
      "Vote Average: 7.2\n",
      "\n",
      "\n",
      "Movie: Little Big Man\n",
      "Genres: Adventure\n",
      "Vote Average: 7.5\n",
      "\n",
      "\n",
      "Movie: Series 7: The Contenders\n",
      "Genres: Action\n",
      "Vote Average: 6.3\n",
      "\n",
      "\n",
      "Movie: Death Sentence\n",
      "Genres: Action\n",
      "Vote Average: 6.4\n",
      "\n",
      "\n"
     ]
    }
   ],
   "source": [
    "user_id = 42  # Replace with the ID of the user you want to recommend movies to\n",
    "recommendations = recommend(user_id, model, num_items)\n",
    "for movie_name, genres, vote_average in recommendations:\n",
    "    print(f'Movie: {movie_name}')\n",
    "    print(f'Genres: {genres}')\n",
    "    print(f'Vote Average: {vote_average}')\n",
    "    print('\\n')\n"
   ],
   "metadata": {
    "collapsed": false,
    "ExecuteTime": {
     "end_time": "2023-08-07T20:33:58.277516285Z",
     "start_time": "2023-08-07T20:33:58.255859679Z"
    }
   }
  },
  {
   "cell_type": "code",
   "execution_count": null,
   "outputs": [],
   "source": [],
   "metadata": {
    "collapsed": false
   }
  }
 ],
 "metadata": {
  "kernelspec": {
   "display_name": "Python 3",
   "language": "python",
   "name": "python3"
  },
  "language_info": {
   "codemirror_mode": {
    "name": "ipython",
    "version": 2
   },
   "file_extension": ".py",
   "mimetype": "text/x-python",
   "name": "python",
   "nbconvert_exporter": "python",
   "pygments_lexer": "ipython2",
   "version": "2.7.6"
  }
 },
 "nbformat": 4,
 "nbformat_minor": 0
}
