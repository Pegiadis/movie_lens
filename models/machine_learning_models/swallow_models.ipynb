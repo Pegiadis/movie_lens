{
 "cells": [
  {
   "cell_type": "code",
   "execution_count": 3,
   "metadata": {
    "collapsed": true,
    "ExecuteTime": {
     "end_time": "2023-08-03T15:37:45.488545990Z",
     "start_time": "2023-08-03T15:37:45.248126532Z"
    }
   },
   "outputs": [],
   "source": [
    "import pandas as pd\n",
    "import numpy as np\n",
    "from sklearn.metrics.pairwise import pairwise_distances\n",
    "# Load your dataset here\n",
    "# For simplicity, we're using the Surprise library's built-in dataset.\n",
    "ratings_df = pd.read_csv('../../data/lens_tmdb/ratings_small.csv')\n",
    "\n",
    "movie_matrix = ratings_df.pivot(index='userId', columns='movieId', values='rating').fillna(0)\n",
    "user_similarity = pairwise_distances(movie_matrix, metric='cosine')\n",
    "\n",
    "def predict(ratings, similarity):\n",
    "    mean_user_rating = ratings.mean(axis=1)\n",
    "    ratings_diff = (ratings - mean_user_rating[:, np.newaxis])\n",
    "    pred = mean_user_rating[:, np.newaxis] + similarity.dot(ratings_diff) / np.array([np.abs(similarity).sum(axis=1)]).T\n",
    "    return pred\n",
    "\n",
    "user_prediction = predict(movie_matrix.values, user_similarity)\n"
   ]
  },
  {
   "cell_type": "code",
   "execution_count": 8,
   "outputs": [
    {
     "name": "stdout",
     "output_type": "stream",
     "text": [
      "Evaluating RMSE of algorithm SVD on 5 split(s).\n",
      "\n",
      "                  Fold 1  Fold 2  Fold 3  Fold 4  Fold 5  Mean    Std     \n",
      "RMSE (testset)    0.8901  0.9010  0.9009  0.8967  0.8931  0.8964  0.0043  \n",
      "Fit time          0.78    0.75    0.73    0.71    0.72    0.74    0.02    \n",
      "Test time         0.07    0.08    0.07    0.07    0.07    0.07    0.00    \n"
     ]
    },
    {
     "data": {
      "text/plain": "{'test_rmse': array([0.89011192, 0.90099057, 0.90087766, 0.89674713, 0.89305157]),\n 'fit_time': (0.7760848999023438,\n  0.7513971328735352,\n  0.7261896133422852,\n  0.7066209316253662,\n  0.722975492477417),\n 'test_time': (0.06829524040222168,\n  0.07726073265075684,\n  0.06988143920898438,\n  0.07341194152832031,\n  0.06951284408569336)}"
     },
     "execution_count": 8,
     "metadata": {},
     "output_type": "execute_result"
    }
   ],
   "source": [
    "from surprise import Reader, Dataset, SVD\n",
    "from surprise.model_selection import cross_validate\n",
    "\n",
    "\n",
    "reader = Reader(rating_scale=(0.5, 5))\n",
    "data = Dataset.load_from_df(ratings_df[['userId', 'movieId', 'rating']], reader)\n",
    "\n",
    "# Use the SVD algorithm.\n",
    "svd = SVD()\n",
    "\n",
    "# Compute the RMSE of the SVD algorithm.\n",
    "cross_validate(svd, data, measures=['RMSE'], cv=5, verbose=True)\n"
   ],
   "metadata": {
    "collapsed": false,
    "ExecuteTime": {
     "end_time": "2023-08-03T16:57:44.775627817Z",
     "start_time": "2023-08-03T16:57:40.090559847Z"
    }
   }
  },
  {
   "cell_type": "code",
   "execution_count": 7,
   "outputs": [
    {
     "data": {
      "text/plain": "Index(['userId', 'movieId', 'rating', 'timestamp'], dtype='object')"
     },
     "execution_count": 7,
     "metadata": {},
     "output_type": "execute_result"
    }
   ],
   "source": [
    "ratings_df.columns"
   ],
   "metadata": {
    "collapsed": false,
    "ExecuteTime": {
     "end_time": "2023-08-03T15:40:54.562168186Z",
     "start_time": "2023-08-03T15:40:54.556346999Z"
    }
   }
  },
  {
   "cell_type": "code",
   "execution_count": null,
   "outputs": [],
   "source": [],
   "metadata": {
    "collapsed": false
   }
  }
 ],
 "metadata": {
  "kernelspec": {
   "display_name": "Python 3",
   "language": "python",
   "name": "python3"
  },
  "language_info": {
   "codemirror_mode": {
    "name": "ipython",
    "version": 2
   },
   "file_extension": ".py",
   "mimetype": "text/x-python",
   "name": "python",
   "nbconvert_exporter": "python",
   "pygments_lexer": "ipython2",
   "version": "2.7.6"
  }
 },
 "nbformat": 4,
 "nbformat_minor": 0
}
