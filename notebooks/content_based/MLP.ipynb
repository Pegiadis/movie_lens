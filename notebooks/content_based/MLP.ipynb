{
 "cells": [
  {
   "cell_type": "code",
   "execution_count": 27,
   "outputs": [],
   "source": [
    "import pandas as pd\n",
    "import torch\n",
    "from torch.utils.data import DataLoader, TensorDataset\n",
    "import torch.nn as nn\n",
    "import torch.nn.functional as F\n",
    "from sklearn.model_selection import train_test_split\n",
    "\n",
    "\n",
    "# Load data\n",
    "df = pd.read_csv('../../data/kaggle_20m/movie_genres_ratings.csv')\n",
    "\n",
    "# Splitting features and target variable\n",
    "X = df.drop(columns=['movieId', 'title', 'rating'])\n",
    "y = df['rating']\n",
    "\n",
    "# Splitting data into training and test sets\n",
    "X_train, X_test, y_train, y_test = train_test_split(X, y, test_size=0.2, random_state=42)\n"
   ],
   "metadata": {
    "collapsed": false
   }
  },
  {
   "cell_type": "code",
   "execution_count": 28,
   "outputs": [],
   "source": [
    "# Convert data to PyTorch tensors\n",
    "X_train_tensor = torch.FloatTensor(X_train.values)\n",
    "y_train_tensor = torch.FloatTensor(y_train.values).view(-1, 1)\n",
    "X_test_tensor = torch.FloatTensor(X_test.values)\n",
    "y_test_tensor = torch.FloatTensor(y_test.values).view(-1, 1)\n",
    "\n",
    "# Create DataLoader objects\n",
    "train_dataset = TensorDataset(X_train_tensor, y_train_tensor)\n",
    "train_loader = DataLoader(train_dataset, batch_size=32, shuffle=True)\n",
    "\n",
    "test_dataset = TensorDataset(X_test_tensor, y_test_tensor)\n",
    "test_loader = DataLoader(test_dataset, batch_size=32)"
   ],
   "metadata": {
    "collapsed": false
   }
  },
  {
   "cell_type": "code",
   "execution_count": 29,
   "outputs": [],
   "source": [
    "# Define the MLP model with dropout and batch normalization\n",
    "class RobustMLP(nn.Module):\n",
    "    def __init__(self, input_dim):\n",
    "        super(RobustMLP, self).__init__()\n",
    "        self.fc1 = nn.Linear(input_dim, 128)\n",
    "        self.bn1 = nn.BatchNorm1d(128)\n",
    "        self.dropout1 = nn.Dropout(0.5)\n",
    "\n",
    "        self.fc2 = nn.Linear(128, 64)\n",
    "        self.bn2 = nn.BatchNorm1d(64)\n",
    "        self.dropout2 = nn.Dropout(0.5)\n",
    "\n",
    "        self.fc3 = nn.Linear(64, 1)\n",
    "\n",
    "    def forward(self, x):\n",
    "        x = F.relu(self.bn1(self.fc1(x)))\n",
    "        x = self.dropout1(x)\n",
    "\n",
    "        x = F.relu(self.bn2(self.fc2(x)))\n",
    "        x = self.dropout2(x)\n",
    "\n",
    "        return self.fc3(x)"
   ],
   "metadata": {
    "collapsed": false
   }
  },
  {
   "cell_type": "code",
   "execution_count": 30,
   "outputs": [],
   "source": [
    "# Initialize the model\n",
    "input_dim = X_train.shape[1]\n",
    "model = RobustMLP(input_dim)\n",
    "\n",
    "# Loss and optimizer\n",
    "optimizer = torch.optim.Adam(model.parameters(), lr=0.001)\n",
    "criterion = nn.MSELoss()\n",
    "\n",
    "# Training loop with early stopping\n",
    "num_epochs = 50\n",
    "best_loss = float('inf')\n",
    "train_losses = []\n",
    "test_losses = []\n",
    "train_rmse = []\n",
    "train_maes = []\n",
    "test_maes = []\n",
    "train_mses = []\n",
    "test_mses = []\n",
    "\n",
    "for epoch in range(num_epochs):\n",
    "    model.train()\n",
    "    epoch_train_losses = []\n",
    "    for batch_idx, (data, target) in enumerate(train_loader):\n",
    "        optimizer.zero_grad()\n",
    "        outputs = model(data)\n",
    "        loss = criterion(outputs, target)\n",
    "        epoch_train_losses.append(loss.item())\n",
    "        loss.backward()\n",
    "        optimizer.step()\n",
    "\n",
    "    avg_train_loss = sum(epoch_train_losses) / len(epoch_train_losses)\n",
    "    train_losses.append(avg_train_loss)\n",
    "\n",
    "    train_mae = torch.mean(torch.abs(outputs - target)).item()\n",
    "    epoch_train_rmse = torch.sqrt(torch.tensor(avg_train_loss)).item() # compute RMSE for this epoch\n",
    "    train_rmse.append(epoch_train_rmse) # append it to the list\n",
    "    train_maes.append(train_mae)\n",
    "    train_mses.append(avg_train_loss)\n",
    "\n",
    "\n",
    "    # Validation loss for early stopping\n",
    "    model.eval()\n",
    "    val_losses = []\n",
    "    val_maes = []\n",
    "    with torch.no_grad():\n",
    "        for data, target in test_loader:\n",
    "            outputs = model(data)\n",
    "            val_losses.append(criterion(outputs, target).item())\n",
    "            val_maes.append(torch.mean(torch.abs(outputs - target)).item())\n",
    "\n",
    "    avg_val_loss = sum(val_losses) / len(val_losses)\n",
    "    avg_val_mae = sum(val_maes) / len(val_maes)\n",
    "    val_rmse = torch.sqrt(torch.tensor(avg_val_loss)).item()\n",
    "\n",
    "    test_losses.append(avg_val_loss)\n",
    "    test_maes.append(avg_val_mae)\n",
    "    test_mses.append(avg_val_loss)\n",
    "\n",
    "    # if (epoch+1) % 10 == 0:\n",
    "    #     print(f'Epoch [{epoch+1}/{num_epochs}], Loss: {avg_train_loss:.4f}, Validation Loss: {avg_val_loss:.4f}')\n",
    "    #\n",
    "    # # Early stopping\n",
    "    # if avg_val_loss < best_loss:\n",
    "    #     best_loss = avg_val_loss\n",
    "    # else:\n",
    "    #     print(\"Early stopping\")\n",
    "    #     break\n",
    "\n"
   ],
   "metadata": {
    "collapsed": false
   }
  },
  {
   "cell_type": "code",
   "execution_count": 31,
   "outputs": [],
   "source": [
    "# Evaluation metrics\n",
    "model.eval()\n",
    "with torch.no_grad():\n",
    "    predictions = model(X_test_tensor)\n",
    "    mse = criterion(predictions, y_test_tensor).item()\n",
    "    mae = torch.mean(torch.abs(predictions - y_test_tensor)).item()\n",
    "    rmse = torch.sqrt(criterion(predictions, y_test_tensor)).item()\n",
    "\n",
    "print(f\"Test MSE: {mse:.4f}\")\n",
    "print(f\"Test MAE: {mae:.4f}\")\n",
    "print(f\"Test RMSE: {rmse:.4f}\")"
   ],
   "metadata": {
    "collapsed": false
   }
  },
  {
   "cell_type": "code",
   "execution_count": 32,
   "outputs": [],
   "source": [
    "import matplotlib.pyplot as plt\n",
    "import os\n",
    "\n",
    "# Create folder if it doesn't exist\n",
    "output_folder = \"../../metrics/overleaf\"\n",
    "if not os.path.exists(output_folder):\n",
    "    os.makedirs(output_folder)\n",
    "\n",
    "model_name = \"MLP\"\n",
    "\n",
    "# RMSE plot\n",
    "# RMSE plot\n",
    "plt.figure(figsize=(12, 6))\n",
    "plt.plot(train_rmse, label='Training RMSE')\n",
    "plt.plot(test_losses, label='Test RMSE')  # Note: test_losses holds RMSE values\n",
    "# ... other code ...\n",
    "\n",
    "plt.xlabel('Epochs')\n",
    "plt.ylabel('RMSE')\n",
    "plt.legend()\n",
    "plt.title(f'{model_name} - Training and Test RMSE over Epochs')\n",
    "plt.savefig(os.path.join(output_folder, f'{model_name}_rmse_plot.png'))  # Save the figure\n",
    "plt.show()\n",
    "\n",
    "# MAE plot\n",
    "plt.figure(figsize=(12, 6))\n",
    "plt.plot(train_maes, label='Training MAE')\n",
    "plt.plot(test_maes, label='Test MAE')\n",
    "plt.xlabel('Epochs')\n",
    "plt.ylabel('MAE')\n",
    "plt.legend()\n",
    "plt.title(f'{model_name} - Training and Test MAE over Epochs')\n",
    "plt.savefig(os.path.join(output_folder, f'{model_name}_mae_plot.png'))  # Save the figure\n",
    "plt.show()\n",
    "\n",
    "# MSE plot\n",
    "plt.figure(figsize=(12, 6))\n",
    "plt.plot(train_mses, label='Training MSE')\n",
    "plt.plot(test_mses, label='Test MSE')\n",
    "plt.xlabel('Epochs')\n",
    "plt.ylabel('MSE')\n",
    "plt.legend()\n",
    "plt.title(f'{model_name} - Training and Test MSE over Epochs')\n",
    "plt.savefig(os.path.join(output_folder, f'{model_name}_mse_plot.png'))  # Save the figure\n",
    "plt.show()"
   ],
   "metadata": {
    "collapsed": false
   }
  },
  {
   "cell_type": "code",
   "execution_count": null,
   "outputs": [],
   "source": [],
   "metadata": {
    "collapsed": false
   }
  }
 ],
 "metadata": {
  "kernelspec": {
   "display_name": "Python 3",
   "language": "python",
   "name": "python3"
  },
  "language_info": {
   "codemirror_mode": {
    "name": "ipython",
    "version": 2
   },
   "file_extension": ".py",
   "mimetype": "text/x-python",
   "name": "python",
   "nbconvert_exporter": "python",
   "pygments_lexer": "ipython2",
   "version": "2.7.6"
  }
 },
 "nbformat": 4,
 "nbformat_minor": 0
}
