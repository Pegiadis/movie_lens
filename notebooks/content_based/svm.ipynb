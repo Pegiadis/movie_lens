{
 "cells": [
  {
   "cell_type": "code",
   "execution_count": 1,
   "outputs": [],
   "source": [
    "import pandas as pd\n",
    "import numpy as np\n",
    "from sklearn.model_selection import train_test_split\n",
    "from sklearn.svm import SVR\n",
    "from sklearn.metrics import mean_squared_error, mean_absolute_error\n",
    "import matplotlib.pyplot as plt\n",
    "\n",
    "# Load data\n",
    "df = pd.read_csv('../../data/kaggle_20m/movie_genres_ratings.csv')\n",
    "\n",
    "# Splitting features and target variable\n",
    "X = df.drop(columns=['movieId', 'title', 'rating'])\n",
    "y = df['rating']\n",
    "\n",
    "# Splitting data into training and test sets\n",
    "X_train, X_test, y_train, y_test = train_test_split(X, y, test_size=0.2, random_state=42)\n"
   ],
   "metadata": {
    "collapsed": false,
    "ExecuteTime": {
     "end_time": "2023-09-10T19:30:21.734259018Z",
     "start_time": "2023-09-10T19:30:20.835812583Z"
    }
   }
  },
  {
   "cell_type": "code",
   "execution_count": 2,
   "outputs": [
    {
     "name": "stdout",
     "output_type": "stream",
     "text": [
      "SVR MSE on Test Set: 0.3933\n",
      "SVR RMSE on Test Set: 0.6271\n",
      "SVR MAE on Test Set: 0.4565\n"
     ]
    }
   ],
   "source": [
    "# Hyperparameters\n",
    "kernel = 'linear'\n",
    "C = 1.0\n",
    "epsilon = 0.1\n",
    "\n",
    "# Initialize the SVR model\n",
    "svr_model = SVR(kernel=kernel, C=C, epsilon=epsilon)\n",
    "svr_model.fit(X_train, y_train)\n",
    "\n",
    "# Predict on the test set\n",
    "svr_predictions = svr_model.predict(X_test)\n",
    "\n",
    "# Compute MSE, RMSE, and MAE\n",
    "svr_mse = mean_squared_error(y_test, svr_predictions)\n",
    "svr_rmse = np.sqrt(svr_mse)\n",
    "svr_mae = mean_absolute_error(y_test, svr_predictions)\n",
    "\n",
    "print(f\"SVR MSE on Test Set: {svr_mse:.4f}\")\n",
    "print(f\"SVR RMSE on Test Set: {svr_rmse:.4f}\")\n",
    "print(f\"SVR MAE on Test Set: {svr_mae:.4f}\")"
   ],
   "metadata": {
    "collapsed": false,
    "ExecuteTime": {
     "end_time": "2023-09-10T19:30:36.042914231Z",
     "start_time": "2023-09-10T19:30:21.738155432Z"
    }
   }
  },
  {
   "cell_type": "code",
   "execution_count": null,
   "outputs": [],
   "source": [],
   "metadata": {
    "collapsed": false
   }
  }
 ],
 "metadata": {
  "kernelspec": {
   "display_name": "Python 3",
   "language": "python",
   "name": "python3"
  },
  "language_info": {
   "codemirror_mode": {
    "name": "ipython",
    "version": 2
   },
   "file_extension": ".py",
   "mimetype": "text/x-python",
   "name": "python",
   "nbconvert_exporter": "python",
   "pygments_lexer": "ipython2",
   "version": "2.7.6"
  }
 },
 "nbformat": 4,
 "nbformat_minor": 0
}
