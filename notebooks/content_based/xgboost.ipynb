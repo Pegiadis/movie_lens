{
 "cells": [
  {
   "cell_type": "code",
   "execution_count": 3,
   "outputs": [],
   "source": [
    "import pandas as pd\n",
    "from sklearn.model_selection import train_test_split\n",
    "from sklearn.tree import DecisionTreeRegressor, plot_tree\n",
    "from sklearn.metrics import mean_squared_error, mean_absolute_error\n",
    "import matplotlib.pyplot as plt\n",
    "\n",
    "import pandas as pd\n",
    "df = pd.read_csv('../../data/kaggle_20m/movie_genres_ratings.csv')\n",
    "\n",
    "# Splitting features and target variable\n",
    "X = df.drop(columns=['movieId', 'title', 'rating'])\n",
    "y = df['rating']\n",
    "\n",
    "# Splitting data into training and test sets\n",
    "X_train, X_test, y_train, y_test = train_test_split(X, y, test_size=0.2, random_state=42)"
   ],
   "metadata": {
    "collapsed": false,
    "ExecuteTime": {
     "end_time": "2023-09-09T16:29:27.487936173Z",
     "start_time": "2023-09-09T16:29:27.417453544Z"
    }
   }
  },
  {
   "cell_type": "code",
   "execution_count": 4,
   "outputs": [],
   "source": [
    "import xgboost as xgb\n",
    "\n",
    "# Convert the dataset into DMatrix for XGBoost\n",
    "dtrain = xgb.DMatrix(X_train, label=y_train)\n",
    "dtest = xgb.DMatrix(X_test, label=y_test)\n",
    "\n",
    "# Set parameters\n",
    "params = {\n",
    "    'objective': 'reg:squarederror',  # Regression\n",
    "    'eval_metric': 'rmse',  # Root Mean Squared Error\n",
    "    'booster': 'gbtree',  # Use tree-based models\n",
    "    'verbosity': 1  # Printing logs\n",
    "}\n",
    "\n",
    "# Train the model\n",
    "num_rounds = 100\n",
    "bst = xgb.train(params, dtrain, num_rounds)\n"
   ],
   "metadata": {
    "collapsed": false,
    "ExecuteTime": {
     "end_time": "2023-09-09T16:29:29.999170196Z",
     "start_time": "2023-09-09T16:29:28.906259074Z"
    }
   }
  },
  {
   "cell_type": "code",
   "execution_count": 5,
   "outputs": [
    {
     "name": "stdout",
     "output_type": "stream",
     "text": [
      "XGBoost MSE on Test Set: 0.3861\n",
      "XGBoost MAE on Test Set: 0.4611\n"
     ]
    }
   ],
   "source": [
    "from sklearn.metrics import mean_squared_error, mean_absolute_error\n",
    "\n",
    "# Predict on the test set\n",
    "xgb_predictions = bst.predict(dtest)\n",
    "\n",
    "# Compute MSE and MAE\n",
    "xgb_mse = mean_squared_error(y_test, xgb_predictions)\n",
    "xgb_mae = mean_absolute_error(y_test, xgb_predictions)\n",
    "\n",
    "print(f\"XGBoost MSE on Test Set: {xgb_mse:.4f}\")\n",
    "print(f\"XGBoost MAE on Test Set: {xgb_mae:.4f}\")\n"
   ],
   "metadata": {
    "collapsed": false,
    "ExecuteTime": {
     "end_time": "2023-09-09T16:29:51.435432048Z",
     "start_time": "2023-09-09T16:29:51.375650501Z"
    }
   }
  },
  {
   "cell_type": "code",
   "execution_count": 6,
   "outputs": [
    {
     "name": "stdout",
     "output_type": "stream",
     "text": [
      "                                               title  predicted_rating\n",
      "14661                         Dead Time: Kala (2007)          4.524859\n",
      "9005   Life On A String (Bian chang Bian Zou) (1991)          4.302702\n",
      "24702                        The Bloody Olive (1997)          4.294578\n",
      "15840        Man Vanishes, A (Ningen Johatsu) (1967)          4.234326\n",
      "12559                 Aerial, The (La antena) (2007)          4.206073\n"
     ]
    }
   ],
   "source": [
    "def recommend_movies_xgb(model, user_data, df, top_n=5):\n",
    "    unseen_movies = df[~df['movieId'].isin(user_data['movieId'])]\n",
    "    features = xgb.DMatrix(unseen_movies.drop(columns=['movieId', 'title', 'rating']))\n",
    "    predicted_ratings = model.predict(features)\n",
    "    unseen_movies = unseen_movies.assign(predicted_rating=predicted_ratings)\n",
    "    return unseen_movies.nlargest(top_n, 'predicted_rating')[['title', 'predicted_rating']]\n",
    "\n",
    "user_data = df[df['title'].isin(['Toy Story (1995)', 'Jumanji (1995)'])]\n",
    "recommendations = recommend_movies_xgb(bst, user_data, df)\n",
    "print(recommendations)\n"
   ],
   "metadata": {
    "collapsed": false,
    "ExecuteTime": {
     "end_time": "2023-09-09T16:30:13.713321980Z",
     "start_time": "2023-09-09T16:30:13.595897019Z"
    }
   }
  },
  {
   "cell_type": "code",
   "execution_count": null,
   "outputs": [],
   "source": [],
   "metadata": {
    "collapsed": false
   }
  }
 ],
 "metadata": {
  "kernelspec": {
   "display_name": "Python 3",
   "language": "python",
   "name": "python3"
  },
  "language_info": {
   "codemirror_mode": {
    "name": "ipython",
    "version": 2
   },
   "file_extension": ".py",
   "mimetype": "text/x-python",
   "name": "python",
   "nbconvert_exporter": "python",
   "pygments_lexer": "ipython2",
   "version": "2.7.6"
  }
 },
 "nbformat": 4,
 "nbformat_minor": 0
}
