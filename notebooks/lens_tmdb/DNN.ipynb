{
 "cells": [
  {
   "cell_type": "code",
   "execution_count": 8,
   "metadata": {
    "collapsed": true,
    "ExecuteTime": {
     "end_time": "2023-08-02T19:07:50.592343064Z",
     "start_time": "2023-08-02T19:07:49.366843094Z"
    }
   },
   "outputs": [],
   "source": [
    "import pandas as pd\n",
    "import numpy as np\n",
    "import torch\n",
    "from torch import nn, optim\n",
    "from torch.utils.data import DataLoader, Dataset\n",
    "from sklearn.model_selection import train_test_split\n",
    "from sklearn.preprocessing import LabelEncoder"
   ]
  },
  {
   "cell_type": "code",
   "execution_count": 9,
   "outputs": [],
   "source": [
    "# ratings = pd.read_csv('../../data/lens_tmdb/ratings.csv')\n",
    "ratings = pd.read_csv('../../data/lens_tmdb/ratings_small.csv')\n",
    "info = pd.read_csv('../../data/lens_tmdb/cleaned/df_all.csv')"
   ],
   "metadata": {
    "collapsed": false,
    "ExecuteTime": {
     "end_time": "2023-08-02T19:07:52.210026475Z",
     "start_time": "2023-08-02T19:07:51.615190076Z"
    }
   }
  },
  {
   "cell_type": "code",
   "execution_count": 6,
   "outputs": [
    {
     "data": {
      "text/plain": "Index(['userId', 'movieId', 'rating', 'timestamp'], dtype='object')"
     },
     "execution_count": 6,
     "metadata": {},
     "output_type": "execute_result"
    }
   ],
   "source": [
    "ratings.columns"
   ],
   "metadata": {
    "collapsed": false,
    "ExecuteTime": {
     "end_time": "2023-08-02T18:59:24.008705068Z",
     "start_time": "2023-08-02T18:59:24.003776256Z"
    }
   }
  },
  {
   "cell_type": "code",
   "execution_count": 10,
   "outputs": [],
   "source": [
    "# Encode users and movies as integer indices\n",
    "user_enc = LabelEncoder()\n",
    "ratings['userId'] = user_enc.fit_transform(ratings['userId'].values)\n",
    "n_users = ratings['userId'].nunique()\n",
    "\n",
    "movie_enc = LabelEncoder()\n",
    "ratings['movieId'] = movie_enc.fit_transform(ratings['movieId'].values)\n",
    "n_movies = ratings['movieId'].nunique()\n",
    "\n",
    "# Split data into train and test sets\n",
    "train, test = train_test_split(ratings, test_size=0.2, random_state=42)\n"
   ],
   "metadata": {
    "collapsed": false,
    "ExecuteTime": {
     "end_time": "2023-08-02T19:07:57.920111379Z",
     "start_time": "2023-08-02T19:07:57.897169346Z"
    }
   }
  },
  {
   "cell_type": "code",
   "execution_count": 11,
   "outputs": [],
   "source": [
    "class MovieLensDataset(Dataset):\n",
    "    def __init__(self, ratings):\n",
    "        self.users = ratings['userId'].values\n",
    "        self.movies = ratings['movieId'].values\n",
    "        self.ratings = ratings['rating'].values\n",
    "\n",
    "    def __len__(self):\n",
    "        return len(self.ratings)\n",
    "\n",
    "    def __getitem__(self, idx):\n",
    "        return self.users[idx], self.movies[idx], self.ratings[idx]\n"
   ],
   "metadata": {
    "collapsed": false,
    "ExecuteTime": {
     "end_time": "2023-08-02T19:08:20.361094923Z",
     "start_time": "2023-08-02T19:08:20.322083705Z"
    }
   }
  },
  {
   "cell_type": "code",
   "execution_count": 14,
   "outputs": [],
   "source": [
    "class WideAndDeepModel(nn.Module):\n",
    "    def __init__(self, n_users, n_movies, n_factors, embedding_dropout, hidden_layers, dropouts):\n",
    "        super().__init__()\n",
    "\n",
    "        # Embeddings\n",
    "        self.user_embedding = nn.Embedding(n_users, n_factors)\n",
    "        self.movie_embedding = nn.Embedding(n_movies, n_factors)\n",
    "        self.embedding_dropout = nn.Dropout(embedding_dropout)\n",
    "\n",
    "        # Linear Layers\n",
    "        self.hidden_layers = nn.ModuleList([nn.Linear(n_factors*2, hidden_layers[0])])\n",
    "        for i in range(1, len(hidden_layers)):\n",
    "            self.hidden_layers.append(nn.Linear(hidden_layers[i-1], hidden_layers[i]))\n",
    "        self.output_layer = nn.Linear(hidden_layers[-1], 1)\n",
    "\n",
    "        # Dropout Layers\n",
    "        self.dropout_layers = nn.ModuleList([nn.Dropout(dropout) for dropout in dropouts])\n",
    "\n",
    "    def forward(self, users, movies):\n",
    "        user_embeds = self.user_embedding(users)\n",
    "        movie_embeds = self.movie_embedding(movies)\n",
    "\n",
    "        # Combine the embeddings (concatenate)\n",
    "        x = torch.cat([user_embeds, movie_embeds], dim=1)\n",
    "        x = self.embedding_dropout(x)\n",
    "\n",
    "        # Pass through the hidden layers\n",
    "        for hidden_layer, dropout_layer in zip(self.hidden_layers, self.dropout_layers):\n",
    "            x = hidden_layer(x)\n",
    "            x = nn.ReLU()(x)\n",
    "            x = dropout_layer(x)\n",
    "\n",
    "        # Output layer\n",
    "        out = self.output_layer(x)\n",
    "\n",
    "        return out\n"
   ],
   "metadata": {
    "collapsed": false,
    "ExecuteTime": {
     "end_time": "2023-08-02T19:09:48.413124644Z",
     "start_time": "2023-08-02T19:09:48.370977308Z"
    }
   }
  },
  {
   "cell_type": "code",
   "execution_count": 36,
   "outputs": [
    {
     "name": "stdout",
     "output_type": "stream",
     "text": [
      "Epoch 1, Loss: 1.7689365148544312\n",
      "Epoch 2, Loss: 1.6901477575302124\n",
      "Epoch 3, Loss: 1.6938292980194092\n",
      "Epoch 4, Loss: 1.3302524089813232\n",
      "Epoch 5, Loss: 1.5551340579986572\n",
      "Epoch 6, Loss: 1.098506212234497\n",
      "Epoch 7, Loss: 1.463148832321167\n",
      "Epoch 8, Loss: 1.4096421003341675\n",
      "Epoch 9, Loss: 1.0712894201278687\n",
      "Epoch 10, Loss: 1.361520767211914\n",
      "Epoch 11, Loss: 1.1772788763046265\n",
      "Epoch 12, Loss: 1.1101528406143188\n",
      "Epoch 13, Loss: 1.186075210571289\n",
      "Epoch 14, Loss: 0.9552815556526184\n",
      "Epoch 15, Loss: 1.363431453704834\n",
      "Epoch 16, Loss: 1.0876288414001465\n",
      "Epoch 17, Loss: 1.0177388191223145\n",
      "Epoch 18, Loss: 1.1412376165390015\n",
      "Epoch 19, Loss: 1.1930053234100342\n",
      "Epoch 20, Loss: 1.1718292236328125\n",
      "Epoch 21, Loss: 0.9862584471702576\n",
      "Epoch 22, Loss: 0.9349762201309204\n",
      "Epoch 23, Loss: 0.9419924020767212\n",
      "Epoch 24, Loss: 0.7715575695037842\n",
      "Epoch 25, Loss: 0.940818727016449\n",
      "Epoch 26, Loss: 0.9099485874176025\n",
      "Epoch 27, Loss: 1.1632298231124878\n",
      "Epoch 28, Loss: 1.0830600261688232\n",
      "Epoch 29, Loss: 1.1690621376037598\n",
      "Epoch 30, Loss: 0.9991977214813232\n",
      "Epoch 31, Loss: 0.9316251873970032\n",
      "Epoch 32, Loss: 0.9774672985076904\n",
      "Epoch 33, Loss: 0.830508291721344\n",
      "Epoch 34, Loss: 0.8603826761245728\n",
      "Epoch 35, Loss: 0.8955139517784119\n",
      "Epoch 36, Loss: 1.085758090019226\n",
      "Epoch 37, Loss: 0.9731370210647583\n",
      "Epoch 38, Loss: 1.0125340223312378\n",
      "Epoch 39, Loss: 0.8322324752807617\n",
      "Epoch 40, Loss: 0.9914102554321289\n",
      "Epoch 41, Loss: 0.8635866641998291\n",
      "Epoch 42, Loss: 0.9144611358642578\n",
      "Epoch 43, Loss: 0.8492315411567688\n",
      "Epoch 44, Loss: 0.9198475480079651\n",
      "Epoch 45, Loss: 0.6517910957336426\n",
      "Epoch 46, Loss: 0.8866643309593201\n",
      "Epoch 47, Loss: 0.8330549597740173\n",
      "Epoch 48, Loss: 0.7747695446014404\n",
      "Epoch 49, Loss: 0.7416566610336304\n",
      "Epoch 50, Loss: 0.6274818778038025\n",
      "Epoch 51, Loss: 0.8467832207679749\n",
      "Epoch 52, Loss: 0.9859966039657593\n",
      "Epoch 53, Loss: 0.7240526676177979\n",
      "Epoch 54, Loss: 0.6878116130828857\n",
      "Epoch 55, Loss: 0.8293879628181458\n",
      "Epoch 56, Loss: 0.7039741277694702\n",
      "Epoch 57, Loss: 0.703851044178009\n",
      "Epoch 58, Loss: 0.5683839321136475\n",
      "Epoch 59, Loss: 0.6435803174972534\n",
      "Epoch 60, Loss: 0.6318759918212891\n",
      "Epoch 61, Loss: 0.8418067693710327\n",
      "Epoch 62, Loss: 0.8513970375061035\n",
      "Epoch 63, Loss: 0.6148886680603027\n",
      "Epoch 64, Loss: 0.7602717280387878\n",
      "Epoch 65, Loss: 0.6674566864967346\n",
      "Epoch 66, Loss: 0.6906813383102417\n",
      "Epoch 67, Loss: 0.6761264801025391\n",
      "Epoch 68, Loss: 0.6785770058631897\n",
      "Epoch 69, Loss: 0.6763401031494141\n",
      "Epoch 70, Loss: 0.5895451903343201\n",
      "Epoch 71, Loss: 0.6015775203704834\n",
      "Epoch 72, Loss: 0.8326528072357178\n",
      "Epoch 73, Loss: 0.6814638376235962\n",
      "Epoch 74, Loss: 0.574783444404602\n",
      "Epoch 75, Loss: 0.7198302149772644\n",
      "Epoch 76, Loss: 0.7429255843162537\n",
      "Epoch 77, Loss: 0.570052444934845\n",
      "Epoch 78, Loss: 0.7122682929039001\n",
      "Epoch 79, Loss: 0.46217694878578186\n",
      "Epoch 80, Loss: 0.6612079739570618\n",
      "Epoch 81, Loss: 0.6294094324111938\n",
      "Epoch 82, Loss: 0.6760690808296204\n",
      "Epoch 83, Loss: 0.6334302425384521\n",
      "Epoch 84, Loss: 0.578597903251648\n",
      "Epoch 85, Loss: 0.5759360194206238\n",
      "Epoch 86, Loss: 0.6378139853477478\n",
      "Epoch 87, Loss: 0.4219556152820587\n",
      "Epoch 88, Loss: 0.648530125617981\n",
      "Epoch 89, Loss: 0.6376959681510925\n",
      "Epoch 90, Loss: 0.5184442400932312\n",
      "Epoch 91, Loss: 0.6092947721481323\n",
      "Epoch 92, Loss: 0.6867493987083435\n",
      "Epoch 93, Loss: 0.674712061882019\n",
      "Epoch 94, Loss: 0.5488871335983276\n",
      "Epoch 95, Loss: 0.7537363171577454\n",
      "Epoch 96, Loss: 0.523959219455719\n",
      "Epoch 97, Loss: 0.4082079231739044\n",
      "Epoch 98, Loss: 0.5183424353599548\n",
      "Epoch 99, Loss: 0.5528229475021362\n",
      "Epoch 100, Loss: 0.7418417930603027\n"
     ]
    }
   ],
   "source": [
    "device = torch.device('cuda' if torch.cuda.is_available() else 'cpu')\n",
    "\n",
    "# Create data loaders\n",
    "train_loader = DataLoader(MovieLensDataset(train), batch_size=1024, shuffle=True)\n",
    "test_loader = DataLoader(MovieLensDataset(test), batch_size=1024)\n",
    "\n",
    "# Create model\n",
    "model = WideAndDeepModel(n_users, n_movies, n_factors=50, embedding_dropout=0.05, hidden_layers=[128, 64], dropouts=[0.5, 0.5])\n",
    "model.to(device)\n",
    "\n",
    "# Define loss function and optimizer\n",
    "loss_func = nn.MSELoss()\n",
    "optimizer = optim.Adam(model.parameters(), lr=0.001)\n",
    "\n",
    "# Training loop\n",
    "for epoch in range(100):  # 10 epochs\n",
    "    model.train()\n",
    "    for users, movies, ratings in train_loader:\n",
    "        users = users.to(device)\n",
    "        movies = movies.to(device)\n",
    "        ratings = ratings.float().to(device)\n",
    "\n",
    "        optimizer.zero_grad()\n",
    "        preds = model(users, movies).squeeze()\n",
    "        loss = loss_func(preds, ratings)\n",
    "        loss.backward()\n",
    "        optimizer.step()\n",
    "\n",
    "    print(f\"Epoch {epoch+1}, Loss: {loss.item()}\")\n"
   ],
   "metadata": {
    "collapsed": false,
    "ExecuteTime": {
     "end_time": "2023-08-02T19:24:40.145996532Z",
     "start_time": "2023-08-02T19:24:17.111303338Z"
    }
   }
  },
  {
   "cell_type": "code",
   "execution_count": 37,
   "outputs": [
    {
     "name": "stdout",
     "output_type": "stream",
     "text": [
      "Predicted rating: 4.4666829109191895\n"
     ]
    }
   ],
   "source": [
    "# Ensure your model is in eval mode\n",
    "model.eval()\n",
    "\n",
    "# Get the device where your model is\n",
    "device = next(model.parameters()).device\n",
    "\n",
    "# User and Movie tensors\n",
    "user_tensor = torch.tensor([50]).to(device)\n",
    "movie_tensor = torch.tensor([100]).to(device)\n",
    "\n",
    "# Make the prediction\n",
    "with torch.no_grad():\n",
    "    prediction = model(user_tensor, movie_tensor)\n",
    "\n",
    "print(f\"Predicted rating: {prediction.item()}\")\n"
   ],
   "metadata": {
    "collapsed": false,
    "ExecuteTime": {
     "end_time": "2023-08-02T19:24:44.342297676Z",
     "start_time": "2023-08-02T19:24:44.337882747Z"
    }
   }
  },
  {
   "cell_type": "code",
   "execution_count": 38,
   "outputs": [
    {
     "name": "stdout",
     "output_type": "stream",
     "text": [
      "RMSE: 0.9105514287948608\n",
      "MAE: 0.6973023414611816\n"
     ]
    }
   ],
   "source": [
    "model.eval()\n",
    "test_preds = torch.tensor([]).to(device)\n",
    "test_targets = torch.tensor([]).to(device)\n",
    "\n",
    "with torch.no_grad():\n",
    "    for users, movies, ratings in test_loader:\n",
    "        users = users.to(device)\n",
    "        movies = movies.to(device)\n",
    "        ratings = ratings.float().to(device)\n",
    "\n",
    "        preds = model(users, movies).squeeze()\n",
    "\n",
    "        test_preds = torch.cat((test_preds, preds), dim=0)\n",
    "        test_targets = torch.cat((test_targets, ratings), dim=0)\n",
    "\n",
    "test_preds = test_preds.cpu().numpy()\n",
    "test_targets = test_targets.cpu().numpy()\n",
    "\n",
    "mse = ((test_preds - test_targets) ** 2).mean()\n",
    "rmse = np.sqrt(mse)\n",
    "mae = np.abs(test_preds - test_targets).mean()\n",
    "\n",
    "print(f\"RMSE: {rmse}\")\n",
    "print(f\"MAE: {mae}\")\n"
   ],
   "metadata": {
    "collapsed": false,
    "ExecuteTime": {
     "end_time": "2023-08-02T19:24:48.284696541Z",
     "start_time": "2023-08-02T19:24:48.226687061Z"
    }
   }
  },
  {
   "cell_type": "code",
   "execution_count": null,
   "outputs": [],
   "source": [],
   "metadata": {
    "collapsed": false
   }
  }
 ],
 "metadata": {
  "kernelspec": {
   "display_name": "Python 3",
   "language": "python",
   "name": "python3"
  },
  "language_info": {
   "codemirror_mode": {
    "name": "ipython",
    "version": 2
   },
   "file_extension": ".py",
   "mimetype": "text/x-python",
   "name": "python",
   "nbconvert_exporter": "python",
   "pygments_lexer": "ipython2",
   "version": "2.7.6"
  }
 },
 "nbformat": 4,
 "nbformat_minor": 0
}
