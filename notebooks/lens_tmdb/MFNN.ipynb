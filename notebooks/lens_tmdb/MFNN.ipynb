{
 "cells": [
  {
   "cell_type": "code",
   "execution_count": 7,
   "metadata": {
    "collapsed": true,
    "ExecuteTime": {
     "end_time": "2023-08-03T15:11:03.903945991Z",
     "start_time": "2023-08-03T15:11:03.849119755Z"
    }
   },
   "outputs": [],
   "source": [
    "import numpy as np\n",
    "import pandas as pd\n",
    "from sklearn.model_selection import train_test_split\n",
    "from sklearn.preprocessing import LabelEncoder\n",
    "import torch\n",
    "from torch import nn, optim\n",
    "\n",
    "# Load dataset\n",
    "df = pd.read_csv('../../data/lens_tmdb/ratings_small.csv')"
   ]
  },
  {
   "cell_type": "code",
   "execution_count": 8,
   "outputs": [],
   "source": [
    "# Use the LabelEncoder from sklearn to encode the movie and user IDs\n",
    "user_enc = LabelEncoder()\n",
    "df['userId'] = user_enc.fit_transform(df['userId'].values)\n",
    "n_users = df['userId'].nunique()\n",
    "\n",
    "item_enc = LabelEncoder()\n",
    "df['movieId'] = item_enc.fit_transform(df['movieId'].values)\n",
    "n_movies = df['movieId'].nunique()\n"
   ],
   "metadata": {
    "collapsed": false,
    "ExecuteTime": {
     "end_time": "2023-08-03T15:11:04.374912156Z",
     "start_time": "2023-08-03T15:11:04.341630581Z"
    }
   }
  },
  {
   "cell_type": "code",
   "execution_count": 9,
   "outputs": [],
   "source": [
    "train_df, val_df = train_test_split(df, test_size=0.2, random_state=42)\n",
    "\n",
    "train_df = torch.tensor(train_df.values, dtype=torch.float32)\n",
    "val_df = torch.tensor(val_df.values, dtype=torch.float32)\n"
   ],
   "metadata": {
    "collapsed": false,
    "ExecuteTime": {
     "end_time": "2023-08-03T15:11:05.145935107Z",
     "start_time": "2023-08-03T15:11:05.130522587Z"
    }
   }
  },
  {
   "cell_type": "code",
   "execution_count": 10,
   "outputs": [],
   "source": [
    "class MatrixFactorization(nn.Module):\n",
    "    def __init__(self, n_users, n_movies, n_factors=20):\n",
    "        super().__init__()\n",
    "        self.user_factors = nn.Embedding(n_users, n_factors)\n",
    "        self.movie_factors = nn.Embedding(n_movies, n_factors)\n",
    "\n",
    "    def forward(self, user, movie):\n",
    "        return (self.user_factors(user) * self.movie_factors(movie)).sum(1)\n"
   ],
   "metadata": {
    "collapsed": false,
    "ExecuteTime": {
     "end_time": "2023-08-03T15:11:05.701806219Z",
     "start_time": "2023-08-03T15:11:05.700906155Z"
    }
   }
  },
  {
   "cell_type": "code",
   "execution_count": 15,
   "outputs": [],
   "source": [
    "import torch.nn.functional as F\n",
    "\n",
    "\n",
    "def train(model, optimizer, data_loader):\n",
    "    model.train()\n",
    "    total_loss = 0\n",
    "    for data in data_loader:\n",
    "        user = data[:, 0].long()\n",
    "        movie = data[:, 1].long()\n",
    "        rating = data[:, 2].view(-1, 1)\n",
    "\n",
    "        # Reset the gradients to zero\n",
    "        optimizer.zero_grad()\n",
    "\n",
    "        # Forward pass\n",
    "        output = model(user, movie)\n",
    "        loss = F.mse_loss(output, rating)\n",
    "\n",
    "        # Backward pass and optimize\n",
    "        loss.backward()\n",
    "        optimizer.step()\n",
    "\n",
    "        total_loss += loss.item()\n",
    "\n",
    "    return total_loss / len(data_loader)\n",
    "\n",
    "\n",
    "def validate(model, data_loader):\n",
    "    model.eval()\n",
    "    total_loss = 0\n",
    "    with torch.no_grad():\n",
    "        for data in data_loader:\n",
    "            user = data[:, 0].long()\n",
    "            movie = data[:, 1].long()\n",
    "            rating = data[:, 2].view(-1, 1)\n",
    "\n",
    "            output = model(user, movie)\n",
    "            loss = F.mse_loss(output, rating)\n",
    "\n",
    "            total_loss += loss.item()\n",
    "\n",
    "    return total_loss / len(data_loader)\n"
   ],
   "metadata": {
    "collapsed": false,
    "ExecuteTime": {
     "end_time": "2023-08-03T15:12:29.469669300Z",
     "start_time": "2023-08-03T15:12:29.419800393Z"
    }
   }
  },
  {
   "cell_type": "code",
   "execution_count": 16,
   "outputs": [
    {
     "name": "stderr",
     "output_type": "stream",
     "text": [
      "/tmp/ipykernel_10781/356634936.py:17: UserWarning: Using a target size (torch.Size([1024, 1])) that is different to the input size (torch.Size([1024])). This will likely lead to incorrect results due to broadcasting. Please ensure they have the same size.\n",
      "  loss = F.mse_loss(output, rating)\n",
      "/tmp/ipykernel_10781/356634936.py:17: UserWarning: Using a target size (torch.Size([131, 1])) that is different to the input size (torch.Size([131])). This will likely lead to incorrect results due to broadcasting. Please ensure they have the same size.\n",
      "  loss = F.mse_loss(output, rating)\n",
      "/tmp/ipykernel_10781/356634936.py:38: UserWarning: Using a target size (torch.Size([1024, 1])) that is different to the input size (torch.Size([1024])). This will likely lead to incorrect results due to broadcasting. Please ensure they have the same size.\n",
      "  loss = F.mse_loss(output, rating)\n",
      "/tmp/ipykernel_10781/356634936.py:38: UserWarning: Using a target size (torch.Size([545, 1])) that is different to the input size (torch.Size([545])). This will likely lead to incorrect results due to broadcasting. Please ensure they have the same size.\n",
      "  loss = F.mse_loss(output, rating)\n"
     ]
    },
    {
     "name": "stdout",
     "output_type": "stream",
     "text": [
      "Epoch 1, Train Loss: 29.2176, Val Loss: 25.2156\n",
      "Epoch 2, Train Loss: 20.1802, Val Loss: 21.3025\n",
      "Epoch 3, Train Loss: 15.9003, Val Loss: 18.9560\n",
      "Epoch 4, Train Loss: 13.0065, Val Loss: 16.7279\n",
      "Epoch 5, Train Loss: 10.1000, Val Loss: 13.6848\n",
      "Epoch 6, Train Loss: 6.9374, Val Loss: 10.3133\n",
      "Epoch 7, Train Loss: 4.4825, Val Loss: 7.9190\n",
      "Epoch 8, Train Loss: 3.1242, Val Loss: 6.4963\n",
      "Epoch 9, Train Loss: 2.4153, Val Loss: 5.6132\n",
      "Epoch 10, Train Loss: 2.0221, Val Loss: 5.0168\n"
     ]
    }
   ],
   "source": [
    "model = MatrixFactorization(n_users, n_movies)\n",
    "optimizer = optim.Adam(model.parameters(), lr=0.01)\n",
    "train_loader = torch.utils.data.DataLoader(train_df, batch_size=1024, shuffle=True)\n",
    "val_loader = torch.utils.data.DataLoader(val_df, batch_size=1024)\n",
    "\n",
    "for epoch in range(10):\n",
    "    train_loss = train(model, optimizer, train_loader)\n",
    "    val_loss = validate(model, val_loader)\n",
    "    print(f\"Epoch {epoch+1}, Train Loss: {train_loss:.4f}, Val Loss: {val_loss:.4f}\")\n"
   ],
   "metadata": {
    "collapsed": false,
    "ExecuteTime": {
     "end_time": "2023-08-03T15:12:34.246725240Z",
     "start_time": "2023-08-03T15:12:30.047331541Z"
    }
   }
  },
  {
   "cell_type": "code",
   "execution_count": 17,
   "outputs": [],
   "source": [
    "def validate_metrics(model, data_loader):\n",
    "    model.eval()\n",
    "    total_mse_loss = 0\n",
    "    total_mae_loss = 0\n",
    "    total_count = 0\n",
    "    with torch.no_grad():\n",
    "        for data in data_loader:\n",
    "            user = data[:, 0].long()\n",
    "            movie = data[:, 1].long()\n",
    "            rating = data[:, 2].view(-1, 1)\n",
    "\n",
    "            output = model(user, movie)\n",
    "\n",
    "            mse_loss = F.mse_loss(output, rating, reduction='sum')\n",
    "            mae_loss = F.l1_loss(output, rating, reduction='sum')\n",
    "\n",
    "            total_mse_loss += mse_loss.item()\n",
    "            total_mae_loss += mae_loss.item()\n",
    "            total_count += data.size(0)\n",
    "\n",
    "    mean_mse_loss = total_mse_loss / total_count\n",
    "    mean_mae_loss = total_mae_loss / total_count\n",
    "\n",
    "    rmse = np.sqrt(mean_mse_loss)\n",
    "    mae = mean_mae_loss\n",
    "\n",
    "    return rmse, mae\n"
   ],
   "metadata": {
    "collapsed": false,
    "ExecuteTime": {
     "end_time": "2023-08-03T15:17:12.884751311Z",
     "start_time": "2023-08-03T15:17:12.840628452Z"
    }
   }
  },
  {
   "cell_type": "code",
   "execution_count": 20,
   "outputs": [
    {
     "name": "stderr",
     "output_type": "stream",
     "text": [
      "/tmp/ipykernel_10781/356634936.py:17: UserWarning: Using a target size (torch.Size([1024, 1])) that is different to the input size (torch.Size([1024])). This will likely lead to incorrect results due to broadcasting. Please ensure they have the same size.\n",
      "  loss = F.mse_loss(output, rating)\n",
      "/tmp/ipykernel_10781/356634936.py:17: UserWarning: Using a target size (torch.Size([131, 1])) that is different to the input size (torch.Size([131])). This will likely lead to incorrect results due to broadcasting. Please ensure they have the same size.\n",
      "  loss = F.mse_loss(output, rating)\n",
      "/tmp/ipykernel_10781/489443822.py:14: UserWarning: Using a target size (torch.Size([1024, 1])) that is different to the input size (torch.Size([1024])). This will likely lead to incorrect results due to broadcasting. Please ensure they have the same size.\n",
      "  mse_loss = F.mse_loss(output, rating, reduction='sum')\n",
      "/tmp/ipykernel_10781/489443822.py:15: UserWarning: Using a target size (torch.Size([1024, 1])) that is different to the input size (torch.Size([1024])). This will likely lead to incorrect results due to broadcasting. Please ensure they have the same size.\n",
      "  mae_loss = F.l1_loss(output, rating, reduction='sum')\n",
      "/tmp/ipykernel_10781/489443822.py:14: UserWarning: Using a target size (torch.Size([545, 1])) that is different to the input size (torch.Size([545])). This will likely lead to incorrect results due to broadcasting. Please ensure they have the same size.\n",
      "  mse_loss = F.mse_loss(output, rating, reduction='sum')\n",
      "/tmp/ipykernel_10781/489443822.py:15: UserWarning: Using a target size (torch.Size([545, 1])) that is different to the input size (torch.Size([545])). This will likely lead to incorrect results due to broadcasting. Please ensure they have the same size.\n",
      "  mae_loss = F.l1_loss(output, rating, reduction='sum')\n"
     ]
    },
    {
     "name": "stdout",
     "output_type": "stream",
     "text": [
      "Epoch 1, Train Loss: 1.1893, Val RMSE: 54.7467, Val MAE: 1233.4891\n",
      "Epoch 2, Train Loss: 1.1798, Val RMSE: 54.3114, Val MAE: 1223.0815\n",
      "Epoch 3, Train Loss: 1.1736, Val RMSE: 53.9109, Val MAE: 1212.8535\n",
      "Epoch 4, Train Loss: 1.1644, Val RMSE: 53.5469, Val MAE: 1203.7259\n",
      "Epoch 5, Train Loss: 1.1581, Val RMSE: 53.2244, Val MAE: 1194.0782\n",
      "Epoch 6, Train Loss: 1.1555, Val RMSE: 52.9234, Val MAE: 1187.0155\n",
      "Epoch 7, Train Loss: 1.1499, Val RMSE: 52.6812, Val MAE: 1180.4386\n",
      "Epoch 8, Train Loss: 1.1487, Val RMSE: 52.4161, Val MAE: 1174.7979\n",
      "Epoch 9, Train Loss: 1.1454, Val RMSE: 52.2127, Val MAE: 1169.1425\n",
      "Epoch 10, Train Loss: 1.1436, Val RMSE: 52.0071, Val MAE: 1164.2657\n",
      "Epoch 11, Train Loss: 1.1373, Val RMSE: 51.8290, Val MAE: 1158.2164\n",
      "Epoch 12, Train Loss: 1.1389, Val RMSE: 51.6682, Val MAE: 1155.7637\n",
      "Epoch 13, Train Loss: 1.1397, Val RMSE: 51.5033, Val MAE: 1150.7303\n",
      "Epoch 14, Train Loss: 1.1351, Val RMSE: 51.3652, Val MAE: 1148.0681\n",
      "Epoch 15, Train Loss: 1.1362, Val RMSE: 51.2347, Val MAE: 1144.9256\n",
      "Epoch 16, Train Loss: 1.1347, Val RMSE: 51.1089, Val MAE: 1141.6888\n",
      "Epoch 17, Train Loss: 1.1337, Val RMSE: 50.9812, Val MAE: 1139.5270\n",
      "Epoch 18, Train Loss: 1.1316, Val RMSE: 50.8871, Val MAE: 1136.5868\n",
      "Epoch 19, Train Loss: 1.1317, Val RMSE: 50.7752, Val MAE: 1133.4955\n",
      "Epoch 20, Train Loss: 1.1285, Val RMSE: 50.6676, Val MAE: 1131.6003\n",
      "Epoch 21, Train Loss: 1.1258, Val RMSE: 50.5958, Val MAE: 1129.2890\n",
      "Epoch 22, Train Loss: 1.1292, Val RMSE: 50.4839, Val MAE: 1127.1050\n",
      "Epoch 23, Train Loss: 1.1312, Val RMSE: 50.4188, Val MAE: 1126.1877\n",
      "Epoch 24, Train Loss: 1.1303, Val RMSE: 50.2941, Val MAE: 1123.1927\n",
      "Epoch 25, Train Loss: 1.1301, Val RMSE: 50.2343, Val MAE: 1122.4572\n",
      "Epoch 26, Train Loss: 1.1289, Val RMSE: 50.1352, Val MAE: 1119.6547\n",
      "Epoch 27, Train Loss: 1.1302, Val RMSE: 50.0753, Val MAE: 1119.8267\n",
      "Epoch 28, Train Loss: 1.1311, Val RMSE: 49.9699, Val MAE: 1116.2373\n",
      "Epoch 29, Train Loss: 1.1295, Val RMSE: 49.8965, Val MAE: 1114.2822\n",
      "Epoch 30, Train Loss: 1.1314, Val RMSE: 49.7942, Val MAE: 1113.1493\n",
      "Epoch 31, Train Loss: 1.1318, Val RMSE: 49.7522, Val MAE: 1111.3180\n",
      "Epoch 32, Train Loss: 1.1315, Val RMSE: 49.6399, Val MAE: 1109.8616\n",
      "Epoch 33, Train Loss: 1.1309, Val RMSE: 49.5918, Val MAE: 1110.8524\n",
      "Epoch 34, Train Loss: 1.1305, Val RMSE: 49.4767, Val MAE: 1107.5292\n",
      "Epoch 35, Train Loss: 1.1326, Val RMSE: 49.4108, Val MAE: 1105.5225\n",
      "Epoch 36, Train Loss: 1.1350, Val RMSE: 49.2764, Val MAE: 1105.4863\n",
      "Epoch 37, Train Loss: 1.1358, Val RMSE: 49.2665, Val MAE: 1107.2887\n",
      "Epoch 38, Train Loss: 1.1372, Val RMSE: 49.1262, Val MAE: 1103.4265\n",
      "Epoch 39, Train Loss: 1.1343, Val RMSE: 49.0271, Val MAE: 1100.6075\n",
      "Epoch 40, Train Loss: 1.1361, Val RMSE: 48.9654, Val MAE: 1098.6430\n",
      "Epoch 41, Train Loss: 1.1375, Val RMSE: 48.8530, Val MAE: 1097.3326\n",
      "Epoch 42, Train Loss: 1.1374, Val RMSE: 48.7558, Val MAE: 1096.1133\n",
      "Epoch 43, Train Loss: 1.1351, Val RMSE: 48.6578, Val MAE: 1097.4329\n",
      "Epoch 44, Train Loss: 1.1384, Val RMSE: 48.5945, Val MAE: 1093.1002\n",
      "Epoch 45, Train Loss: 1.1411, Val RMSE: 48.4569, Val MAE: 1092.7714\n",
      "Epoch 46, Train Loss: 1.1380, Val RMSE: 48.3695, Val MAE: 1089.1721\n",
      "Epoch 47, Train Loss: 1.1365, Val RMSE: 48.2483, Val MAE: 1088.4494\n",
      "Epoch 48, Train Loss: 1.1390, Val RMSE: 48.1549, Val MAE: 1086.5644\n",
      "Epoch 49, Train Loss: 1.1395, Val RMSE: 48.0382, Val MAE: 1085.7165\n",
      "Epoch 50, Train Loss: 1.1396, Val RMSE: 47.9590, Val MAE: 1086.4067\n",
      "Epoch 51, Train Loss: 1.1396, Val RMSE: 47.8406, Val MAE: 1083.6547\n",
      "Epoch 52, Train Loss: 1.1397, Val RMSE: 47.7291, Val MAE: 1081.6476\n",
      "Epoch 53, Train Loss: 1.1392, Val RMSE: 47.6481, Val MAE: 1081.8993\n",
      "Epoch 54, Train Loss: 1.1373, Val RMSE: 47.5410, Val MAE: 1077.2173\n",
      "Epoch 55, Train Loss: 1.1388, Val RMSE: 47.4477, Val MAE: 1075.4145\n",
      "Epoch 56, Train Loss: 1.1400, Val RMSE: 47.2865, Val MAE: 1075.2617\n",
      "Epoch 57, Train Loss: 1.1400, Val RMSE: 47.2316, Val MAE: 1072.5981\n",
      "Epoch 58, Train Loss: 1.1422, Val RMSE: 47.0618, Val MAE: 1072.5563\n",
      "Epoch 59, Train Loss: 1.1454, Val RMSE: 46.9732, Val MAE: 1068.8272\n",
      "Epoch 60, Train Loss: 1.1421, Val RMSE: 46.8259, Val MAE: 1068.7145\n",
      "Epoch 61, Train Loss: 1.1432, Val RMSE: 46.7928, Val MAE: 1068.0346\n",
      "Epoch 62, Train Loss: 1.1431, Val RMSE: 46.6355, Val MAE: 1063.6902\n",
      "Epoch 63, Train Loss: 1.1436, Val RMSE: 46.5067, Val MAE: 1064.2114\n",
      "Epoch 64, Train Loss: 1.1417, Val RMSE: 46.3928, Val MAE: 1060.3465\n",
      "Epoch 65, Train Loss: 1.1410, Val RMSE: 46.2531, Val MAE: 1056.2753\n",
      "Epoch 66, Train Loss: 1.1397, Val RMSE: 46.2190, Val MAE: 1059.2159\n",
      "Epoch 67, Train Loss: 1.1421, Val RMSE: 46.1262, Val MAE: 1055.8847\n",
      "Epoch 68, Train Loss: 1.1380, Val RMSE: 45.9713, Val MAE: 1054.0228\n",
      "Epoch 69, Train Loss: 1.1419, Val RMSE: 45.8997, Val MAE: 1054.6321\n",
      "Epoch 70, Train Loss: 1.1402, Val RMSE: 45.7735, Val MAE: 1051.4235\n",
      "Epoch 71, Train Loss: 1.1432, Val RMSE: 45.6951, Val MAE: 1052.7182\n",
      "Epoch 72, Train Loss: 1.1426, Val RMSE: 45.6105, Val MAE: 1046.2652\n",
      "Epoch 73, Train Loss: 1.1409, Val RMSE: 45.4810, Val MAE: 1043.7886\n",
      "Epoch 74, Train Loss: 1.1385, Val RMSE: 45.4041, Val MAE: 1043.2798\n",
      "Epoch 75, Train Loss: 1.1387, Val RMSE: 45.2902, Val MAE: 1045.0813\n",
      "Epoch 76, Train Loss: 1.1381, Val RMSE: 45.2278, Val MAE: 1043.9837\n",
      "Epoch 77, Train Loss: 1.1457, Val RMSE: 45.1037, Val MAE: 1037.7964\n",
      "Epoch 78, Train Loss: 1.1397, Val RMSE: 45.0681, Val MAE: 1042.3798\n",
      "Epoch 79, Train Loss: 1.1420, Val RMSE: 44.8997, Val MAE: 1039.4513\n",
      "Epoch 80, Train Loss: 1.1379, Val RMSE: 44.8468, Val MAE: 1034.1890\n",
      "Epoch 81, Train Loss: 1.1389, Val RMSE: 44.7292, Val MAE: 1034.1121\n",
      "Epoch 82, Train Loss: 1.1404, Val RMSE: 44.6858, Val MAE: 1029.7346\n",
      "Epoch 83, Train Loss: 1.1411, Val RMSE: 44.5558, Val MAE: 1029.9157\n",
      "Epoch 84, Train Loss: 1.1379, Val RMSE: 44.5162, Val MAE: 1031.0415\n",
      "Epoch 85, Train Loss: 1.1392, Val RMSE: 44.4201, Val MAE: 1027.8993\n",
      "Epoch 86, Train Loss: 1.1386, Val RMSE: 44.3601, Val MAE: 1027.6528\n",
      "Epoch 87, Train Loss: 1.1365, Val RMSE: 44.2877, Val MAE: 1025.9023\n",
      "Epoch 88, Train Loss: 1.1453, Val RMSE: 44.2053, Val MAE: 1022.6138\n",
      "Epoch 89, Train Loss: 1.1412, Val RMSE: 44.1159, Val MAE: 1020.5357\n",
      "Epoch 90, Train Loss: 1.1400, Val RMSE: 44.0308, Val MAE: 1021.4852\n",
      "Epoch 91, Train Loss: 1.1388, Val RMSE: 43.9491, Val MAE: 1019.1973\n",
      "Epoch 92, Train Loss: 1.1366, Val RMSE: 43.9197, Val MAE: 1020.0041\n",
      "Epoch 93, Train Loss: 1.1354, Val RMSE: 43.8427, Val MAE: 1015.5178\n",
      "Epoch 94, Train Loss: 1.1380, Val RMSE: 43.8122, Val MAE: 1020.9395\n",
      "Epoch 95, Train Loss: 1.1362, Val RMSE: 43.7174, Val MAE: 1015.2836\n",
      "Epoch 96, Train Loss: 1.1404, Val RMSE: 43.6880, Val MAE: 1014.3689\n",
      "Epoch 97, Train Loss: 1.1432, Val RMSE: 43.6035, Val MAE: 1014.8874\n",
      "Epoch 98, Train Loss: 1.1443, Val RMSE: 43.5634, Val MAE: 1010.1158\n",
      "Epoch 99, Train Loss: 1.1429, Val RMSE: 43.5031, Val MAE: 1010.7570\n",
      "Epoch 100, Train Loss: 1.1417, Val RMSE: 43.4083, Val MAE: 1007.5703\n"
     ]
    }
   ],
   "source": [
    "for epoch in range(100):\n",
    "    train_loss = train(model, optimizer, train_loader)\n",
    "    rmse, mae = validate_metrics(model, val_loader)\n",
    "    print(f\"Epoch {epoch+1}, Train Loss: {train_loss:.4f}, Val RMSE: {rmse:.4f}, Val MAE: {mae:.4f}\")\n"
   ],
   "metadata": {
    "collapsed": false,
    "ExecuteTime": {
     "end_time": "2023-08-03T15:19:48.030227992Z",
     "start_time": "2023-08-03T15:19:13.680711033Z"
    }
   }
  },
  {
   "cell_type": "code",
   "execution_count": null,
   "outputs": [],
   "source": [],
   "metadata": {
    "collapsed": false
   }
  }
 ],
 "metadata": {
  "kernelspec": {
   "display_name": "Python 3",
   "language": "python",
   "name": "python3"
  },
  "language_info": {
   "codemirror_mode": {
    "name": "ipython",
    "version": 2
   },
   "file_extension": ".py",
   "mimetype": "text/x-python",
   "name": "python",
   "nbconvert_exporter": "python",
   "pygments_lexer": "ipython2",
   "version": "2.7.6"
  }
 },
 "nbformat": 4,
 "nbformat_minor": 0
}
