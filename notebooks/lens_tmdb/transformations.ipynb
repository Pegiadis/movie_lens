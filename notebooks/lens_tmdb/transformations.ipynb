{
 "cells": [
  {
   "cell_type": "code",
   "execution_count": null,
   "metadata": {
    "collapsed": true,
    "is_executing": true
   },
   "outputs": [],
   "source": [
    "import pandas as pd\n",
    "import numpy as np\n",
    "# Load data\n",
    "md = pd.read_csv('../../data/lens_tmdb/movies_metadata.csv')\n",
    "# ratings = pd.read_csv('../../data/lens_tmdb/ratings.csv')"
   ]
  },
  {
   "cell_type": "markdown",
   "source": [
    "# movies_metadata.csv"
   ],
   "metadata": {
    "collapsed": false
   }
  },
  {
   "cell_type": "code",
   "execution_count": null,
   "outputs": [],
   "source": [
    "md"
   ],
   "metadata": {
    "collapsed": false,
    "is_executing": true
   }
  },
  {
   "cell_type": "code",
   "execution_count": null,
   "outputs": [],
   "source": [
    "import pandas as pd\n",
    "import ast\n",
    "\n",
    "# assuming df is your DataFrame\n",
    "# and assuming the dictionaries are stored as strings, we first need to convert them into actual Python objects\n",
    "dict_columns = ['belongs_to_collection', 'genres', 'production_companies', 'production_countries', 'spoken_languages']\n",
    "\n",
    "for col in dict_columns:\n",
    "    md[col] = md[col].apply(lambda x: ast.literal_eval(x) if isinstance(x, str) else np.nan)\n",
    "\n",
    "# Now, let's extract the information we want\n",
    "md['collection_name'] = md['belongs_to_collection'].apply(lambda x: x['name'] if isinstance(x, dict) else np.nan)\n",
    "md['genre'] = md['genres'].apply(lambda x: x[0]['name'] if isinstance(x, list) and len(x) > 0 else np.nan)\n",
    "md['production_company'] = md['production_companies'].apply(lambda x: x[0]['name'] if isinstance(x, list) and len(x) > 0 else np.nan)\n",
    "md['production_country'] = md['production_countries'].apply(lambda x: x[0]['name'] if isinstance(x, list) and len(x) > 0 else np.nan)\n",
    "md['spoken_language'] = md['spoken_languages'].apply(lambda x: x[0]['name'] if isinstance(x, list) and len(x) > 0 else np.nan)\n",
    "\n",
    "# now drop the original columns\n",
    "md = md.drop(columns=dict_columns)\n"
   ],
   "metadata": {
    "collapsed": false,
    "is_executing": true
   }
  },
  {
   "cell_type": "code",
   "execution_count": null,
   "outputs": [],
   "source": [
    "md"
   ],
   "metadata": {
    "collapsed": false,
    "is_executing": true
   }
  },
  {
   "cell_type": "code",
   "execution_count": null,
   "outputs": [],
   "source": [
    "md.columns"
   ],
   "metadata": {
    "collapsed": false,
    "is_executing": true
   }
  },
  {
   "cell_type": "code",
   "execution_count": null,
   "outputs": [],
   "source": [
    "# Save cleaned meta_data csv\n",
    "md.to_csv('../../data/lens_tmdb/cleaned/movies_metadata_cleaned.csv', index=False)"
   ],
   "metadata": {
    "collapsed": false,
    "is_executing": true
   }
  },
  {
   "cell_type": "code",
   "execution_count": null,
   "outputs": [],
   "source": [
    "md"
   ],
   "metadata": {
    "collapsed": false,
    "is_executing": true
   }
  },
  {
   "cell_type": "markdown",
   "source": [
    "# credits.csv"
   ],
   "metadata": {
    "collapsed": false
   }
  },
  {
   "cell_type": "code",
   "execution_count": null,
   "outputs": [],
   "source": [
    "credits = pd.read_csv('../../data/lens_tmdb/credits.csv')"
   ],
   "metadata": {
    "collapsed": false,
    "is_executing": true
   }
  },
  {
   "cell_type": "code",
   "execution_count": null,
   "outputs": [],
   "source": [
    "credits"
   ],
   "metadata": {
    "collapsed": false,
    "is_executing": true
   }
  },
  {
   "cell_type": "code",
   "execution_count": null,
   "outputs": [],
   "source": [
    "import ast\n",
    "# convert strings to lists of dictionaries\n",
    "credits['cast'] = credits['cast'].apply(ast.literal_eval)\n",
    "credits['crew'] = credits['crew'].apply(ast.literal_eval)\n",
    "\n",
    "# extract the names of the cast members\n",
    "credits['cast_names'] = credits['cast'].apply(lambda x: [i['name'] for i in x])\n",
    "\n",
    "# extract the director from the crew column\n",
    "credits['director'] = credits['crew'].apply(lambda x: [i['name'] for i in x if i['job'] == 'Director'])\n",
    "\n",
    "# you can now drop the original 'cast' and 'crew' columns if you want\n",
    "credits = credits.drop(columns=['cast', 'crew'])\n",
    "\n",
    "credits.head()\n"
   ],
   "metadata": {
    "collapsed": false,
    "is_executing": true
   }
  },
  {
   "cell_type": "code",
   "execution_count": null,
   "outputs": [],
   "source": [
    "# Save cleaned credits csv\n",
    "credits.to_csv('../../data/lens_tmdb/cleaned/credits_cleaned.csv', index=False)"
   ],
   "metadata": {
    "collapsed": false,
    "is_executing": true
   }
  },
  {
   "cell_type": "markdown",
   "source": [
    "# keywords.csv"
   ],
   "metadata": {
    "collapsed": false
   }
  },
  {
   "cell_type": "code",
   "execution_count": null,
   "outputs": [],
   "source": [
    "keywords = pd.read_csv('../../data/lens_tmdb/keywords.csv')"
   ],
   "metadata": {
    "collapsed": false,
    "is_executing": true
   }
  },
  {
   "cell_type": "code",
   "execution_count": null,
   "outputs": [],
   "source": [
    "keywords"
   ],
   "metadata": {
    "collapsed": false,
    "is_executing": true
   }
  },
  {
   "cell_type": "code",
   "execution_count": null,
   "outputs": [],
   "source": [
    "import pandas as pd\n",
    "import ast\n",
    "\n",
    "# convert strings to lists of dictionaries\n",
    "keywords['keywords'] = keywords['keywords'].apply(ast.literal_eval)\n",
    "\n",
    "# extract the keywords\n",
    "keywords['keyword_list'] = keywords['keywords'].apply(lambda x: [i['name'] for i in x])\n",
    "\n",
    "# you can now drop the original 'keywords' column if you want\n",
    "keywords_df = keywords.drop(columns=['keywords'])\n",
    "\n",
    "keywords_df.head()\n"
   ],
   "metadata": {
    "collapsed": false,
    "is_executing": true
   }
  },
  {
   "cell_type": "code",
   "execution_count": null,
   "outputs": [],
   "source": [
    "# Save cleaned keywords csv\n",
    "keywords_df.to_csv('../../data/lens_tmdb/cleaned/keywords_cleaned.csv', index=False)"
   ],
   "metadata": {
    "collapsed": false,
    "is_executing": true
   }
  },
  {
   "cell_type": "markdown",
   "source": [
    "# create final movie dataframe"
   ],
   "metadata": {
    "collapsed": false
   }
  },
  {
   "cell_type": "code",
   "execution_count": null,
   "outputs": [],
   "source": [
    "md_cleaned = pd.read_csv('../../data/lens_tmdb/cleaned/movies_metadata_cleaned.csv')\n",
    "credits_cleaned = pd.read_csv('../../data/lens_tmdb/cleaned/credits_cleaned.csv')\n",
    "keywords_cleaned = pd.read_csv('../../data/lens_tmdb/cleaned/keywords_cleaned.csv')\n",
    "ratings = pd.read_csv('../../data/lens_tmdb/ratings.csv')\n",
    "ratings_small = pd.read_csv('../../data/lens_tmdb/ratings_small.csv')\n",
    "links = pd.read_csv('../../data/lens_tmdb/links.csv')\n",
    "links_small = pd.read_csv('../../data/lens_tmdb/links_small.csv')"
   ],
   "metadata": {
    "collapsed": false,
    "is_executing": true
   }
  },
  {
   "cell_type": "markdown",
   "source": [
    "# create dataset ***info*** from movies_metadata, credits, keywords"
   ],
   "metadata": {
    "collapsed": false
   }
  },
  {
   "cell_type": "code",
   "execution_count": null,
   "outputs": [],
   "source": [
    "md_cleaned.columns"
   ],
   "metadata": {
    "collapsed": false,
    "is_executing": true
   }
  },
  {
   "cell_type": "code",
   "execution_count": null,
   "outputs": [],
   "source": [
    "keywords_cleaned.columns"
   ],
   "metadata": {
    "collapsed": false,
    "is_executing": true
   }
  },
  {
   "cell_type": "code",
   "execution_count": null,
   "outputs": [],
   "source": [
    "credits_cleaned.columns"
   ],
   "metadata": {
    "collapsed": false,
    "is_executing": true
   }
  },
  {
   "cell_type": "code",
   "execution_count": null,
   "outputs": [],
   "source": [
    "md_cleaned['id'] = pd.to_numeric(md_cleaned['id'], errors='coerce')\n",
    "md_cleaned = md_cleaned.dropna(subset=['id'])\n",
    "md_cleaned['id'] = md_cleaned['id'].astype(int)\n"
   ],
   "metadata": {
    "collapsed": false,
    "is_executing": true
   }
  },
  {
   "cell_type": "code",
   "execution_count": null,
   "outputs": [],
   "source": [
    "# set id column to int\n",
    "md_cleaned['id'] = md_cleaned['id'].astype(int)\n",
    "credits_cleaned['id'] = credits_cleaned['id'].astype(int)"
   ],
   "metadata": {
    "collapsed": false,
    "is_executing": true
   }
  },
  {
   "cell_type": "code",
   "execution_count": null,
   "outputs": [],
   "source": [
    "# merge md_cleaned and credits_cleaned\n",
    "info_df = pd.merge(md_cleaned, credits_cleaned, on='id')"
   ],
   "metadata": {
    "collapsed": false,
    "is_executing": true
   }
  },
  {
   "cell_type": "code",
   "execution_count": null,
   "outputs": [],
   "source": [
    "info_df.shape"
   ],
   "metadata": {
    "collapsed": false,
    "is_executing": true
   }
  },
  {
   "cell_type": "code",
   "execution_count": null,
   "outputs": [],
   "source": [
    "info_df.columns"
   ],
   "metadata": {
    "collapsed": false,
    "is_executing": true
   }
  },
  {
   "cell_type": "code",
   "execution_count": null,
   "outputs": [],
   "source": [
    "# merge info_df and keywords_cleaned\n",
    "info_df = pd.merge(info_df, keywords_cleaned, on='id')"
   ],
   "metadata": {
    "collapsed": false,
    "is_executing": true
   }
  },
  {
   "cell_type": "code",
   "execution_count": null,
   "outputs": [],
   "source": [
    "info_df.shape"
   ],
   "metadata": {
    "collapsed": false,
    "is_executing": true
   }
  },
  {
   "cell_type": "code",
   "execution_count": null,
   "outputs": [],
   "source": [
    "# rename column 'tmdbId' to 'tmdb_id'\n",
    "links =links.rename(columns={'tmdbId': 'id'})"
   ],
   "metadata": {
    "collapsed": false,
    "is_executing": true
   }
  },
  {
   "cell_type": "code",
   "execution_count": null,
   "outputs": [],
   "source": [
    "# drop nan values\n",
    "links = links.dropna(subset=['id'])\n",
    "# convert id column to int\n",
    "links['id'] = links['id'].astype(int)"
   ],
   "metadata": {
    "collapsed": false,
    "is_executing": true
   }
  },
  {
   "cell_type": "code",
   "execution_count": null,
   "outputs": [],
   "source": [
    "links"
   ],
   "metadata": {
    "collapsed": false,
    "is_executing": true
   }
  },
  {
   "cell_type": "code",
   "execution_count": null,
   "outputs": [],
   "source": [
    "merged_df_final = info_df.merge(links, how='left', on='id')"
   ],
   "metadata": {
    "collapsed": false,
    "is_executing": true
   }
  },
  {
   "cell_type": "code",
   "execution_count": null,
   "outputs": [],
   "source": [
    "merged_df_final"
   ],
   "metadata": {
    "collapsed": false,
    "is_executing": true
   }
  },
  {
   "cell_type": "code",
   "execution_count": null,
   "outputs": [],
   "source": [
    "# check if nan in movieId column and how many\n",
    "merged_df_final['movieId'].isnull().sum()"
   ],
   "metadata": {
    "collapsed": false,
    "is_executing": true
   }
  },
  {
   "cell_type": "code",
   "execution_count": null,
   "outputs": [],
   "source": [
    "# save merged_df_final to csv\n",
    "merged_df_final.to_csv('../../data/lens_tmdb/cleaned/df_all.csv', index=False)"
   ],
   "metadata": {
    "collapsed": false,
    "is_executing": true
   }
  },
  {
   "cell_type": "code",
   "execution_count": null,
   "outputs": [],
   "source": [],
   "metadata": {
    "collapsed": false,
    "is_executing": true
   }
  }
 ],
 "metadata": {
  "kernelspec": {
   "display_name": "Python 3",
   "language": "python",
   "name": "python3"
  },
  "language_info": {
   "codemirror_mode": {
    "name": "ipython",
    "version": 2
   },
   "file_extension": ".py",
   "mimetype": "text/x-python",
   "name": "python",
   "nbconvert_exporter": "python",
   "pygments_lexer": "ipython2",
   "version": "2.7.6"
  }
 },
 "nbformat": 4,
 "nbformat_minor": 0
}
