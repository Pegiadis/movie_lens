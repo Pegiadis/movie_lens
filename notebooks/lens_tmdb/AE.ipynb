{
 "cells": [
  {
   "cell_type": "code",
   "execution_count": 1,
   "outputs": [],
   "source": [
    "import torch\n",
    "import pandas as pd\n",
    "import numpy as np\n",
    "from torch import nn, optim\n",
    "from torch.utils.data import Dataset, DataLoader, random_split\n",
    "\n",
    "import torch.nn.functional as F\n",
    "from sklearn.preprocessing import LabelEncoder\n",
    "from sklearn.model_selection import train_test_split"
   ],
   "metadata": {
    "collapsed": false,
    "ExecuteTime": {
     "end_time": "2023-08-03T14:46:40.238905252Z",
     "start_time": "2023-08-03T14:46:38.869529754Z"
    }
   }
  },
  {
   "cell_type": "code",
   "execution_count": 2,
   "outputs": [],
   "source": [
    "data = pd.read_csv('../../data/lens_tmdb/ratings_small.csv')"
   ],
   "metadata": {
    "collapsed": false,
    "ExecuteTime": {
     "end_time": "2023-08-03T14:46:40.268930130Z",
     "start_time": "2023-08-03T14:46:40.238080123Z"
    }
   }
  },
  {
   "cell_type": "code",
   "execution_count": 3,
   "outputs": [],
   "source": [
    "ratings_df = data[['userId', 'movieId', 'rating']]"
   ],
   "metadata": {
    "collapsed": false,
    "ExecuteTime": {
     "end_time": "2023-08-03T14:51:27.107733181Z",
     "start_time": "2023-08-03T14:51:27.101838550Z"
    }
   }
  },
  {
   "cell_type": "code",
   "execution_count": 4,
   "outputs": [
    {
     "name": "stderr",
     "output_type": "stream",
     "text": [
      "/tmp/ipykernel_9792/3444312637.py:1: SettingWithCopyWarning: \n",
      "A value is trying to be set on a copy of a slice from a DataFrame.\n",
      "Try using .loc[row_indexer,col_indexer] = value instead\n",
      "\n",
      "See the caveats in the documentation: https://pandas.pydata.org/pandas-docs/stable/user_guide/indexing.html#returning-a-view-versus-a-copy\n",
      "  ratings_df['rating'] = ratings_df['rating'].apply(lambda x: 1 if x >= 4 else 0)\n"
     ]
    }
   ],
   "source": [
    "ratings_df['rating'] = ratings_df['rating'].apply(lambda x: 1 if x >= 4 else 0)\n"
   ],
   "metadata": {
    "collapsed": false,
    "ExecuteTime": {
     "end_time": "2023-08-03T14:51:32.854933063Z",
     "start_time": "2023-08-03T14:51:32.832590750Z"
    }
   }
  },
  {
   "cell_type": "code",
   "execution_count": 5,
   "outputs": [
    {
     "name": "stderr",
     "output_type": "stream",
     "text": [
      "/tmp/ipykernel_9792/477066680.py:2: SettingWithCopyWarning: \n",
      "A value is trying to be set on a copy of a slice from a DataFrame.\n",
      "Try using .loc[row_indexer,col_indexer] = value instead\n",
      "\n",
      "See the caveats in the documentation: https://pandas.pydata.org/pandas-docs/stable/user_guide/indexing.html#returning-a-view-versus-a-copy\n",
      "  ratings_df['userId'] = user_enc.fit_transform(ratings_df['userId'].values)\n",
      "/tmp/ipykernel_9792/477066680.py:5: SettingWithCopyWarning: \n",
      "A value is trying to be set on a copy of a slice from a DataFrame.\n",
      "Try using .loc[row_indexer,col_indexer] = value instead\n",
      "\n",
      "See the caveats in the documentation: https://pandas.pydata.org/pandas-docs/stable/user_guide/indexing.html#returning-a-view-versus-a-copy\n",
      "  ratings_df['movieId'] = item_enc.fit_transform(ratings_df['movieId'].values)\n"
     ]
    }
   ],
   "source": [
    "user_enc = LabelEncoder()\n",
    "ratings_df['userId'] = user_enc.fit_transform(ratings_df['userId'].values)\n",
    "\n",
    "item_enc = LabelEncoder()\n",
    "ratings_df['movieId'] = item_enc.fit_transform(ratings_df['movieId'].values)\n"
   ],
   "metadata": {
    "collapsed": false,
    "ExecuteTime": {
     "end_time": "2023-08-03T14:52:11.422606013Z",
     "start_time": "2023-08-03T14:52:11.378665351Z"
    }
   }
  },
  {
   "cell_type": "code",
   "execution_count": 6,
   "outputs": [],
   "source": [
    "train_df, test_df = train_test_split(ratings_df, test_size=0.2, random_state=42)\n"
   ],
   "metadata": {
    "collapsed": false,
    "ExecuteTime": {
     "end_time": "2023-08-03T14:52:17.171407976Z",
     "start_time": "2023-08-03T14:52:17.154980367Z"
    }
   }
  },
  {
   "cell_type": "code",
   "execution_count": 7,
   "outputs": [],
   "source": [
    "class MovieLensDataset(Dataset):\n",
    "    def __init__(self, ratings_df, num_users, num_items):\n",
    "        self.users = ratings_df['userId'].values.astype(np.int64)\n",
    "        self.items = ratings_df['movieId'].values.astype(np.int64)\n",
    "        self.ratings = ratings_df['rating'].values.astype(np.float32)\n",
    "\n",
    "        self.num_users = num_users\n",
    "        self.num_items = num_items\n",
    "\n",
    "    def __len__(self):\n",
    "        return len(self.users)\n",
    "\n",
    "    def __getitem__(self, idx):\n",
    "        return self.users[idx], self.items[idx], self.ratings[idx]\n"
   ],
   "metadata": {
    "collapsed": false,
    "ExecuteTime": {
     "end_time": "2023-08-03T14:52:22.344957294Z",
     "start_time": "2023-08-03T14:52:22.326388742Z"
    }
   }
  },
  {
   "cell_type": "code",
   "execution_count": 8,
   "outputs": [],
   "source": [
    "num_users = ratings_df['userId'].nunique()\n",
    "num_items = ratings_df['movieId'].nunique()\n",
    "\n",
    "train_dataset = MovieLensDataset(train_df, num_users, num_items)\n",
    "test_dataset = MovieLensDataset(test_df, num_users, num_items)\n",
    "\n",
    "train_loader = DataLoader(train_dataset, batch_size=1024, shuffle=True)\n",
    "test_loader = DataLoader(test_dataset, batch_size=1024)\n"
   ],
   "metadata": {
    "collapsed": false,
    "ExecuteTime": {
     "end_time": "2023-08-03T14:52:28.655333037Z",
     "start_time": "2023-08-03T14:52:28.649069486Z"
    }
   }
  },
  {
   "cell_type": "code",
   "execution_count": 9,
   "outputs": [],
   "source": [
    "class AutoEncoder(nn.Module):\n",
    "    def __init__(self, num_users, num_items, embedding_dim, hidden_dim):\n",
    "        super().__init__()\n",
    "        self.user_emb = nn.Embedding(num_users, embedding_dim)\n",
    "        self.item_emb = nn.Embedding(num_items, embedding_dim)\n",
    "        self.encoder = nn.Sequential(\n",
    "            nn.Linear(embedding_dim*2, hidden_dim),\n",
    "            nn.ReLU(),\n",
    "            nn.Linear(hidden_dim, embedding_dim*2)\n",
    "        )\n",
    "        self.decoder = nn.Sequential(\n",
    "            nn.Linear(embedding_dim*2, hidden_dim),\n",
    "            nn.ReLU(),\n",
    "            nn.Linear(hidden_dim, 1)\n",
    "        )\n",
    "\n",
    "    def forward(self, users, items):\n",
    "        user_emb = self.user_emb(users)\n",
    "        item_emb = self.item_emb(items)\n",
    "        x = torch.cat([user_emb, item_emb], dim=1)\n",
    "        x = self.encoder(x)\n",
    "        x = self.decoder(x)\n",
    "        return torch.sigmoid(x).squeeze()\n"
   ],
   "metadata": {
    "collapsed": false,
    "ExecuteTime": {
     "end_time": "2023-08-03T14:53:02.586832095Z",
     "start_time": "2023-08-03T14:53:02.548611344Z"
    }
   }
  },
  {
   "cell_type": "code",
   "execution_count": 10,
   "outputs": [
    {
     "name": "stdout",
     "output_type": "stream",
     "text": [
      "Epoch 1/10, Train Loss: 0.6283373568631425\n",
      "Epoch 2/10, Train Loss: 0.5580825684945795\n",
      "Epoch 3/10, Train Loss: 0.5201122183588487\n",
      "Epoch 4/10, Train Loss: 0.4897755573067484\n",
      "Epoch 5/10, Train Loss: 0.4612781269640862\n",
      "Epoch 6/10, Train Loss: 0.4274181572696831\n",
      "Epoch 7/10, Train Loss: 0.3940652190129968\n",
      "Epoch 8/10, Train Loss: 0.3555721459509451\n",
      "Epoch 9/10, Train Loss: 0.31800510649439656\n",
      "Epoch 10/10, Train Loss: 0.2836762883617908\n"
     ]
    }
   ],
   "source": [
    "device = torch.device(\"cuda\" if torch.cuda.is_available() else \"cpu\")\n",
    "model = AutoEncoder(num_users, num_items, embedding_dim=50, hidden_dim=100).to(device)\n",
    "criterion = nn.BCELoss()\n",
    "optimizer = optim.Adam(model.parameters(), lr=0.01)\n",
    "\n",
    "num_epochs = 10\n",
    "for epoch in range(num_epochs):\n",
    "    model.train()\n",
    "    train_loss = 0\n",
    "    for users, items, ratings in train_loader:\n",
    "        users = users.to(device)\n",
    "        items = items.to(device)\n",
    "        ratings = ratings.to(device)\n",
    "\n",
    "        optimizer.zero_grad()\n",
    "        outputs = model(users, items)\n",
    "        loss = criterion(outputs, ratings)\n",
    "        loss.backward()\n",
    "        optimizer.step()\n",
    "\n",
    "        train_loss += loss.item()\n",
    "\n",
    "    print(f'Epoch {epoch+1}/{num_epochs}, Train Loss: {train_loss/len(train_loader)}')\n",
    "\n"
   ],
   "metadata": {
    "collapsed": false,
    "ExecuteTime": {
     "end_time": "2023-08-03T14:53:13.147371133Z",
     "start_time": "2023-08-03T14:53:07.432376369Z"
    }
   }
  },
  {
   "cell_type": "code",
   "execution_count": 12,
   "outputs": [],
   "source": [
    "def mae(y_true, y_pred):\n",
    "    return torch.mean(torch.abs(y_true - y_pred))\n",
    "\n",
    "def rmse(y_true, y_pred):\n",
    "    return torch.sqrt(torch.mean((y_true - y_pred)**2))\n"
   ],
   "metadata": {
    "collapsed": false,
    "ExecuteTime": {
     "end_time": "2023-08-03T14:56:44.397082440Z",
     "start_time": "2023-08-03T14:56:44.352276543Z"
    }
   }
  },
  {
   "cell_type": "code",
   "execution_count": 13,
   "outputs": [
    {
     "name": "stdout",
     "output_type": "stream",
     "text": [
      "Test Loss: 0.9784244567155838\n",
      "Test MAE: 0.35926043093204496\n",
      "Test RMSE: 0.5020737618207931\n"
     ]
    }
   ],
   "source": [
    "model.eval()\n",
    "test_loss = 0\n",
    "test_mae = 0\n",
    "test_rmse = 0\n",
    "with torch.no_grad():\n",
    "    for users, items, ratings in test_loader:\n",
    "        users = users.to(device)\n",
    "        items = items.to(device)\n",
    "        ratings = ratings.to(device)\n",
    "\n",
    "        outputs = model(users, items)\n",
    "        loss = criterion(outputs, ratings)\n",
    "\n",
    "        test_loss += loss.item()\n",
    "        test_mae += mae(ratings, outputs).item()\n",
    "        test_rmse += rmse(ratings, outputs).item()\n",
    "\n",
    "print(f'Test Loss: {test_loss/len(test_loader)}')\n",
    "print(f'Test MAE: {test_mae/len(test_loader)}')\n",
    "print(f'Test RMSE: {test_rmse/len(test_loader)}')\n"
   ],
   "metadata": {
    "collapsed": false,
    "ExecuteTime": {
     "end_time": "2023-08-03T14:57:01.943903434Z",
     "start_time": "2023-08-03T14:57:01.902231274Z"
    }
   }
  },
  {
   "cell_type": "code",
   "execution_count": 27,
   "outputs": [],
   "source": [
    "movies_df = pd.read_csv('../../data/lens_tmdb/cleaned/df_all.csv')\n",
    "\n",
    "def get_movie_details(movie_id):\n",
    "    original_id = item_enc.inverse_transform([movie_id])\n",
    "    movie_row = movies_df[movies_df['movieId'] == original_id[0]]\n",
    "    movie_name = movie_row['title'].values[0]\n",
    "    genres = movie_row['genre'].values[0]\n",
    "    vote_average = movie_row[movie_row['movieId'] == original_id[0]]['vote_average'].values[0]\n",
    "    return movie_name, genres, vote_average\n"
   ],
   "metadata": {
    "collapsed": false,
    "ExecuteTime": {
     "end_time": "2023-08-03T15:03:47.629245013Z",
     "start_time": "2023-08-03T15:03:47.150609404Z"
    }
   }
  },
  {
   "cell_type": "code",
   "execution_count": 28,
   "outputs": [],
   "source": [
    "def recommend(user_id, model, num_items):\n",
    "    user_ids = torch.tensor([user_id]*num_items).to(device)\n",
    "    movie_ids = torch.tensor(range(num_items)).to(device)\n",
    "\n",
    "    with torch.no_grad():\n",
    "        predictions = model(user_ids, movie_ids)\n",
    "\n",
    "    _, indices = torch.topk(predictions, 10)\n",
    "    top_10_movies = indices.cpu().numpy()\n",
    "\n",
    "    movie_details = [get_movie_details(movie_id) for movie_id in top_10_movies]\n",
    "\n",
    "    return movie_details\n"
   ],
   "metadata": {
    "collapsed": false,
    "ExecuteTime": {
     "end_time": "2023-08-03T15:03:47.633107465Z",
     "start_time": "2023-08-03T15:03:47.631065992Z"
    }
   }
  },
  {
   "cell_type": "code",
   "execution_count": 29,
   "outputs": [
    {
     "name": "stdout",
     "output_type": "stream",
     "text": [
      "Movie: Paperman\n",
      "Genres: Animation\n",
      "Vote Average: 8.0\n",
      "\n",
      "\n",
      "Movie: Transamerica\n",
      "Genres: Drama\n",
      "Vote Average: 6.9\n",
      "\n",
      "\n",
      "Movie: Mostly Martha\n",
      "Genres: Romance\n",
      "Vote Average: 6.6\n",
      "\n",
      "\n",
      "Movie: The Crimson Pirate\n",
      "Genres: Action\n",
      "Vote Average: 6.9\n",
      "\n",
      "\n",
      "Movie: Kikujiro\n",
      "Genres: Comedy\n",
      "Vote Average: 7.5\n",
      "\n",
      "\n",
      "Movie: Smoke\n",
      "Genres: Comedy\n",
      "Vote Average: 7.2\n",
      "\n",
      "\n",
      "Movie: What Time Is It There?\n",
      "Genres: Drama\n",
      "Vote Average: 7.5\n",
      "\n",
      "\n",
      "Movie: Trouble in Paradise\n",
      "Genres: Comedy\n",
      "Vote Average: 7.3\n",
      "\n",
      "\n",
      "Movie: Tom Jones\n",
      "Genres: Adventure\n",
      "Vote Average: 6.1\n",
      "\n",
      "\n",
      "Movie: It Happened One Night\n",
      "Genres: Comedy\n",
      "Vote Average: 7.7\n",
      "\n",
      "\n"
     ]
    }
   ],
   "source": [
    "user_id = 42  # Replace with the ID of the user you want to recommend movies to\n",
    "recommendations = recommend(user_id, model, num_items)\n",
    "for movie_name, genres, vote_average in recommendations:\n",
    "    print(f'Movie: {movie_name}')\n",
    "    print(f'Genres: {genres}')\n",
    "    print(f'Vote Average: {vote_average}')\n",
    "    print('\\n')\n"
   ],
   "metadata": {
    "collapsed": false,
    "ExecuteTime": {
     "end_time": "2023-08-03T15:03:47.967516854Z",
     "start_time": "2023-08-03T15:03:47.925625370Z"
    }
   }
  },
  {
   "cell_type": "code",
   "execution_count": 30,
   "outputs": [
    {
     "data": {
      "text/plain": "Index(['adult', 'budget', 'homepage', 'id', 'imdb_id', 'original_language',\n       'original_title', 'overview', 'popularity', 'poster_path',\n       'release_date', 'revenue', 'runtime', 'status', 'tagline', 'title',\n       'video', 'vote_average', 'vote_count', 'collection_name', 'genre',\n       'production_company', 'production_country', 'spoken_language',\n       'cast_names', 'director', 'keyword_list', 'movieId', 'imdbId'],\n      dtype='object')"
     },
     "execution_count": 30,
     "metadata": {},
     "output_type": "execute_result"
    }
   ],
   "source": [
    "movies_df.columns"
   ],
   "metadata": {
    "collapsed": false,
    "ExecuteTime": {
     "end_time": "2023-08-03T15:41:43.033484109Z",
     "start_time": "2023-08-03T15:41:42.999467858Z"
    }
   }
  },
  {
   "cell_type": "code",
   "execution_count": null,
   "outputs": [],
   "source": [],
   "metadata": {
    "collapsed": false
   }
  }
 ],
 "metadata": {
  "kernelspec": {
   "display_name": "Python 3",
   "language": "python",
   "name": "python3"
  },
  "language_info": {
   "codemirror_mode": {
    "name": "ipython",
    "version": 2
   },
   "file_extension": ".py",
   "mimetype": "text/x-python",
   "name": "python",
   "nbconvert_exporter": "python",
   "pygments_lexer": "ipython2",
   "version": "2.7.6"
  }
 },
 "nbformat": 4,
 "nbformat_minor": 0
}
