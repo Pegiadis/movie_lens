{
 "cells": [
  {
   "cell_type": "markdown",
   "source": [
    "# Autoencoders for Collaborative Filtering"
   ],
   "metadata": {
    "collapsed": false
   }
  },
  {
   "cell_type": "code",
   "execution_count": 24,
   "outputs": [],
   "source": [
    "import torch\n",
    "import pandas as pd\n",
    "import numpy as np\n",
    "from torch import nn, optim\n",
    "from torch.utils.data import Dataset, DataLoader, random_split\n",
    "\n",
    "import torch.nn.functional as F\n",
    "from sklearn.preprocessing import LabelEncoder\n",
    "from sklearn.model_selection import train_test_split"
   ],
   "metadata": {
    "collapsed": false,
    "ExecuteTime": {
     "end_time": "2023-08-09T19:22:21.159172552Z",
     "start_time": "2023-08-09T19:22:21.155147669Z"
    }
   }
  },
  {
   "cell_type": "code",
   "execution_count": 25,
   "outputs": [],
   "source": [
    "data = pd.read_csv('../data/lens_tmdb/ratings_small.csv')"
   ],
   "metadata": {
    "collapsed": false,
    "ExecuteTime": {
     "end_time": "2023-08-09T19:22:21.373232574Z",
     "start_time": "2023-08-09T19:22:21.337890549Z"
    }
   }
  },
  {
   "cell_type": "code",
   "execution_count": 26,
   "outputs": [],
   "source": [
    "ratings_df = data[['userId', 'movieId', 'rating']]"
   ],
   "metadata": {
    "collapsed": false,
    "ExecuteTime": {
     "end_time": "2023-08-09T19:22:21.563176437Z",
     "start_time": "2023-08-09T19:22:21.518942346Z"
    }
   }
  },
  {
   "cell_type": "code",
   "execution_count": 27,
   "outputs": [
    {
     "name": "stderr",
     "output_type": "stream",
     "text": [
      "/tmp/ipykernel_9007/1744291944.py:1: SettingWithCopyWarning: \n",
      "A value is trying to be set on a copy of a slice from a DataFrame.\n",
      "Try using .loc[row_indexer,col_indexer] = value instead\n",
      "\n",
      "See the caveats in the documentation: https://pandas.pydata.org/pandas-docs/stable/user_guide/indexing.html#returning-a-view-versus-a-copy\n",
      "  ratings_df['rating'] = ratings_df['rating'].apply(lambda x: 1 if x >= 4 else 0)\n"
     ]
    }
   ],
   "source": [
    "ratings_df['rating'] = ratings_df['rating'].apply(lambda x: 1 if x >= 4 else 0)\n"
   ],
   "metadata": {
    "collapsed": false,
    "ExecuteTime": {
     "end_time": "2023-08-09T19:22:21.679624857Z",
     "start_time": "2023-08-09T19:22:21.679153466Z"
    }
   }
  },
  {
   "cell_type": "code",
   "execution_count": 28,
   "outputs": [
    {
     "name": "stderr",
     "output_type": "stream",
     "text": [
      "/tmp/ipykernel_9007/3728636018.py:2: SettingWithCopyWarning: \n",
      "A value is trying to be set on a copy of a slice from a DataFrame.\n",
      "Try using .loc[row_indexer,col_indexer] = value instead\n",
      "\n",
      "See the caveats in the documentation: https://pandas.pydata.org/pandas-docs/stable/user_guide/indexing.html#returning-a-view-versus-a-copy\n",
      "  ratings_df['userId'] = user_enc.fit_transform(ratings_df['userId'].values)\n",
      "/tmp/ipykernel_9007/3728636018.py:5: SettingWithCopyWarning: \n",
      "A value is trying to be set on a copy of a slice from a DataFrame.\n",
      "Try using .loc[row_indexer,col_indexer] = value instead\n",
      "\n",
      "See the caveats in the documentation: https://pandas.pydata.org/pandas-docs/stable/user_guide/indexing.html#returning-a-view-versus-a-copy\n",
      "  ratings_df['movieId'] = item_enc.fit_transform(ratings_df['movieId'].values)\n"
     ]
    }
   ],
   "source": [
    "user_enc = LabelEncoder()\n",
    "ratings_df['userId'] = user_enc.fit_transform(ratings_df['userId'].values)\n",
    "\n",
    "item_enc = LabelEncoder()\n",
    "ratings_df['movieId'] = item_enc.fit_transform(ratings_df['movieId'].values)\n"
   ],
   "metadata": {
    "collapsed": false,
    "ExecuteTime": {
     "end_time": "2023-08-09T19:22:21.827606485Z",
     "start_time": "2023-08-09T19:22:21.827084494Z"
    }
   }
  },
  {
   "cell_type": "markdown",
   "source": [
    "## Split the Data into Train and Test"
   ],
   "metadata": {
    "collapsed": false
   }
  },
  {
   "cell_type": "code",
   "execution_count": 29,
   "outputs": [],
   "source": [
    "train_df, test_df = train_test_split(ratings_df, test_size=0.2, random_state=42)\n"
   ],
   "metadata": {
    "collapsed": false,
    "ExecuteTime": {
     "end_time": "2023-08-09T19:22:22.191781059Z",
     "start_time": "2023-08-09T19:22:22.166885632Z"
    }
   }
  },
  {
   "cell_type": "markdown",
   "source": [
    "## Create Dataloaders"
   ],
   "metadata": {
    "collapsed": false
   }
  },
  {
   "cell_type": "code",
   "execution_count": 30,
   "outputs": [],
   "source": [
    "class MovieLensDataset(Dataset):\n",
    "    def __init__(self, ratings_df, num_users, num_items):\n",
    "        self.users = ratings_df['userId'].values.astype(np.int64)\n",
    "        self.items = ratings_df['movieId'].values.astype(np.int64)\n",
    "        self.ratings = ratings_df['rating'].values.astype(np.float32)\n",
    "\n",
    "        self.num_users = num_users\n",
    "        self.num_items = num_items\n",
    "\n",
    "    def __len__(self):\n",
    "        return len(self.users)\n",
    "\n",
    "    def __getitem__(self, idx):\n",
    "        return self.users[idx], self.items[idx], self.ratings[idx]\n"
   ],
   "metadata": {
    "collapsed": false,
    "ExecuteTime": {
     "end_time": "2023-08-09T19:22:22.722017747Z",
     "start_time": "2023-08-09T19:22:22.708799721Z"
    }
   }
  },
  {
   "cell_type": "code",
   "execution_count": 31,
   "outputs": [],
   "source": [
    "num_users = ratings_df['userId'].nunique()\n",
    "num_items = ratings_df['movieId'].nunique()\n",
    "\n",
    "train_dataset = MovieLensDataset(train_df, num_users, num_items)\n",
    "test_dataset = MovieLensDataset(test_df, num_users, num_items)\n",
    "\n",
    "train_loader = DataLoader(train_dataset, batch_size=1024, shuffle=True)\n",
    "test_loader = DataLoader(test_dataset, batch_size=1024)\n"
   ],
   "metadata": {
    "collapsed": false,
    "ExecuteTime": {
     "end_time": "2023-08-09T19:22:23.006522521Z",
     "start_time": "2023-08-09T19:22:22.995234855Z"
    }
   }
  },
  {
   "cell_type": "markdown",
   "source": [
    "# Create Model Architecture"
   ],
   "metadata": {
    "collapsed": false
   }
  },
  {
   "cell_type": "code",
   "execution_count": 32,
   "outputs": [],
   "source": [
    "class AutoEncoder(nn.Module):\n",
    "    def __init__(self, num_users, num_items, embedding_dim, hidden_dim):\n",
    "        super().__init__()\n",
    "        self.user_emb = nn.Embedding(num_users, embedding_dim)\n",
    "        self.item_emb = nn.Embedding(num_items, embedding_dim)\n",
    "        self.encoder = nn.Sequential(\n",
    "            nn.Linear(embedding_dim*2, hidden_dim),\n",
    "            nn.ReLU(),\n",
    "            nn.Linear(hidden_dim, embedding_dim*2)\n",
    "        )\n",
    "        self.decoder = nn.Sequential(\n",
    "            nn.Linear(embedding_dim*2, hidden_dim),\n",
    "            nn.ReLU(),\n",
    "            nn.Linear(hidden_dim, 1)\n",
    "        )\n",
    "\n",
    "    def forward(self, users, items):\n",
    "        user_emb = self.user_emb(users)\n",
    "        item_emb = self.item_emb(items)\n",
    "        x = torch.cat([user_emb, item_emb], dim=1)\n",
    "        x = self.encoder(x)\n",
    "        x = self.decoder(x)\n",
    "        return torch.sigmoid(x).squeeze()\n"
   ],
   "metadata": {
    "collapsed": false,
    "ExecuteTime": {
     "end_time": "2023-08-09T19:22:23.750434443Z",
     "start_time": "2023-08-09T19:22:23.699927546Z"
    }
   }
  },
  {
   "cell_type": "markdown",
   "source": [
    "### Metrics"
   ],
   "metadata": {
    "collapsed": false
   }
  },
  {
   "cell_type": "code",
   "execution_count": 33,
   "outputs": [],
   "source": [
    "def mae(y_true, y_pred):\n",
    "    return torch.mean(torch.abs(y_true - y_pred))\n",
    "\n",
    "def rmse(y_true, y_pred):\n",
    "    return torch.sqrt(torch.mean((y_true - y_pred)**2))\n"
   ],
   "metadata": {
    "collapsed": false,
    "ExecuteTime": {
     "end_time": "2023-08-09T19:22:24.638370588Z",
     "start_time": "2023-08-09T19:22:24.634798795Z"
    }
   }
  },
  {
   "cell_type": "markdown",
   "source": [
    "# Train the Model and Evaluate"
   ],
   "metadata": {
    "collapsed": false
   }
  },
  {
   "cell_type": "code",
   "execution_count": 35,
   "outputs": [
    {
     "name": "stdout",
     "output_type": "stream",
     "text": [
      "Epoch 1/10, Train Loss: 0.6285493411595309\n",
      "Test Loss: 0.5928095757961274\n",
      "Test MAE: 0.4121198892593384\n",
      "Test RMSE: 0.4510991543531418\n",
      "Epoch 2/10, Train Loss: 0.5567697279060944\n",
      "Test Loss: 0.5868181854486465\n",
      "Test MAE: 0.3758763074874878\n",
      "Test RMSE: 0.4453134283423424\n",
      "Epoch 3/10, Train Loss: 0.5177471784851219\n",
      "Test Loss: 0.5757574439048767\n",
      "Test MAE: 0.3805663362145424\n",
      "Test RMSE: 0.4417852386832237\n",
      "Epoch 4/10, Train Loss: 0.49217193903802314\n",
      "Test Loss: 0.5884455144405365\n",
      "Test MAE: 0.3679591238498688\n",
      "Test RMSE: 0.4451324850320816\n",
      "Epoch 5/10, Train Loss: 0.46302632666841337\n",
      "Test Loss: 0.6096698015928268\n",
      "Test MAE: 0.3733930096030235\n",
      "Test RMSE: 0.45029074251651763\n",
      "Epoch 6/10, Train Loss: 0.4339935515500322\n",
      "Test Loss: 0.6880950421094895\n",
      "Test MAE: 0.3573043763637543\n",
      "Test RMSE: 0.46465991884469987\n",
      "Epoch 7/10, Train Loss: 0.40028552088556413\n",
      "Test Loss: 0.7415974885225296\n",
      "Test MAE: 0.3581537947058678\n",
      "Test RMSE: 0.4705417200922966\n",
      "Epoch 8/10, Train Loss: 0.36352334256413615\n",
      "Test Loss: 0.7582478880882263\n",
      "Test MAE: 0.3650835305452347\n",
      "Test RMSE: 0.4764091745018959\n",
      "Epoch 9/10, Train Loss: 0.330764850483665\n",
      "Test Loss: 0.8638488948345184\n",
      "Test MAE: 0.3535103306174278\n",
      "Test RMSE: 0.48965385407209394\n",
      "Epoch 10/10, Train Loss: 0.2990615937528731\n",
      "Test Loss: 0.9446578741073608\n",
      "Test MAE: 0.356354795396328\n",
      "Test RMSE: 0.4959993749856949\n"
     ]
    }
   ],
   "source": [
    "device = torch.device(\"cuda\" if torch.cuda.is_available() else \"cpu\")\n",
    "model = AutoEncoder(num_users, num_items, embedding_dim=50, hidden_dim=100).to(device)\n",
    "criterion = nn.BCELoss()\n",
    "optimizer = optim.Adam(model.parameters(), lr=0.01)\n",
    "train_losses = []\n",
    "test_losses = []\n",
    "maes = []\n",
    "rmses = []\n",
    "\n",
    "num_epochs = 10\n",
    "for epoch in range(num_epochs):\n",
    "    model.train()\n",
    "    train_loss = 0\n",
    "    for users, items, ratings in train_loader:\n",
    "        users = users.to(device)\n",
    "        items = items.to(device)\n",
    "        ratings = ratings.to(device)\n",
    "\n",
    "        optimizer.zero_grad()\n",
    "        outputs = model(users, items)\n",
    "        loss = criterion(outputs, ratings)\n",
    "        loss.backward()\n",
    "        optimizer.step()\n",
    "\n",
    "        train_loss += loss.item()\n",
    "\n",
    "    train_loss /= len(train_loader) # calculate average loss per epoch\n",
    "    train_losses.append(train_loss)\n",
    "    print(f'Epoch {epoch+1}/{num_epochs}, Train Loss: {train_loss}')\n",
    "\n",
    "    model.eval()\n",
    "    test_loss = 0\n",
    "    test_mae = 0\n",
    "    test_rmse = 0\n",
    "    with torch.no_grad():\n",
    "        for users, items, ratings in test_loader:\n",
    "            users = users.to(device)\n",
    "            items = items.to(device)\n",
    "            ratings = ratings.to(device)\n",
    "\n",
    "            outputs = model(users, items)\n",
    "            loss = criterion(outputs, ratings)\n",
    "\n",
    "            test_loss += loss.item()\n",
    "            test_mae += mae(ratings, outputs).item()\n",
    "            test_rmse += rmse(ratings, outputs).item()\n",
    "\n",
    "        test_loss /= len(test_loader) # calculate average test loss per epoch\n",
    "        test_losses.append(test_loss)\n",
    "\n",
    "        test_mae /= len(test_loader) # calculate average mae per epoch\n",
    "        maes.append(test_mae)\n",
    "\n",
    "        test_rmse /= len(test_loader) # calculate average rmse per epoch\n",
    "        rmses.append(test_rmse)\n",
    "\n",
    "    print(f'Test Loss: {test_loss}')\n",
    "    print(f'Test MAE: {test_mae}')\n",
    "    print(f'Test RMSE: {test_rmse}')\n",
    "\n",
    "\n"
   ],
   "metadata": {
    "collapsed": false,
    "ExecuteTime": {
     "end_time": "2023-08-09T19:22:49.196015776Z",
     "start_time": "2023-08-09T19:22:46.165224616Z"
    }
   }
  },
  {
   "cell_type": "markdown",
   "source": [
    "# Visualize the Losses"
   ],
   "metadata": {
    "collapsed": false
   }
  },
  {
   "cell_type": "code",
   "execution_count": 36,
   "outputs": [
    {
     "data": {
      "text/plain": "<Figure size 1000x600 with 1 Axes>",
      "image/png": "[encoded data removed]"
     },
     "metadata": {},
     "output_type": "display_data"
    },
    {
     "data": {
      "text/plain": "<Figure size 1000x500 with 1 Axes>",
      "image/png": "[encoded data removed]"
     },
     "metadata": {},
     "output_type": "display_data"
    },
    {
     "data": {
      "text/plain": "<Figure size 1000x500 with 1 Axes>",
      "image/png": "[encoded data removed]"
     },
     "metadata": {},
     "output_type": "display_data"
    }
   ],
   "source": [
    "import matplotlib.pyplot as plt\n",
    "\n",
    "# Plot the losses vs. epochs for training and test sets\n",
    "epochs = range(1, num_epochs + 1)\n",
    "\n",
    "plt.figure(figsize=(10, 6))\n",
    "plt.plot(epochs, train_losses, label=\"Training Loss\")\n",
    "plt.plot(epochs, test_losses, label=\"Test Loss\")\n",
    "plt.title(\"Training vs. Test Loss\")\n",
    "plt.xlabel(\"Epochs\")\n",
    "plt.ylabel(\"Loss\")\n",
    "plt.legend()\n",
    "plt.grid(True)\n",
    "plt.show()\n",
    "\n",
    "# Plot the RMSE\n",
    "plt.figure(figsize=(10,5))\n",
    "plt.plot(np.arange(num_epochs), rmses)\n",
    "plt.xlabel('Epochs')\n",
    "plt.ylabel('RMSE')\n",
    "plt.title('Test RMSE')\n",
    "plt.show()\n",
    "\n",
    "# To visualize the distribution of errors on test data\n",
    "# Assume `errors` as absolute difference between predictions and actual ratings\n",
    "errors = torch.abs(outputs - ratings).view(-1).cpu().numpy()\n",
    "\n",
    "plt.figure(figsize=(10,5))\n",
    "plt.hist(errors, bins='auto')\n",
    "plt.xlabel('Error')\n",
    "plt.ylabel('Frequency')\n",
    "plt.title('Distribution of prediction errors on Test set')\n",
    "plt.show()"
   ],
   "metadata": {
    "collapsed": false,
    "ExecuteTime": {
     "end_time": "2023-08-09T19:22:54.388231297Z",
     "start_time": "2023-08-09T19:22:53.976285923Z"
    }
   }
  },
  {
   "cell_type": "markdown",
   "source": [
    "# Make Recommendations"
   ],
   "metadata": {
    "collapsed": false
   }
  },
  {
   "cell_type": "code",
   "execution_count": 20,
   "outputs": [],
   "source": [
    "movies_df = pd.read_csv('../data/lens_tmdb/cleaned/df_all.csv')\n",
    "\n",
    "def get_movie_details(movie_id):\n",
    "    original_id = item_enc.inverse_transform([movie_id])\n",
    "    movie_row = movies_df[movies_df['movieId'] == original_id[0]]\n",
    "    movie_name = movie_row['title'].values[0]\n",
    "    genres = movie_row['genre'].values[0]\n",
    "    vote_average = movie_row[movie_row['movieId'] == original_id[0]]['vote_average'].values[0]\n",
    "    return movie_name, genres, vote_average\n"
   ],
   "metadata": {
    "collapsed": false,
    "ExecuteTime": {
     "end_time": "2023-08-09T19:17:21.427948047Z",
     "start_time": "2023-08-09T19:17:20.914977883Z"
    }
   }
  },
  {
   "cell_type": "code",
   "execution_count": 21,
   "outputs": [],
   "source": [
    "def recommend(user_id, model, num_items):\n",
    "    user_ids = torch.tensor([user_id]*num_items).to(device)\n",
    "    movie_ids = torch.tensor(range(num_items)).to(device)\n",
    "\n",
    "    with torch.no_grad():\n",
    "        predictions = model(user_ids, movie_ids)\n",
    "\n",
    "    _, indices = torch.topk(predictions, 10)\n",
    "    top_10_movies = indices.cpu().numpy()\n",
    "\n",
    "    movie_details = [get_movie_details(movie_id) for movie_id in top_10_movies]\n",
    "\n",
    "    return movie_details\n"
   ],
   "metadata": {
    "collapsed": false,
    "ExecuteTime": {
     "end_time": "2023-08-09T19:17:21.431146397Z",
     "start_time": "2023-08-09T19:17:21.430077376Z"
    }
   }
  },
  {
   "cell_type": "code",
   "execution_count": 22,
   "outputs": [
    {
     "name": "stdout",
     "output_type": "stream",
     "text": [
      "Movie: Louis C.K.: Shameless\n",
      "Genres: Comedy\n",
      "Vote Average: 7.8\n",
      "\n",
      "\n",
      "Movie: Girls Just Want to Have Fun\n",
      "Genres: Comedy\n",
      "Vote Average: 6.5\n",
      "\n",
      "\n",
      "Movie: Tom Jones\n",
      "Genres: Adventure\n",
      "Vote Average: 6.1\n",
      "\n",
      "\n",
      "Movie: Red Beard\n",
      "Genres: Drama\n",
      "Vote Average: 8.1\n",
      "\n",
      "\n",
      "Movie: Quest for Camelot\n",
      "Genres: Fantasy\n",
      "Vote Average: 6.9\n",
      "\n",
      "\n",
      "Movie: Drunken Master\n",
      "Genres: Action\n",
      "Vote Average: 7.2\n",
      "\n",
      "\n",
      "Movie: Stolen Kisses\n",
      "Genres: Comedy\n",
      "Vote Average: 7.4\n",
      "\n",
      "\n",
      "Movie: Character\n",
      "Genres: Drama\n",
      "Vote Average: 7.7\n",
      "\n",
      "\n",
      "Movie: Anchors Aweigh\n",
      "Genres: Comedy\n",
      "Vote Average: 6.3\n",
      "\n",
      "\n",
      "Movie: Thirty Two Short Films About Glenn Gould\n",
      "Genres: Drama\n",
      "Vote Average: 7.4\n",
      "\n",
      "\n"
     ]
    }
   ],
   "source": [
    "user_id = 42  # Replace with the ID of the user you want to recommend movies to\n",
    "recommendations = recommend(user_id, model, num_items)\n",
    "for movie_name, genres, vote_average in recommendations:\n",
    "    print(f'Movie: {movie_name}')\n",
    "    print(f'Genres: {genres}')\n",
    "    print(f'Vote Average: {vote_average}')\n",
    "    print('\\n')\n"
   ],
   "metadata": {
    "collapsed": false,
    "ExecuteTime": {
     "end_time": "2023-08-09T19:17:21.651705251Z",
     "start_time": "2023-08-09T19:17:21.634712659Z"
    }
   }
  },
  {
   "cell_type": "code",
   "execution_count": null,
   "outputs": [],
   "source": [],
   "metadata": {
    "collapsed": false
   }
  }
 ],
 "metadata": {
  "kernelspec": {
   "display_name": "Python 3",
   "language": "python",
   "name": "python3"
  },
  "language_info": {
   "codemirror_mode": {
    "name": "ipython",
    "version": 2
   },
   "file_extension": ".py",
   "mimetype": "text/x-python",
   "name": "python",
   "nbconvert_exporter": "python",
   "pygments_lexer": "ipython2",
   "version": "2.7.6"
  }
 },
 "nbformat": 4,
 "nbformat_minor": 0
}
