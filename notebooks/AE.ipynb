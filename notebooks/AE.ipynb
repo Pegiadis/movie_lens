{
 "cells": [
  {
   "cell_type": "markdown",
   "source": [
    "# Autoencoders for Collaborative Filtering"
   ],
   "metadata": {
    "collapsed": false
   }
  },
  {
   "cell_type": "code",
   "execution_count": 13,
   "outputs": [],
   "source": [
    "import torch\n",
    "import pandas as pd\n",
    "import numpy as np\n",
    "from torch import nn, optim\n",
    "from torch.utils.data import Dataset, DataLoader, random_split\n",
    "\n",
    "import torch.nn.functional as F\n",
    "from sklearn.preprocessing import LabelEncoder\n",
    "from sklearn.model_selection import train_test_split"
   ],
   "metadata": {
    "collapsed": false,
    "ExecuteTime": {
     "end_time": "2023-08-10T09:02:45.141430324Z",
     "start_time": "2023-08-10T09:02:45.083743902Z"
    }
   }
  },
  {
   "cell_type": "code",
   "execution_count": 14,
   "outputs": [],
   "source": [
    "data = pd.read_csv('../data/lens_tmdb/ratings_small.csv')"
   ],
   "metadata": {
    "collapsed": false,
    "ExecuteTime": {
     "end_time": "2023-08-10T09:02:45.676180272Z",
     "start_time": "2023-08-10T09:02:45.644278313Z"
    }
   }
  },
  {
   "cell_type": "code",
   "execution_count": 15,
   "outputs": [],
   "source": [
    "ratings_df = data[['userId', 'movieId', 'rating']]"
   ],
   "metadata": {
    "collapsed": false,
    "ExecuteTime": {
     "end_time": "2023-08-10T09:02:45.837547238Z",
     "start_time": "2023-08-10T09:02:45.829967022Z"
    }
   }
  },
  {
   "cell_type": "code",
   "execution_count": 16,
   "outputs": [
    {
     "name": "stderr",
     "output_type": "stream",
     "text": [
      "/tmp/ipykernel_10910/1744291944.py:1: SettingWithCopyWarning: \n",
      "A value is trying to be set on a copy of a slice from a DataFrame.\n",
      "Try using .loc[row_indexer,col_indexer] = value instead\n",
      "\n",
      "See the caveats in the documentation: https://pandas.pydata.org/pandas-docs/stable/user_guide/indexing.html#returning-a-view-versus-a-copy\n",
      "  ratings_df['rating'] = ratings_df['rating'].apply(lambda x: 1 if x >= 4 else 0)\n"
     ]
    }
   ],
   "source": [
    "ratings_df['rating'] = ratings_df['rating'].apply(lambda x: 1 if x >= 4 else 0)\n"
   ],
   "metadata": {
    "collapsed": false,
    "ExecuteTime": {
     "end_time": "2023-08-10T09:02:46.059512389Z",
     "start_time": "2023-08-10T09:02:46.015447909Z"
    }
   }
  },
  {
   "cell_type": "code",
   "execution_count": 17,
   "outputs": [
    {
     "name": "stderr",
     "output_type": "stream",
     "text": [
      "/tmp/ipykernel_10910/3728636018.py:2: SettingWithCopyWarning: \n",
      "A value is trying to be set on a copy of a slice from a DataFrame.\n",
      "Try using .loc[row_indexer,col_indexer] = value instead\n",
      "\n",
      "See the caveats in the documentation: https://pandas.pydata.org/pandas-docs/stable/user_guide/indexing.html#returning-a-view-versus-a-copy\n",
      "  ratings_df['userId'] = user_enc.fit_transform(ratings_df['userId'].values)\n",
      "/tmp/ipykernel_10910/3728636018.py:5: SettingWithCopyWarning: \n",
      "A value is trying to be set on a copy of a slice from a DataFrame.\n",
      "Try using .loc[row_indexer,col_indexer] = value instead\n",
      "\n",
      "See the caveats in the documentation: https://pandas.pydata.org/pandas-docs/stable/user_guide/indexing.html#returning-a-view-versus-a-copy\n",
      "  ratings_df['movieId'] = item_enc.fit_transform(ratings_df['movieId'].values)\n"
     ]
    }
   ],
   "source": [
    "user_enc = LabelEncoder()\n",
    "ratings_df['userId'] = user_enc.fit_transform(ratings_df['userId'].values)\n",
    "\n",
    "item_enc = LabelEncoder()\n",
    "ratings_df['movieId'] = item_enc.fit_transform(ratings_df['movieId'].values)\n"
   ],
   "metadata": {
    "collapsed": false,
    "ExecuteTime": {
     "end_time": "2023-08-10T09:02:46.255515241Z",
     "start_time": "2023-08-10T09:02:46.213751803Z"
    }
   }
  },
  {
   "cell_type": "markdown",
   "source": [
    "## Split the Data into Train and Test"
   ],
   "metadata": {
    "collapsed": false
   }
  },
  {
   "cell_type": "code",
   "execution_count": 18,
   "outputs": [],
   "source": [
    "train_df, test_df = train_test_split(ratings_df, test_size=0.2, random_state=42)\n"
   ],
   "metadata": {
    "collapsed": false,
    "ExecuteTime": {
     "end_time": "2023-08-10T09:02:46.943007203Z",
     "start_time": "2023-08-10T09:02:46.936103932Z"
    }
   }
  },
  {
   "cell_type": "markdown",
   "source": [
    "## Create Dataloaders"
   ],
   "metadata": {
    "collapsed": false
   }
  },
  {
   "cell_type": "code",
   "execution_count": 19,
   "outputs": [],
   "source": [
    "class MovieLensDataset(Dataset):\n",
    "    def __init__(self, ratings_df, num_users, num_items):\n",
    "        self.users = ratings_df['userId'].values.astype(np.int64)\n",
    "        self.items = ratings_df['movieId'].values.astype(np.int64)\n",
    "        self.ratings = ratings_df['rating'].values.astype(np.float32)\n",
    "\n",
    "        self.num_users = num_users\n",
    "        self.num_items = num_items\n",
    "\n",
    "    def __len__(self):\n",
    "        return len(self.users)\n",
    "\n",
    "    def __getitem__(self, idx):\n",
    "        return self.users[idx], self.items[idx], self.ratings[idx]\n"
   ],
   "metadata": {
    "collapsed": false,
    "ExecuteTime": {
     "end_time": "2023-08-10T09:02:47.813216633Z",
     "start_time": "2023-08-10T09:02:47.792419157Z"
    }
   }
  },
  {
   "cell_type": "code",
   "execution_count": 20,
   "outputs": [],
   "source": [
    "num_users = ratings_df['userId'].nunique()\n",
    "num_items = ratings_df['movieId'].nunique()\n",
    "\n",
    "train_dataset = MovieLensDataset(train_df, num_users, num_items)\n",
    "test_dataset = MovieLensDataset(test_df, num_users, num_items)\n",
    "\n",
    "train_loader = DataLoader(train_dataset, batch_size=1024, shuffle=True)\n",
    "test_loader = DataLoader(test_dataset, batch_size=1024)\n"
   ],
   "metadata": {
    "collapsed": false,
    "ExecuteTime": {
     "end_time": "2023-08-10T09:02:48.063105395Z",
     "start_time": "2023-08-10T09:02:48.058546448Z"
    }
   }
  },
  {
   "cell_type": "markdown",
   "source": [
    "# Create Model Architecture"
   ],
   "metadata": {
    "collapsed": false
   }
  },
  {
   "cell_type": "code",
   "execution_count": 21,
   "outputs": [],
   "source": [
    "class AutoEncoder(nn.Module):\n",
    "    def __init__(self, num_users, num_items, embedding_dim, hidden_dim):\n",
    "        super().__init__()\n",
    "        self.user_emb = nn.Embedding(num_users, embedding_dim)\n",
    "        self.item_emb = nn.Embedding(num_items, embedding_dim)\n",
    "        self.encoder = nn.Sequential(\n",
    "            nn.Linear(embedding_dim*2, hidden_dim),\n",
    "            nn.ReLU(),\n",
    "            nn.Linear(hidden_dim, embedding_dim*2)\n",
    "        )\n",
    "        self.decoder = nn.Sequential(\n",
    "            nn.Linear(embedding_dim*2, hidden_dim),\n",
    "            nn.ReLU(),\n",
    "            nn.Linear(hidden_dim, 1)\n",
    "        )\n",
    "\n",
    "    def forward(self, users, items):\n",
    "        user_emb = self.user_emb(users)\n",
    "        item_emb = self.item_emb(items)\n",
    "        x = torch.cat([user_emb, item_emb], dim=1)\n",
    "        x = self.encoder(x)\n",
    "        x = self.decoder(x)\n",
    "        return torch.sigmoid(x).squeeze()\n"
   ],
   "metadata": {
    "collapsed": false,
    "ExecuteTime": {
     "end_time": "2023-08-10T09:02:49.016669336Z",
     "start_time": "2023-08-10T09:02:49.014875775Z"
    }
   }
  },
  {
   "cell_type": "markdown",
   "source": [
    "### Metrics"
   ],
   "metadata": {
    "collapsed": false
   }
  },
  {
   "cell_type": "code",
   "execution_count": 22,
   "outputs": [],
   "source": [
    "def mae(y_true, y_pred):\n",
    "    return torch.mean(torch.abs(y_true - y_pred))\n",
    "\n",
    "def rmse(y_true, y_pred):\n",
    "    return torch.sqrt(torch.mean((y_true - y_pred)**2))\n"
   ],
   "metadata": {
    "collapsed": false,
    "ExecuteTime": {
     "end_time": "2023-08-10T09:02:50.624975285Z",
     "start_time": "2023-08-10T09:02:50.621541819Z"
    }
   }
  },
  {
   "cell_type": "markdown",
   "source": [
    "# Train the Model and Evaluate"
   ],
   "metadata": {
    "collapsed": false
   }
  },
  {
   "cell_type": "code",
   "execution_count": 23,
   "outputs": [
    {
     "name": "stdout",
     "output_type": "stream",
     "text": [
      "Epoch 1/10, Train Loss: 0.6290560568435283\n",
      "Test Loss: 0.598307004570961\n",
      "Test MAE: 0.42632006406784057\n",
      "Test RMSE: 0.45351273417472837\n",
      "Epoch 2/10, Train Loss: 0.5592995836764951\n",
      "Test Loss: 0.5785059541463852\n",
      "Test MAE: 0.38491577208042144\n",
      "Test RMSE: 0.4436351120471954\n",
      "Epoch 3/10, Train Loss: 0.5208519014376628\n",
      "Test Loss: 0.5835290491580963\n",
      "Test MAE: 0.36769151240587233\n",
      "Test RMSE: 0.4443879395723343\n",
      "Epoch 4/10, Train Loss: 0.4950159995616237\n",
      "Test Loss: 0.6101587891578675\n",
      "Test MAE: 0.362835493683815\n",
      "Test RMSE: 0.4490744903683662\n",
      "Epoch 5/10, Train Loss: 0.4726054755192769\n",
      "Test Loss: 0.6093764841556549\n",
      "Test MAE: 0.3680749163031578\n",
      "Test RMSE: 0.44986267685890197\n",
      "Epoch 6/10, Train Loss: 0.4446239147005202\n",
      "Test Loss: 0.6384004801511765\n",
      "Test MAE: 0.36106710880994797\n",
      "Test RMSE: 0.4569541484117508\n",
      "Epoch 7/10, Train Loss: 0.41385334654699396\n",
      "Test Loss: 0.6490350484848022\n",
      "Test MAE: 0.36970127671957015\n",
      "Test RMSE: 0.46279157549142835\n",
      "Epoch 8/10, Train Loss: 0.3795492743389516\n",
      "Test Loss: 0.7322163641452789\n",
      "Test MAE: 0.36940250396728513\n",
      "Test RMSE: 0.4735125884413719\n",
      "Epoch 9/10, Train Loss: 0.3461598335187646\n",
      "Test Loss: 0.7471105933189393\n",
      "Test MAE: 0.3629429191350937\n",
      "Test RMSE: 0.4768836036324501\n",
      "Epoch 10/10, Train Loss: 0.3076672916170917\n",
      "Test Loss: 0.9776110887527466\n",
      "Test MAE: 0.3507758617401123\n",
      "Test RMSE: 0.5019700720906257\n"
     ]
    }
   ],
   "source": [
    "device = torch.device(\"cuda\" if torch.cuda.is_available() else \"cpu\")\n",
    "model = AutoEncoder(num_users, num_items, embedding_dim=50, hidden_dim=100).to(device)\n",
    "criterion = nn.BCELoss()\n",
    "optimizer = optim.Adam(model.parameters(), lr=0.01)\n",
    "train_losses = []\n",
    "test_losses = []\n",
    "maes = []\n",
    "rmses = []\n",
    "\n",
    "num_epochs = 10\n",
    "for epoch in range(num_epochs):\n",
    "    model.train()\n",
    "    train_loss = 0\n",
    "    for users, items, ratings in train_loader:\n",
    "        users = users.to(device)\n",
    "        items = items.to(device)\n",
    "        ratings = ratings.to(device)\n",
    "\n",
    "        optimizer.zero_grad()\n",
    "        outputs = model(users, items)\n",
    "        loss = criterion(outputs, ratings)\n",
    "        loss.backward()\n",
    "        optimizer.step()\n",
    "\n",
    "        train_loss += loss.item()\n",
    "\n",
    "    train_loss /= len(train_loader) # calculate average loss per epoch\n",
    "    train_losses.append(train_loss)\n",
    "    print(f'Epoch {epoch+1}/{num_epochs}, Train Loss: {train_loss}')\n",
    "\n",
    "    model.eval()\n",
    "    test_loss = 0\n",
    "    test_mae = 0\n",
    "    test_rmse = 0\n",
    "    with torch.no_grad():\n",
    "        for users, items, ratings in test_loader:\n",
    "            users = users.to(device)\n",
    "            items = items.to(device)\n",
    "            ratings = ratings.to(device)\n",
    "\n",
    "            outputs = model(users, items)\n",
    "            loss = criterion(outputs, ratings)\n",
    "\n",
    "            test_loss += loss.item()\n",
    "            test_mae += mae(ratings, outputs).item()\n",
    "            test_rmse += rmse(ratings, outputs).item()\n",
    "\n",
    "        test_loss /= len(test_loader) # calculate average test loss per epoch\n",
    "        test_losses.append(test_loss)\n",
    "\n",
    "        test_mae /= len(test_loader) # calculate average mae per epoch\n",
    "        maes.append(test_mae)\n",
    "\n",
    "        test_rmse /= len(test_loader) # calculate average rmse per epoch\n",
    "        rmses.append(test_rmse)\n",
    "\n",
    "    print(f'Test Loss: {test_loss}')\n",
    "    print(f'Test MAE: {test_mae}')\n",
    "    print(f'Test RMSE: {test_rmse}')\n",
    "\n",
    "\n"
   ],
   "metadata": {
    "collapsed": false,
    "ExecuteTime": {
     "end_time": "2023-08-10T09:03:08.772667283Z",
     "start_time": "2023-08-10T09:02:51.384302170Z"
    }
   }
  },
  {
   "cell_type": "markdown",
   "source": [
    "# Visualize the Losses"
   ],
   "metadata": {
    "collapsed": false
   }
  },
  {
   "cell_type": "code",
   "execution_count": 24,
   "outputs": [
    {
     "data": {
      "text/plain": "<Figure size 1000x600 with 1 Axes>",
      "image/png": "[encoded data removed]"
     },
     "metadata": {},
     "output_type": "display_data"
    },
    {
     "data": {
      "text/plain": "<Figure size 1000x500 with 1 Axes>",
      "image/png": "[encoded data removed]"
     },
     "metadata": {},
     "output_type": "display_data"
    },
    {
     "data": {
      "text/plain": "<Figure size 1000x500 with 1 Axes>",
      "image/png": "[encoded data removed]"
     },
     "metadata": {},
     "output_type": "display_data"
    }
   ],
   "source": [
    "import matplotlib.pyplot as plt\n",
    "\n",
    "# Plot the losses vs. epochs for training and test sets\n",
    "epochs = range(1, num_epochs + 1)\n",
    "\n",
    "plt.figure(figsize=(10, 6))\n",
    "plt.plot(epochs, train_losses, label=\"Training Loss\")\n",
    "plt.plot(epochs, test_losses, label=\"Test Loss\")\n",
    "plt.title(\"Training vs. Test Loss\")\n",
    "plt.xlabel(\"Epochs\")\n",
    "plt.ylabel(\"Loss\")\n",
    "plt.legend()\n",
    "plt.grid(True)\n",
    "plt.show()\n",
    "\n",
    "# Plot the RMSE\n",
    "plt.figure(figsize=(10,5))\n",
    "plt.plot(np.arange(num_epochs), rmses)\n",
    "plt.xlabel('Epochs')\n",
    "plt.ylabel('RMSE')\n",
    "plt.title('Test RMSE')\n",
    "plt.show()\n",
    "\n",
    "# To visualize the distribution of errors on test data\n",
    "# Assume `errors` as absolute difference between predictions and actual ratings\n",
    "errors = torch.abs(outputs - ratings).view(-1).cpu().numpy()\n",
    "\n",
    "plt.figure(figsize=(10,5))\n",
    "plt.hist(errors, bins='auto')\n",
    "plt.xlabel('Error')\n",
    "plt.ylabel('Frequency')\n",
    "plt.title('Distribution of prediction errors on Test set')\n",
    "plt.show()"
   ],
   "metadata": {
    "collapsed": false,
    "ExecuteTime": {
     "end_time": "2023-08-10T09:03:09.210449238Z",
     "start_time": "2023-08-10T09:03:08.771469904Z"
    }
   }
  },
  {
   "cell_type": "markdown",
   "source": [
    "# Make Recommendations"
   ],
   "metadata": {
    "collapsed": false
   }
  },
  {
   "cell_type": "code",
   "execution_count": 25,
   "outputs": [],
   "source": [
    "movies_df = pd.read_csv('../data/lens_tmdb/cleaned/df_all.csv')\n",
    "\n",
    "def get_movie_details(movie_id):\n",
    "    original_id = item_enc.inverse_transform([movie_id])\n",
    "    movie_row = movies_df[movies_df['movieId'] == original_id[0]]\n",
    "    movie_name = movie_row['title'].values[0]\n",
    "    genres = movie_row['genre'].values[0]\n",
    "    vote_average = movie_row[movie_row['movieId'] == original_id[0]]['vote_average'].values[0]\n",
    "    return movie_name, genres, vote_average\n"
   ],
   "metadata": {
    "collapsed": false,
    "ExecuteTime": {
     "end_time": "2023-08-10T09:03:09.718121580Z",
     "start_time": "2023-08-10T09:03:09.211778515Z"
    }
   }
  },
  {
   "cell_type": "code",
   "execution_count": 26,
   "outputs": [],
   "source": [
    "def recommend(user_id, model, num_items):\n",
    "    user_ids = torch.tensor([user_id]*num_items).to(device)\n",
    "    movie_ids = torch.tensor(range(num_items)).to(device)\n",
    "\n",
    "    with torch.no_grad():\n",
    "        predictions = model(user_ids, movie_ids)\n",
    "\n",
    "    _, indices = torch.topk(predictions, 10)\n",
    "    top_10_movies = indices.cpu().numpy()\n",
    "\n",
    "    movie_details = [get_movie_details(movie_id) for movie_id in top_10_movies]\n",
    "\n",
    "    return movie_details\n"
   ],
   "metadata": {
    "collapsed": false,
    "ExecuteTime": {
     "end_time": "2023-08-10T09:03:09.767151184Z",
     "start_time": "2023-08-10T09:03:09.721062577Z"
    }
   }
  },
  {
   "cell_type": "code",
   "execution_count": 27,
   "outputs": [
    {
     "name": "stdout",
     "output_type": "stream",
     "text": [
      "Movie: Tom Jones\n",
      "Genres: Adventure\n",
      "Vote Average: 6.1\n",
      "\n",
      "\n",
      "Movie: The Amazing Panda Adventure\n",
      "Genres: Action\n",
      "Vote Average: 5.0\n",
      "\n",
      "\n",
      "Movie: Aparajito\n",
      "Genres: Drama\n",
      "Vote Average: 7.9\n",
      "\n",
      "\n",
      "Movie: Angels in America\n",
      "Genres: Drama\n",
      "Vote Average: 6.8\n",
      "\n",
      "\n",
      "Movie: Titus\n",
      "Genres: Drama\n",
      "Vote Average: 6.5\n",
      "\n",
      "\n",
      "Movie: Hearts and Minds\n",
      "Genres: Documentary\n",
      "Vote Average: 7.8\n",
      "\n",
      "\n",
      "Movie: Cries and Whispers\n",
      "Genres: Drama\n",
      "Vote Average: 7.8\n",
      "\n",
      "\n",
      "Movie: In a Lonely Place\n",
      "Genres: Drama\n",
      "Vote Average: 7.5\n",
      "\n",
      "\n",
      "Movie: Ashes of Time\n",
      "Genres: Drama\n",
      "Vote Average: 7.1\n",
      "\n",
      "\n",
      "Movie: Phantasm\n",
      "Genres: Horror\n",
      "Vote Average: 6.5\n",
      "\n",
      "\n"
     ]
    }
   ],
   "source": [
    "user_id = 42  # Replace with the ID of the user you want to recommend movies to\n",
    "recommendations = recommend(user_id, model, num_items)\n",
    "for movie_name, genres, vote_average in recommendations:\n",
    "    print(f'Movie: {movie_name}')\n",
    "    print(f'Genres: {genres}')\n",
    "    print(f'Vote Average: {vote_average}')\n",
    "    print('\\n')\n"
   ],
   "metadata": {
    "collapsed": false,
    "ExecuteTime": {
     "end_time": "2023-08-10T09:03:09.933199847Z",
     "start_time": "2023-08-10T09:03:09.763241101Z"
    }
   }
  },
  {
   "cell_type": "code",
   "execution_count": 28,
   "outputs": [],
   "source": [
    "torch.save(model.state_dict(), 'model_weights.pth')"
   ],
   "metadata": {
    "collapsed": false,
    "ExecuteTime": {
     "end_time": "2023-08-10T09:03:09.991484483Z",
     "start_time": "2023-08-10T09:03:09.936037186Z"
    }
   }
  },
  {
   "cell_type": "code",
   "execution_count": null,
   "outputs": [],
   "source": [],
   "metadata": {
    "collapsed": false
   }
  }
 ],
 "metadata": {
  "kernelspec": {
   "display_name": "Python 3",
   "language": "python",
   "name": "python3"
  },
  "language_info": {
   "codemirror_mode": {
    "name": "ipython",
    "version": 2
   },
   "file_extension": ".py",
   "mimetype": "text/x-python",
   "name": "python",
   "nbconvert_exporter": "python",
   "pygments_lexer": "ipython2",
   "version": "2.7.6"
  }
 },
 "nbformat": 4,
 "nbformat_minor": 0
}
