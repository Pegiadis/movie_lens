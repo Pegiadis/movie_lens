{
 "cells": [
  {
   "cell_type": "code",
   "execution_count": 19,
   "metadata": {
    "collapsed": true,
    "ExecuteTime": {
     "end_time": "2023-08-09T20:46:51.782017815Z",
     "start_time": "2023-08-09T20:46:51.744603258Z"
    }
   },
   "outputs": [],
   "source": [
    "import pandas as pd\n",
    "from torch import nn, optim\n",
    "from sklearn.model_selection import train_test_split\n",
    "\n",
    "ratings = pd.read_csv('../data/lens_tmdb/ratings_small.csv')\n",
    "ratings['userId'] = ratings['userId'].astype('category').cat.codes.values\n",
    "ratings['movieId'] = ratings['movieId'].astype('category').cat.codes.values\n",
    "train, valid = train_test_split(ratings, test_size=0.2)\n",
    "\n",
    "\n"
   ]
  },
  {
   "cell_type": "code",
   "execution_count": 20,
   "outputs": [],
   "source": [
    "# from torch.utils.data import Dataset, DataLoader\n",
    "# # MovieLens Dataset\n",
    "# class MovieLensDataset(Dataset):\n",
    "#     def __init__(self, df):\n",
    "#         self.users = df['userId'].cat.codes.values\n",
    "#         self.movies = df['movieId'].cat.codes.values\n",
    "#         self.ratings = df['rating'].values\n",
    "#\n",
    "#     def __len__(self):\n",
    "#         return len(self.ratings)\n",
    "#\n",
    "#     def __getitem__(self, idx):\n",
    "#         return self.users[idx], self.movies[idx], self.ratings[idx]\n"
   ],
   "metadata": {
    "collapsed": false,
    "ExecuteTime": {
     "end_time": "2023-08-09T20:46:52.303581187Z",
     "start_time": "2023-08-09T20:46:52.297537015Z"
    }
   }
  },
  {
   "cell_type": "code",
   "execution_count": 21,
   "outputs": [],
   "source": [
    "import torch\n",
    "import torch.nn as nn\n",
    "\n",
    "class RecommenderRNN(nn.Module):\n",
    "    def __init__(self, n_users, n_movies, n_factors, hidden_size):\n",
    "        super().__init__()\n",
    "        self.user_emb = nn.Embedding(n_users, n_factors)\n",
    "        self.movie_emb = nn.Embedding(n_movies, n_factors)\n",
    "        self.rnn = nn.RNN(n_factors * 2, hidden_size, batch_first=True)\n",
    "        self.fc = nn.Linear(hidden_size, 1)\n",
    "\n",
    "    def forward(self, users, movies):\n",
    "        user_emb = self.user_emb(users)\n",
    "        movie_emb = self.movie_emb(movies)\n",
    "        x = torch.cat([user_emb, movie_emb], dim=1)\n",
    "        x, _ = self.rnn(x.unsqueeze(1))\n",
    "        x = self.fc(x.squeeze(1))\n",
    "        return x\n",
    "\n",
    "n_users = len(ratings['userId'].unique())\n",
    "n_movies = len(ratings['movieId'].unique())\n",
    "n_factors = 50\n",
    "hidden_size = 64\n",
    "model = RecommenderRNN(n_users, n_movies, n_factors, hidden_size)\n"
   ],
   "metadata": {
    "collapsed": false,
    "ExecuteTime": {
     "end_time": "2023-08-09T20:46:52.710557800Z",
     "start_time": "2023-08-09T20:46:52.686541429Z"
    }
   }
  },
  {
   "cell_type": "code",
   "execution_count": 15,
   "outputs": [],
   "source": [
    "def rmse(predictions, targets):\n",
    "    return torch.sqrt(torch.mean((predictions - targets) ** 2))"
   ],
   "metadata": {
    "collapsed": false,
    "ExecuteTime": {
     "end_time": "2023-08-09T20:38:10.724108719Z",
     "start_time": "2023-08-09T20:38:10.717100051Z"
    }
   }
  },
  {
   "cell_type": "code",
   "execution_count": 22,
   "outputs": [
    {
     "name": "stderr",
     "output_type": "stream",
     "text": [
      "/home/pegos/PycharmProjects/Neural_Networks/venv/lib/python3.10/site-packages/torch/nn/modules/loss.py:536: UserWarning: Using a target size (torch.Size([1])) that is different to the input size (torch.Size([1, 1])). This will likely lead to incorrect results due to broadcasting. Please ensure they have the same size.\n",
      "  return F.mse_loss(input, target, reduction=self.reduction)\n"
     ]
    },
    {
     "name": "stdout",
     "output_type": "stream",
     "text": [
      "Epoch 1/10, Loss: 0.9941380616683048\n",
      "Epoch 2/10, Loss: 0.8337304513400677\n",
      "Epoch 3/10, Loss: 0.7681676854335572\n",
      "Epoch 4/10, Loss: 0.7160558120252601\n",
      "Epoch 5/10, Loss: 0.6687520823694334\n",
      "Epoch 6/10, Loss: 0.6257108379525442\n",
      "Epoch 7/10, Loss: 0.5869633907143088\n",
      "Epoch 8/10, Loss: 0.5516647528403157\n",
      "Epoch 9/10, Loss: 0.5202086933660031\n",
      "Epoch 10/10, Loss: 0.4916394420354959\n"
     ]
    }
   ],
   "source": [
    "import torch.optim as optim\n",
    "\n",
    "device = torch.device(\"cuda\" if torch.cuda.is_available() else \"cpu\")\n",
    "model.to(device)\n",
    "criterion = nn.MSELoss()\n",
    "optimizer = optim.Adam(model.parameters(), lr=0.001)\n",
    "\n",
    "# Training loop\n",
    "n_epochs = 10\n",
    "for epoch in range(n_epochs):\n",
    "    model.train()\n",
    "    total_loss = 0\n",
    "    for _, row in train.iterrows():\n",
    "        user = torch.LongTensor([int(row['userId'])]).to(device)\n",
    "        movie = torch.LongTensor([int(row['movieId'])]).to(device)\n",
    "        rating = torch.FloatTensor([float(row['rating'])]).to(device)\n",
    "\n",
    "        optimizer.zero_grad()\n",
    "        prediction = model(user, movie)\n",
    "        loss = criterion(prediction, rating)\n",
    "        loss.backward()\n",
    "        optimizer.step()\n",
    "\n",
    "        total_loss += loss.item()\n",
    "    print(f\"Epoch {epoch+1}/{n_epochs}, Loss: {total_loss/len(train)}\")\n"
   ],
   "metadata": {
    "collapsed": false,
    "ExecuteTime": {
     "end_time": "2023-08-09T21:09:47.126122209Z",
     "start_time": "2023-08-09T20:47:04.656728042Z"
    }
   }
  },
  {
   "cell_type": "code",
   "execution_count": null,
   "outputs": [],
   "source": [],
   "metadata": {
    "collapsed": false
   }
  }
 ],
 "metadata": {
  "kernelspec": {
   "display_name": "Python 3",
   "language": "python",
   "name": "python3"
  },
  "language_info": {
   "codemirror_mode": {
    "name": "ipython",
    "version": 2
   },
   "file_extension": ".py",
   "mimetype": "text/x-python",
   "name": "python",
   "nbconvert_exporter": "python",
   "pygments_lexer": "ipython2",
   "version": "2.7.6"
  }
 },
 "nbformat": 4,
 "nbformat_minor": 0
}
