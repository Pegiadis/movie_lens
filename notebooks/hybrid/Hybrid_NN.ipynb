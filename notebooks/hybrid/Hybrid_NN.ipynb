{
 "cells": [
  {
   "cell_type": "markdown",
   "source": [
    "# Hybrid Recommender System"
   ],
   "metadata": {
    "collapsed": false
   }
  },
  {
   "cell_type": "code",
   "execution_count": 1,
   "outputs": [],
   "source": [
    "import torch\n",
    "import torch.nn as nn\n",
    "import pandas as pd\n",
    "from sklearn.preprocessing import LabelEncoder\n",
    "from sklearn.model_selection import train_test_split"
   ],
   "metadata": {
    "collapsed": false,
    "ExecuteTime": {
     "end_time": "2023-08-09T19:28:25.215408054Z",
     "start_time": "2023-08-09T19:28:24.498484248Z"
    }
   }
  },
  {
   "cell_type": "code",
   "execution_count": 2,
   "outputs": [],
   "source": [
    "movies = pd.read_csv('../data/lens_tmdb/cleaned/df_all.csv')\n",
    "ratings = pd.read_csv('../data/lens_tmdb/ratings_small.csv')"
   ],
   "metadata": {
    "collapsed": false,
    "ExecuteTime": {
     "end_time": "2023-08-09T19:28:25.713889524Z",
     "start_time": "2023-08-09T19:28:25.217236425Z"
    }
   }
  },
  {
   "cell_type": "code",
   "execution_count": 3,
   "outputs": [],
   "source": [
    "# Prepare data\n",
    "movies = movies[['movieId', 'genre', 'director']]  # select features to use\n",
    "data = pd.merge(ratings, movies, on='movieId')\n",
    "data = data[['userId', 'movieId', 'rating', 'genre', 'director']]\n",
    "\n",
    "# Label encoding\n",
    "for col in ['userId', 'movieId', 'genre', 'director']:\n",
    "    data[col] = LabelEncoder().fit_transform(data[col])\n",
    "\n",
    "# Train test split\n",
    "train, test = train_test_split(data)"
   ],
   "metadata": {
    "collapsed": false,
    "ExecuteTime": {
     "end_time": "2023-08-09T19:28:25.780869030Z",
     "start_time": "2023-08-09T19:28:25.725693953Z"
    }
   }
  },
  {
   "cell_type": "markdown",
   "source": [
    "# Hybrid Model Architecture"
   ],
   "metadata": {
    "collapsed": false
   }
  },
  {
   "cell_type": "code",
   "execution_count": 4,
   "outputs": [],
   "source": [
    "# Define model\n",
    "class HybridModel(nn.Module):\n",
    "    def __init__(self, n_users, n_movies, n_genres, n_directors, emb_size):\n",
    "        super().__init__()\n",
    "        self.user_embedding = nn.Embedding(n_users, emb_size)\n",
    "        self.movie_embedding = nn.Embedding(n_movies, emb_size)\n",
    "        self.genre_embedding = nn.Embedding(n_genres, emb_size)\n",
    "        self.director_embedding = nn.Embedding(n_directors, emb_size)\n",
    "        self.fc = nn.Linear(emb_size*4, 1)\n",
    "\n",
    "    def forward(self, user, movie, genre, director):\n",
    "        user_emb = self.user_embedding(user)\n",
    "        movie_emb = self.movie_embedding(movie)\n",
    "        genre_emb = self.genre_embedding(genre)\n",
    "        director_emb = self.director_embedding(director)\n",
    "        x = torch.cat([user_emb, movie_emb, genre_emb, director_emb], dim=1)\n",
    "        x = self.fc(x)\n",
    "        return x"
   ],
   "metadata": {
    "collapsed": false,
    "ExecuteTime": {
     "end_time": "2023-08-09T19:28:25.784698647Z",
     "start_time": "2023-08-09T19:28:25.782964082Z"
    }
   }
  },
  {
   "cell_type": "code",
   "execution_count": 32,
   "outputs": [],
   "source": [
    "# Create model\n",
    "model = HybridModel(\n",
    "    n_users=data['userId'].nunique(),\n",
    "    n_movies=data['movieId'].nunique(),\n",
    "    n_genres=data['genre'].nunique(),\n",
    "    n_directors=data['director'].nunique(),\n",
    "    emb_size=100  # size of the embedding vectors\n",
    ")\n",
    "\n",
    "# Define loss and optimizer\n",
    "criterion = nn.MSELoss()\n",
    "optimizer = torch.optim.Adam(model.parameters(), lr=0.001)"
   ],
   "metadata": {
    "collapsed": false,
    "ExecuteTime": {
     "end_time": "2023-08-09T19:52:16.859410831Z",
     "start_time": "2023-08-09T19:52:16.812822016Z"
    }
   }
  },
  {
   "cell_type": "markdown",
   "source": [
    "### Tensor Conversion"
   ],
   "metadata": {
    "collapsed": false
   }
  },
  {
   "cell_type": "code",
   "execution_count": 11,
   "outputs": [],
   "source": [
    "# Convert data to PyTorch tensors\n",
    "def to_tensor(df):\n",
    "    user = torch.tensor(df['userId'].values)\n",
    "    movie = torch.tensor(df['movieId'].values)\n",
    "    genre = torch.tensor(df['genre'].values)\n",
    "    director = torch.tensor(df['director'].values)\n",
    "    rating = torch.tensor(df['rating'].values)\n",
    "    return user, movie, genre, director, rating"
   ],
   "metadata": {
    "collapsed": false,
    "ExecuteTime": {
     "end_time": "2023-08-09T19:37:59.588705325Z",
     "start_time": "2023-08-09T19:37:59.540623242Z"
    }
   }
  },
  {
   "cell_type": "code",
   "execution_count": 12,
   "outputs": [],
   "source": [
    "train_data = to_tensor(train)\n",
    "test_data = to_tensor(test)"
   ],
   "metadata": {
    "collapsed": false,
    "ExecuteTime": {
     "end_time": "2023-08-09T19:38:00.010185035Z",
     "start_time": "2023-08-09T19:37:59.990251221Z"
    }
   }
  },
  {
   "cell_type": "code",
   "execution_count": 13,
   "outputs": [],
   "source": [
    "def rmse(predictions, targets):\n",
    "    return torch.sqrt(((predictions - targets) ** 2).mean())\n"
   ],
   "metadata": {
    "collapsed": false,
    "ExecuteTime": {
     "end_time": "2023-08-09T19:38:00.462750031Z",
     "start_time": "2023-08-09T19:38:00.437148753Z"
    }
   }
  },
  {
   "cell_type": "markdown",
   "source": [
    "# Training and Test Loss"
   ],
   "metadata": {
    "collapsed": false
   }
  },
  {
   "cell_type": "code",
   "execution_count": 30,
   "outputs": [
    {
     "name": "stdout",
     "output_type": "stream",
     "text": [
      "Epoch: 0 Train Loss: 0.6330101490020752 Test Loss: 0.8636094927787781 RMSE: 0.7956193685531616\n",
      "Epoch: 1 Train Loss: 0.6330101490020752 Test Loss: 0.8636098504066467 RMSE: 0.7956193685531616\n",
      "Epoch: 2 Train Loss: 0.6330100893974304 Test Loss: 0.8636099100112915 RMSE: 0.7956193089485168\n",
      "Epoch: 3 Train Loss: 0.6330100893974304 Test Loss: 0.8636099696159363 RMSE: 0.7956193089485168\n",
      "Epoch: 4 Train Loss: 0.6330100297927856 Test Loss: 0.8636100888252258 RMSE: 0.7956192493438721\n",
      "Epoch: 5 Train Loss: 0.6330100297927856 Test Loss: 0.8636102080345154 RMSE: 0.7956192493438721\n",
      "Epoch: 6 Train Loss: 0.6330099701881409 Test Loss: 0.8636102676391602 RMSE: 0.7956192493438721\n",
      "Epoch: 7 Train Loss: 0.6330099105834961 Test Loss: 0.8636103868484497 RMSE: 0.7956191897392273\n",
      "Epoch: 8 Train Loss: 0.6330098509788513 Test Loss: 0.8636104464530945 RMSE: 0.7956191897392273\n",
      "Epoch: 9 Train Loss: 0.6330098509788513 Test Loss: 0.8636106252670288 RMSE: 0.7956191897392273\n",
      "Epoch: 10 Train Loss: 0.6330098509788513 Test Loss: 0.8636106848716736 RMSE: 0.7956191897392273\n",
      "Epoch: 11 Train Loss: 0.6330097317695618 Test Loss: 0.8636106848716736 RMSE: 0.7956190705299377\n",
      "Epoch: 12 Train Loss: 0.6330097317695618 Test Loss: 0.8636108636856079 RMSE: 0.7956190705299377\n",
      "Epoch: 13 Train Loss: 0.6330097317695618 Test Loss: 0.8636109828948975 RMSE: 0.7956190705299377\n",
      "Epoch: 14 Train Loss: 0.633009672164917 Test Loss: 0.8636111617088318 RMSE: 0.7956190705299377\n",
      "Epoch: 15 Train Loss: 0.633009672164917 Test Loss: 0.8636111617088318 RMSE: 0.7956190705299377\n",
      "Epoch: 16 Train Loss: 0.633009672164917 Test Loss: 0.8636112809181213 RMSE: 0.7956190705299377\n",
      "Epoch: 17 Train Loss: 0.6330096125602722 Test Loss: 0.8636114001274109 RMSE: 0.795619010925293\n",
      "Epoch: 18 Train Loss: 0.6330095529556274 Test Loss: 0.8636114597320557 RMSE: 0.7956189513206482\n",
      "Epoch: 19 Train Loss: 0.6330095529556274 Test Loss: 0.8636115193367004 RMSE: 0.7956189513206482\n",
      "Epoch: 20 Train Loss: 0.6330095529556274 Test Loss: 0.8636116981506348 RMSE: 0.7956189513206482\n",
      "Epoch: 21 Train Loss: 0.6330094337463379 Test Loss: 0.8636116981506348 RMSE: 0.7956188917160034\n",
      "Epoch: 22 Train Loss: 0.6330094337463379 Test Loss: 0.8636117577552795 RMSE: 0.7956188917160034\n",
      "Epoch: 23 Train Loss: 0.6330094337463379 Test Loss: 0.8636119365692139 RMSE: 0.7956188917160034\n",
      "Epoch: 24 Train Loss: 0.6330093741416931 Test Loss: 0.8636119365692139 RMSE: 0.7956188917160034\n",
      "Epoch: 25 Train Loss: 0.6330093741416931 Test Loss: 0.8636119365692139 RMSE: 0.7956188917160034\n",
      "Epoch: 26 Train Loss: 0.6330093741416931 Test Loss: 0.8636121153831482 RMSE: 0.7956188917160034\n",
      "Epoch: 27 Train Loss: 0.6330093741416931 Test Loss: 0.8636122345924377 RMSE: 0.7956188917160034\n",
      "Epoch: 28 Train Loss: 0.6330093145370483 Test Loss: 0.8636122345924377 RMSE: 0.7956188321113586\n",
      "Epoch: 29 Train Loss: 0.6330092549324036 Test Loss: 0.8636122345924377 RMSE: 0.7956187725067139\n",
      "Epoch: 30 Train Loss: 0.6330091953277588 Test Loss: 0.8636124134063721 RMSE: 0.7956187725067139\n",
      "Epoch: 31 Train Loss: 0.6330092549324036 Test Loss: 0.8636124730110168 RMSE: 0.7956187725067139\n",
      "Epoch: 32 Train Loss: 0.6330091953277588 Test Loss: 0.8636125326156616 RMSE: 0.7956187725067139\n",
      "Epoch: 33 Train Loss: 0.633009135723114 Test Loss: 0.8636126518249512 RMSE: 0.7956187129020691\n",
      "Epoch: 34 Train Loss: 0.633009135723114 Test Loss: 0.863612711429596 RMSE: 0.7956187129020691\n",
      "Epoch: 35 Train Loss: 0.6330090761184692 Test Loss: 0.8636127710342407 RMSE: 0.7956186532974243\n",
      "Epoch: 36 Train Loss: 0.6330090165138245 Test Loss: 0.8636128902435303 RMSE: 0.7956186532974243\n",
      "Epoch: 37 Train Loss: 0.6330090165138245 Test Loss: 0.8636130094528198 RMSE: 0.7956186532974243\n",
      "Epoch: 38 Train Loss: 0.6330090165138245 Test Loss: 0.8636130094528198 RMSE: 0.7956186532974243\n",
      "Epoch: 39 Train Loss: 0.6330090165138245 Test Loss: 0.8636130094528198 RMSE: 0.7956186532974243\n",
      "Epoch: 40 Train Loss: 0.6330090165138245 Test Loss: 0.8636131286621094 RMSE: 0.7956186532974243\n",
      "Epoch: 41 Train Loss: 0.6330090165138245 Test Loss: 0.8636131286621094 RMSE: 0.7956186532974243\n",
      "Epoch: 42 Train Loss: 0.6330089569091797 Test Loss: 0.8636133670806885 RMSE: 0.7956185936927795\n",
      "Epoch: 43 Train Loss: 0.6330089569091797 Test Loss: 0.8636133670806885 RMSE: 0.7956185936927795\n",
      "Epoch: 44 Train Loss: 0.6330088973045349 Test Loss: 0.8636134266853333 RMSE: 0.7956185340881348\n",
      "Epoch: 45 Train Loss: 0.6330089569091797 Test Loss: 0.8636134266853333 RMSE: 0.7956185936927795\n",
      "Epoch: 46 Train Loss: 0.6330089569091797 Test Loss: 0.863613486289978 RMSE: 0.7956185936927795\n",
      "Epoch: 47 Train Loss: 0.6330088376998901 Test Loss: 0.8636136651039124 RMSE: 0.7956185340881348\n",
      "Epoch: 48 Train Loss: 0.6330088376998901 Test Loss: 0.8636137843132019 RMSE: 0.7956185340881348\n",
      "Epoch: 49 Train Loss: 0.6330088376998901 Test Loss: 0.8636137247085571 RMSE: 0.7956185340881348\n"
     ]
    }
   ],
   "source": [
    "import matplotlib.pyplot as plt\n",
    "\n",
    "# 1. Modify the training loop to save loss and RMSE for each epoch.\n",
    "train_loss_values = []\n",
    "train_rmse_values = []\n",
    "test_loss_values = []\n",
    "\n",
    "for epoch in range(50):  # number of epochs\n",
    "    # Training loop\n",
    "    user, movie, genre, director, rating = train_data\n",
    "    optimizer.zero_grad()\n",
    "    outputs = model(user, movie, genre, director).squeeze()\n",
    "    train_loss = criterion(outputs, rating.float())\n",
    "    train_loss.backward()\n",
    "    optimizer.step()\n",
    "\n",
    "    rmse_value = rmse(outputs, rating.float()).item()\n",
    "    train_rmse_values.append(rmse_value)\n",
    "    train_loss_values.append(train_loss.item())\n",
    "\n",
    "    # Evaluation on test data for each epoch\n",
    "    with torch.no_grad():\n",
    "        user, movie, genre, director, rating = test_data\n",
    "        outputs = model(user, movie, genre, director).squeeze()\n",
    "        test_loss = criterion(outputs, rating.float()).item()\n",
    "        test_loss_values.append(test_loss)\n",
    "\n",
    "    print('Epoch:', epoch, 'Train Loss:', train_loss.item(), 'Test Loss:', test_loss, 'RMSE:', rmse_value)"
   ],
   "metadata": {
    "collapsed": false,
    "ExecuteTime": {
     "end_time": "2023-08-09T19:50:40.387922598Z",
     "start_time": "2023-08-09T19:50:34.725188289Z"
    }
   }
  },
  {
   "cell_type": "markdown",
   "source": [
    "# Visualizations"
   ],
   "metadata": {
    "collapsed": false
   }
  },
  {
   "cell_type": "code",
   "execution_count": 31,
   "outputs": [
    {
     "data": {
      "text/plain": "<Figure size 1200x600 with 1 Axes>",
      "image/png": "[encoded data removed]"
     },
     "metadata": {},
     "output_type": "display_data"
    },
    {
     "data": {
      "text/plain": "<Figure size 1000x600 with 1 Axes>",
      "image/png": "[encoded data removed]"
     },
     "metadata": {},
     "output_type": "display_data"
    }
   ],
   "source": [
    "# Visualization 1: RMSE during training\n",
    "plt.figure(figsize=(12,6))\n",
    "plt.plot(train_rmse_values, label=\"Training RMSE\")\n",
    "plt.title(\"RMSE during Training\")\n",
    "plt.xlabel(\"Epoch\")\n",
    "plt.ylabel(\"RMSE\")\n",
    "plt.legend()\n",
    "plt.grid(True)\n",
    "plt.show()\n",
    "\n",
    "# Visualization 2: Train and Test Loss over epochs\n",
    "epochs = list(range(1, 51))\n",
    "plt.figure(figsize=(10, 6))\n",
    "plt.plot(epochs, train_loss_values, label=\"Training Loss\")\n",
    "plt.plot(epochs, test_loss_values, label=\"Test Loss\")\n",
    "plt.title(\"Training vs. Test Loss\")\n",
    "plt.xlabel(\"Epochs\")\n",
    "plt.ylabel(\"Loss\")\n",
    "plt.legend()\n",
    "plt.grid(True)\n",
    "plt.show()"
   ],
   "metadata": {
    "collapsed": false,
    "ExecuteTime": {
     "end_time": "2023-08-09T19:50:40.755758206Z",
     "start_time": "2023-08-09T19:50:40.387748474Z"
    }
   }
  },
  {
   "cell_type": "code",
   "execution_count": null,
   "outputs": [],
   "source": [],
   "metadata": {
    "collapsed": false
   }
  }
 ],
 "metadata": {
  "kernelspec": {
   "display_name": "Python 3",
   "language": "python",
   "name": "python3"
  },
  "language_info": {
   "codemirror_mode": {
    "name": "ipython",
    "version": 2
   },
   "file_extension": ".py",
   "mimetype": "text/x-python",
   "name": "python",
   "nbconvert_exporter": "python",
   "pygments_lexer": "ipython2",
   "version": "2.7.6"
  }
 },
 "nbformat": 4,
 "nbformat_minor": 0
}
