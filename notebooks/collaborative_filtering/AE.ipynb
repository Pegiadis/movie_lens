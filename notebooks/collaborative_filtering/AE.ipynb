{
 "cells": [
  {
   "cell_type": "markdown",
   "source": [
    "# Autoencoders for Collaborative Filtering"
   ],
   "metadata": {
    "collapsed": false
   }
  },
  {
   "cell_type": "code",
   "execution_count": 1,
   "outputs": [],
   "source": [
    "import torch\n",
    "import pandas as pd\n",
    "import numpy as np\n",
    "from torch import nn, optim\n",
    "from torch.utils.data import Dataset, DataLoader, random_split\n",
    "\n",
    "import torch.nn.functional as F\n",
    "from sklearn.preprocessing import LabelEncoder\n",
    "from sklearn.model_selection import train_test_split"
   ],
   "metadata": {
    "collapsed": false,
    "ExecuteTime": {
     "end_time": "2023-09-09T16:58:42.747399847Z",
     "start_time": "2023-09-09T16:58:40.235844590Z"
    }
   }
  },
  {
   "cell_type": "code",
   "execution_count": 2,
   "outputs": [],
   "source": [
    "data = pd.read_csv('../../data/lens_tmdb/ratings_small.csv')"
   ],
   "metadata": {
    "collapsed": false,
    "ExecuteTime": {
     "end_time": "2023-09-09T16:58:42.786910571Z",
     "start_time": "2023-09-09T16:58:42.749467311Z"
    }
   }
  },
  {
   "cell_type": "code",
   "execution_count": 3,
   "outputs": [],
   "source": [
    "ratings_df = data[['userId', 'movieId', 'rating']]"
   ],
   "metadata": {
    "collapsed": false,
    "ExecuteTime": {
     "end_time": "2023-09-09T16:58:42.791073368Z",
     "start_time": "2023-09-09T16:58:42.789303922Z"
    }
   }
  },
  {
   "cell_type": "code",
   "execution_count": 4,
   "outputs": [
    {
     "name": "stderr",
     "output_type": "stream",
     "text": [
      "/tmp/ipykernel_11130/1744291944.py:1: SettingWithCopyWarning: \n",
      "A value is trying to be set on a copy of a slice from a DataFrame.\n",
      "Try using .loc[row_indexer,col_indexer] = value instead\n",
      "\n",
      "See the caveats in the documentation: https://pandas.pydata.org/pandas-docs/stable/user_guide/indexing.html#returning-a-view-versus-a-copy\n",
      "  ratings_df['rating'] = ratings_df['rating'].apply(lambda x: 1 if x >= 4 else 0)\n"
     ]
    }
   ],
   "source": [
    "ratings_df['rating'] = ratings_df['rating'].apply(lambda x: 1 if x >= 4 else 0)\n"
   ],
   "metadata": {
    "collapsed": false,
    "ExecuteTime": {
     "end_time": "2023-09-09T16:58:42.831681861Z",
     "start_time": "2023-09-09T16:58:42.792836263Z"
    }
   }
  },
  {
   "cell_type": "code",
   "execution_count": 5,
   "outputs": [
    {
     "name": "stderr",
     "output_type": "stream",
     "text": [
      "/tmp/ipykernel_11130/3728636018.py:2: SettingWithCopyWarning: \n",
      "A value is trying to be set on a copy of a slice from a DataFrame.\n",
      "Try using .loc[row_indexer,col_indexer] = value instead\n",
      "\n",
      "See the caveats in the documentation: https://pandas.pydata.org/pandas-docs/stable/user_guide/indexing.html#returning-a-view-versus-a-copy\n",
      "  ratings_df['userId'] = user_enc.fit_transform(ratings_df['userId'].values)\n",
      "/tmp/ipykernel_11130/3728636018.py:5: SettingWithCopyWarning: \n",
      "A value is trying to be set on a copy of a slice from a DataFrame.\n",
      "Try using .loc[row_indexer,col_indexer] = value instead\n",
      "\n",
      "See the caveats in the documentation: https://pandas.pydata.org/pandas-docs/stable/user_guide/indexing.html#returning-a-view-versus-a-copy\n",
      "  ratings_df['movieId'] = item_enc.fit_transform(ratings_df['movieId'].values)\n"
     ]
    }
   ],
   "source": [
    "user_enc = LabelEncoder()\n",
    "ratings_df['userId'] = user_enc.fit_transform(ratings_df['userId'].values)\n",
    "\n",
    "item_enc = LabelEncoder()\n",
    "ratings_df['movieId'] = item_enc.fit_transform(ratings_df['movieId'].values)\n"
   ],
   "metadata": {
    "collapsed": false,
    "ExecuteTime": {
     "end_time": "2023-09-09T16:58:42.900426167Z",
     "start_time": "2023-09-09T16:58:42.819204291Z"
    }
   }
  },
  {
   "cell_type": "markdown",
   "source": [
    "## Split the Data into Train and Test"
   ],
   "metadata": {
    "collapsed": false
   }
  },
  {
   "cell_type": "code",
   "execution_count": 6,
   "outputs": [],
   "source": [
    "train_df, test_df = train_test_split(ratings_df, test_size=0.2, random_state=42)\n"
   ],
   "metadata": {
    "collapsed": false,
    "ExecuteTime": {
     "end_time": "2023-09-09T16:58:42.900650362Z",
     "start_time": "2023-09-09T16:58:42.872031741Z"
    }
   }
  },
  {
   "cell_type": "markdown",
   "source": [
    "## Create Dataloaders"
   ],
   "metadata": {
    "collapsed": false
   }
  },
  {
   "cell_type": "code",
   "execution_count": 7,
   "outputs": [],
   "source": [
    "class MovieLensDataset(Dataset):\n",
    "    def __init__(self, ratings_df, num_users, num_items):\n",
    "        self.users = ratings_df['userId'].values.astype(np.int64)\n",
    "        self.items = ratings_df['movieId'].values.astype(np.int64)\n",
    "        self.ratings = ratings_df['rating'].values.astype(np.float32)\n",
    "\n",
    "        self.num_users = num_users\n",
    "        self.num_items = num_items\n",
    "\n",
    "    def __len__(self):\n",
    "        return len(self.users)\n",
    "\n",
    "    def __getitem__(self, idx):\n",
    "        return self.users[idx], self.items[idx], self.ratings[idx]\n"
   ],
   "metadata": {
    "collapsed": false,
    "ExecuteTime": {
     "end_time": "2023-09-09T16:58:42.900792916Z",
     "start_time": "2023-09-09T16:58:42.872198739Z"
    }
   }
  },
  {
   "cell_type": "code",
   "execution_count": 8,
   "outputs": [],
   "source": [
    "num_users = ratings_df['userId'].nunique()\n",
    "num_items = ratings_df['movieId'].nunique()\n",
    "\n",
    "train_dataset = MovieLensDataset(train_df, num_users, num_items)\n",
    "test_dataset = MovieLensDataset(test_df, num_users, num_items)\n",
    "\n",
    "train_loader = DataLoader(train_dataset, batch_size=1024, shuffle=True)\n",
    "test_loader = DataLoader(test_dataset, batch_size=1024)\n"
   ],
   "metadata": {
    "collapsed": false,
    "ExecuteTime": {
     "end_time": "2023-09-09T16:58:42.900909902Z",
     "start_time": "2023-09-09T16:58:42.872337301Z"
    }
   }
  },
  {
   "cell_type": "markdown",
   "source": [
    "# Create Model Architecture"
   ],
   "metadata": {
    "collapsed": false
   }
  },
  {
   "cell_type": "code",
   "execution_count": 9,
   "outputs": [],
   "source": [
    "class AutoEncoder(nn.Module):\n",
    "    def __init__(self, num_users, num_items, embedding_dim, hidden_dim):\n",
    "        super().__init__()\n",
    "        self.user_emb = nn.Embedding(num_users, embedding_dim)\n",
    "        self.item_emb = nn.Embedding(num_items, embedding_dim)\n",
    "        self.encoder = nn.Sequential(\n",
    "            nn.Linear(embedding_dim*2, hidden_dim),\n",
    "            nn.ReLU(),\n",
    "            nn.Linear(hidden_dim, embedding_dim*2)\n",
    "        )\n",
    "        self.decoder = nn.Sequential(\n",
    "            nn.Linear(embedding_dim*2, hidden_dim),\n",
    "            nn.ReLU(),\n",
    "            nn.Linear(hidden_dim, 1)\n",
    "        )\n",
    "\n",
    "    def forward(self, users, items):\n",
    "        user_emb = self.user_emb(users)\n",
    "        item_emb = self.item_emb(items)\n",
    "        x = torch.cat([user_emb, item_emb], dim=1)\n",
    "        x = self.encoder(x)\n",
    "        x = self.decoder(x)\n",
    "        return torch.sigmoid(x).squeeze()\n"
   ],
   "metadata": {
    "collapsed": false,
    "ExecuteTime": {
     "end_time": "2023-09-09T16:58:42.901023151Z",
     "start_time": "2023-09-09T16:58:42.872453307Z"
    }
   }
  },
  {
   "cell_type": "markdown",
   "source": [
    "### Metrics"
   ],
   "metadata": {
    "collapsed": false
   }
  },
  {
   "cell_type": "code",
   "execution_count": 10,
   "outputs": [],
   "source": [
    "def mae(y_true, y_pred):\n",
    "    return torch.mean(torch.abs(y_true - y_pred))\n",
    "\n",
    "def rmse(y_true, y_pred):\n",
    "    return torch.sqrt(torch.mean((y_true - y_pred)**2))\n",
    "\n",
    "def mse(y_true, y_pred):\n",
    "    return torch.mean((y_true - y_pred)**2)"
   ],
   "metadata": {
    "collapsed": false,
    "ExecuteTime": {
     "end_time": "2023-09-09T16:58:42.901135657Z",
     "start_time": "2023-09-09T16:58:42.872583723Z"
    }
   }
  },
  {
   "cell_type": "markdown",
   "source": [
    "# Train the Model and Evaluate"
   ],
   "metadata": {
    "collapsed": false
   }
  },
  {
   "cell_type": "code",
   "execution_count": 17,
   "outputs": [
    {
     "name": "stdout",
     "output_type": "stream",
     "text": [
      "Epoch 1/10, Train Loss: 0.6289210734488089\n",
      "Test Loss: 0.5932237088680268\n",
      "Test MAE: 0.41090966314077376\n",
      "Test RMSE: 0.45124675184488294\n",
      "Test MSE: 0.2036513179540634\n",
      "Epoch 2/10, Train Loss: 0.5572365726096721\n",
      "Test Loss: 0.5877001374959946\n",
      "Test MAE: 0.3762653812766075\n",
      "Test RMSE: 0.44554654508829117\n",
      "Test MSE: 0.19854395538568498\n",
      "Epoch 3/10, Train Loss: 0.516375060700163\n",
      "Test Loss: 0.58542500436306\n",
      "Test MAE: 0.3645823135972023\n",
      "Test RMSE: 0.44379660338163374\n",
      "Test MSE: 0.19699430838227272\n",
      "Epoch 4/10, Train Loss: 0.4907975030850761\n",
      "Test Loss: 0.5836811155080796\n",
      "Test MAE: 0.379084375500679\n",
      "Test RMSE: 0.44334964752197265\n",
      "Test MSE: 0.19659911170601846\n",
      "Epoch 5/10, Train Loss: 0.464162387802631\n",
      "Test Loss: 0.6215766936540603\n",
      "Test MAE: 0.3658381164073944\n",
      "Test RMSE: 0.45125441551208495\n",
      "Test MSE: 0.20367684736847877\n",
      "Epoch 6/10, Train Loss: 0.4341091581537754\n",
      "Test Loss: 0.6640845656394958\n",
      "Test MAE: 0.36356947124004363\n",
      "Test RMSE: 0.46075479686260223\n",
      "Test MSE: 0.2123781383037567\n",
      "Epoch 7/10, Train Loss: 0.4017604442336891\n",
      "Test Loss: 0.6944037795066833\n",
      "Test MAE: 0.3573132365942001\n",
      "Test RMSE: 0.46782967150211335\n",
      "Test MSE: 0.2189288429915905\n",
      "Epoch 8/10, Train Loss: 0.36489875935300997\n",
      "Test Loss: 0.7461194604635238\n",
      "Test MAE: 0.3568600654602051\n",
      "Test RMSE: 0.47458393722772596\n",
      "Test MSE: 0.22531883642077447\n",
      "Epoch 9/10, Train Loss: 0.3287923705728748\n",
      "Test Loss: 0.8666058957576752\n",
      "Test MAE: 0.35283730924129486\n",
      "Test RMSE: 0.48754424303770066\n",
      "Test MSE: 0.23780945017933847\n",
      "Epoch 10/10, Train Loss: 0.29161556498913827\n",
      "Test Loss: 0.9108098149299622\n",
      "Test MAE: 0.3539005622267723\n",
      "Test RMSE: 0.49245075434446334\n",
      "Test MSE: 0.2426229603588581\n"
     ]
    }
   ],
   "source": [
    "device = torch.device(\"cuda\" if torch.cuda.is_available() else \"cpu\")\n",
    "model = AutoEncoder(num_users, num_items, embedding_dim=50, hidden_dim=100).to(device)\n",
    "criterion = nn.BCELoss()\n",
    "optimizer = optim.Adam(model.parameters(), lr=0.01)\n",
    "train_losses = []\n",
    "test_losses = []\n",
    "maes = []\n",
    "rmses = []\n",
    "mses = []\n",
    "\n",
    "num_epochs = 10\n",
    "for epoch in range(num_epochs):\n",
    "    model.train()\n",
    "    train_loss = 0\n",
    "    for users, items, ratings in train_loader:\n",
    "        users = users.to(device)\n",
    "        items = items.to(device)\n",
    "        ratings = ratings.to(device)\n",
    "\n",
    "        optimizer.zero_grad()\n",
    "        outputs = model(users, items)\n",
    "        loss = criterion(outputs, ratings)\n",
    "        loss.backward()\n",
    "        optimizer.step()\n",
    "\n",
    "        train_loss += loss.item()\n",
    "\n",
    "    train_loss /= len(train_loader) # calculate average loss per epoch\n",
    "    train_losses.append(train_loss)\n",
    "    print(f'Epoch {epoch+1}/{num_epochs}, Train Loss: {train_loss}')\n",
    "\n",
    "    model.eval()\n",
    "    test_loss = 0\n",
    "    test_mae = 0\n",
    "    test_rmse = 0\n",
    "    test_mse = 0\n",
    "\n",
    "    with torch.no_grad():\n",
    "        for users, items, ratings in test_loader:\n",
    "            users = users.to(device)\n",
    "            items = items.to(device)\n",
    "            ratings = ratings.to(device)\n",
    "\n",
    "            outputs = model(users, items)\n",
    "            loss = criterion(outputs, ratings)\n",
    "\n",
    "            test_loss += loss.item()\n",
    "            test_mae += mae(ratings, outputs).item()\n",
    "            test_rmse += rmse(ratings, outputs).item()\n",
    "            test_mse += mse(ratings, outputs).item()\n",
    "\n",
    "\n",
    "        test_loss /= len(test_loader) # calculate average test loss per epoch\n",
    "        test_losses.append(test_loss)\n",
    "\n",
    "        test_mae /= len(test_loader) # calculate average mae per epoch\n",
    "        maes.append(test_mae)\n",
    "\n",
    "        test_rmse /= len(test_loader) # calculate average rmse per epoch\n",
    "        rmses.append(test_rmse)\n",
    "\n",
    "        test_mse /= len(test_loader) # calculate average mse per epoch\n",
    "        mses.append(test_mse)\n",
    "\n",
    "    print(f'Test Loss: {test_loss}')\n",
    "    print(f'Test MAE: {test_mae}')\n",
    "    print(f'Test RMSE: {test_rmse}')\n",
    "    print(f'Test MSE: {test_mse}')\n",
    "\n",
    "\n"
   ],
   "metadata": {
    "collapsed": false,
    "ExecuteTime": {
     "end_time": "2023-09-09T17:01:03.163474432Z",
     "start_time": "2023-09-09T17:01:00.466840992Z"
    }
   }
  },
  {
   "cell_type": "markdown",
   "source": [
    "# Visualize the Losses"
   ],
   "metadata": {
    "collapsed": false
   }
  },
  {
   "cell_type": "code",
   "execution_count": 12,
   "outputs": [
    {
     "data": {
      "text/plain": "<Figure size 1000x600 with 1 Axes>",
      "image/png": "[encoded data removed]"
     },
     "metadata": {},
     "output_type": "display_data"
    },
    {
     "data": {
      "text/plain": "<Figure size 1000x500 with 1 Axes>",
      "image/png": "[encoded data removed]"
     },
     "metadata": {},
     "output_type": "display_data"
    },
    {
     "data": {
      "text/plain": "<Figure size 1000x500 with 1 Axes>",
      "image/png": "[encoded data removed]"
     },
     "metadata": {},
     "output_type": "display_data"
    }
   ],
   "source": [
    "import matplotlib.pyplot as plt\n",
    "\n",
    "# Plot the losses vs. epochs for training and test sets\n",
    "epochs = range(1, num_epochs + 1)\n",
    "\n",
    "plt.figure(figsize=(10, 6))\n",
    "plt.plot(epochs, train_losses, label=\"Training Loss\")\n",
    "plt.plot(epochs, test_losses, label=\"Test Loss\")\n",
    "plt.title(\"Training vs. Test Loss\")\n",
    "plt.xlabel(\"Epochs\")\n",
    "plt.ylabel(\"Loss\")\n",
    "plt.legend()\n",
    "plt.grid(True)\n",
    "plt.show()\n",
    "\n",
    "# Plot the RMSE\n",
    "plt.figure(figsize=(10,5))\n",
    "plt.plot(np.arange(num_epochs), rmses)\n",
    "plt.xlabel('Epochs')\n",
    "plt.ylabel('RMSE')\n",
    "plt.title('Test RMSE')\n",
    "plt.show()\n",
    "\n",
    "# To visualize the distribution of errors on test data\n",
    "# Assume `errors` as absolute difference between predictions and actual ratings\n",
    "errors = torch.abs(outputs - ratings).view(-1).cpu().numpy()\n",
    "\n",
    "plt.figure(figsize=(10,5))\n",
    "plt.hist(errors, bins='auto')\n",
    "plt.xlabel('Error')\n",
    "plt.ylabel('Frequency')\n",
    "plt.title('Distribution of prediction errors on Test set')\n",
    "plt.show()"
   ],
   "metadata": {
    "collapsed": false,
    "ExecuteTime": {
     "end_time": "2023-09-09T16:58:48.892518128Z",
     "start_time": "2023-09-09T16:58:48.274717248Z"
    }
   }
  },
  {
   "cell_type": "markdown",
   "source": [
    "# Make Recommendations"
   ],
   "metadata": {
    "collapsed": false
   }
  },
  {
   "cell_type": "code",
   "execution_count": 13,
   "outputs": [],
   "source": [
    "movies_df = pd.read_csv('../../data/lens_tmdb/cleaned/df_all.csv')\n",
    "\n",
    "def get_movie_details(movie_id):\n",
    "    original_id = item_enc.inverse_transform([movie_id])\n",
    "    movie_row = movies_df[movies_df['movieId'] == original_id[0]]\n",
    "    movie_name = movie_row['title'].values[0]\n",
    "    genres = movie_row['genre'].values[0]\n",
    "    vote_average = movie_row[movie_row['movieId'] == original_id[0]]['vote_average'].values[0]\n",
    "    return movie_name, genres, vote_average\n"
   ],
   "metadata": {
    "collapsed": false,
    "ExecuteTime": {
     "end_time": "2023-09-09T16:58:49.412827520Z",
     "start_time": "2023-09-09T16:58:48.895120957Z"
    }
   }
  },
  {
   "cell_type": "code",
   "execution_count": 14,
   "outputs": [],
   "source": [
    "def recommend(user_id, model, num_items):\n",
    "    user_ids = torch.tensor([user_id]*num_items).to(device)\n",
    "    movie_ids = torch.tensor(range(num_items)).to(device)\n",
    "\n",
    "    with torch.no_grad():\n",
    "        predictions = model(user_ids, movie_ids)\n",
    "\n",
    "    _, indices = torch.topk(predictions, 10)\n",
    "    top_10_movies = indices.cpu().numpy()\n",
    "\n",
    "    movie_details = [get_movie_details(movie_id) for movie_id in top_10_movies]\n",
    "\n",
    "    return movie_details\n"
   ],
   "metadata": {
    "collapsed": false,
    "ExecuteTime": {
     "end_time": "2023-09-09T16:58:49.416414206Z",
     "start_time": "2023-09-09T16:58:49.414974384Z"
    }
   }
  },
  {
   "cell_type": "code",
   "execution_count": 15,
   "outputs": [
    {
     "name": "stdout",
     "output_type": "stream",
     "text": [
      "Movie: Rabbit-Proof Fence\n",
      "Genres: Adventure\n",
      "Vote Average: 6.9\n",
      "\n",
      "\n",
      "Movie: The Pawnbroker\n",
      "Genres: Drama\n",
      "Vote Average: 7.3\n",
      "\n",
      "\n",
      "Movie: For the Birds\n",
      "Genres: Animation\n",
      "Vote Average: 7.5\n",
      "\n",
      "\n",
      "Movie: Running on Empty\n",
      "Genres: Drama\n",
      "Vote Average: 7.4\n",
      "\n",
      "\n",
      "Movie: The History Boys\n",
      "Genres: Comedy\n",
      "Vote Average: 6.6\n",
      "\n",
      "\n",
      "Movie: Planet Terror\n",
      "Genres: Horror\n",
      "Vote Average: 6.5\n",
      "\n",
      "\n",
      "Movie: The Corporation\n",
      "Genres: Documentary\n",
      "Vote Average: 7.6\n",
      "\n",
      "\n",
      "Movie: Red Beard\n",
      "Genres: Drama\n",
      "Vote Average: 8.1\n",
      "\n",
      "\n",
      "Movie: Chopper\n",
      "Genres: Crime\n",
      "Vote Average: 6.7\n",
      "\n",
      "\n",
      "Movie: The Man Without a Past\n",
      "Genres: Romance\n",
      "Vote Average: 7.0\n",
      "\n",
      "\n"
     ]
    }
   ],
   "source": [
    "user_id = 42  # Replace with the ID of the user you want to recommend movies to\n",
    "recommendations = recommend(user_id, model, num_items)\n",
    "for movie_name, genres, vote_average in recommendations:\n",
    "    print(f'Movie: {movie_name}')\n",
    "    print(f'Genres: {genres}')\n",
    "    print(f'Vote Average: {vote_average}')\n",
    "    print('\\n')\n"
   ],
   "metadata": {
    "collapsed": false,
    "ExecuteTime": {
     "end_time": "2023-09-09T16:58:49.442522372Z",
     "start_time": "2023-09-09T16:58:49.418027954Z"
    }
   }
  },
  {
   "cell_type": "code",
   "execution_count": 16,
   "outputs": [],
   "source": [
    "torch.save(model.state_dict(), '../../data/models/model_weights.pth')"
   ],
   "metadata": {
    "collapsed": false,
    "ExecuteTime": {
     "end_time": "2023-09-09T16:58:49.448321934Z",
     "start_time": "2023-09-09T16:58:49.442017685Z"
    }
   }
  },
  {
   "cell_type": "code",
   "execution_count": null,
   "outputs": [],
   "source": [],
   "metadata": {
    "collapsed": false
   }
  }
 ],
 "metadata": {
  "kernelspec": {
   "display_name": "Python 3",
   "language": "python",
   "name": "python3"
  },
  "language_info": {
   "codemirror_mode": {
    "name": "ipython",
    "version": 2
   },
   "file_extension": ".py",
   "mimetype": "text/x-python",
   "name": "python",
   "nbconvert_exporter": "python",
   "pygments_lexer": "ipython2",
   "version": "2.7.6"
  }
 },
 "nbformat": 4,
 "nbformat_minor": 0
}
