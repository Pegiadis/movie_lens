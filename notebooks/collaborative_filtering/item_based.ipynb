{
 "cells": [
  {
   "cell_type": "code",
   "execution_count": 1,
   "metadata": {
    "collapsed": true,
    "ExecuteTime": {
     "end_time": "2023-09-06T19:05:01.407177249Z",
     "start_time": "2023-09-06T19:05:00.933300741Z"
    }
   },
   "outputs": [],
   "source": [
    "import pandas as pd\n",
    "from sklearn.metrics.pairwise import cosine_similarity\n"
   ]
  },
  {
   "cell_type": "code",
   "execution_count": 2,
   "outputs": [],
   "source": [
    "df = pd.read_csv('../../data/lens_tmdb/ratings_small.csv')"
   ],
   "metadata": {
    "collapsed": false,
    "ExecuteTime": {
     "end_time": "2023-09-06T19:05:04.391611931Z",
     "start_time": "2023-09-06T19:05:04.353237167Z"
    }
   }
  },
  {
   "cell_type": "code",
   "execution_count": 10,
   "outputs": [],
   "source": [
    "df = df.dropna()"
   ],
   "metadata": {
    "collapsed": false,
    "ExecuteTime": {
     "end_time": "2023-09-06T19:37:17.423824933Z",
     "start_time": "2023-09-06T19:37:17.377829120Z"
    }
   }
  },
  {
   "cell_type": "code",
   "execution_count": 11,
   "outputs": [],
   "source": [
    "user_item_matrix = df.pivot_table(index='userId', columns='movieId', values='rating')\n"
   ],
   "metadata": {
    "collapsed": false,
    "ExecuteTime": {
     "end_time": "2023-09-06T19:37:20.042178373Z",
     "start_time": "2023-09-06T19:37:19.959101403Z"
    }
   }
  },
  {
   "cell_type": "code",
   "execution_count": 12,
   "outputs": [],
   "source": [
    "item_similarity = cosine_similarity(user_item_matrix.fillna(0).T)\n",
    "item_similarity_df = pd.DataFrame(item_similarity, index=user_item_matrix.columns, columns=user_item_matrix.columns)"
   ],
   "metadata": {
    "collapsed": false,
    "ExecuteTime": {
     "end_time": "2023-09-06T19:37:21.094061380Z",
     "start_time": "2023-09-06T19:37:20.241952045Z"
    }
   }
  },
  {
   "cell_type": "code",
   "execution_count": 13,
   "outputs": [
    {
     "name": "stdout",
     "output_type": "stream",
     "text": [
      "[204, 185, 165, 193, 27]\n"
     ]
    }
   ],
   "source": [
    "def recommend_similar_movies(movie_id, num_recommendations=5):\n",
    "    # Get movies similar to the given movie and sort them by similarity score\n",
    "    similar_movies = item_similarity_df[movie_id].sort_values(ascending=False)\n",
    "\n",
    "    # Return the top 'num_recommendations' movies, excluding the given movie itself\n",
    "    return similar_movies.drop(movie_id).head(num_recommendations).index.tolist()\n",
    "\n",
    "# Test the function\n",
    "print(recommend_similar_movies(31))\n"
   ],
   "metadata": {
    "collapsed": false,
    "ExecuteTime": {
     "end_time": "2023-09-06T19:37:21.097546590Z",
     "start_time": "2023-09-06T19:37:21.090466523Z"
    }
   }
  },
  {
   "cell_type": "code",
   "execution_count": null,
   "outputs": [],
   "source": [],
   "metadata": {
    "collapsed": false
   }
  }
 ],
 "metadata": {
  "kernelspec": {
   "display_name": "Python 3",
   "language": "python",
   "name": "python3"
  },
  "language_info": {
   "codemirror_mode": {
    "name": "ipython",
    "version": 2
   },
   "file_extension": ".py",
   "mimetype": "text/x-python",
   "name": "python",
   "nbconvert_exporter": "python",
   "pygments_lexer": "ipython2",
   "version": "2.7.6"
  }
 },
 "nbformat": 4,
 "nbformat_minor": 0
}
