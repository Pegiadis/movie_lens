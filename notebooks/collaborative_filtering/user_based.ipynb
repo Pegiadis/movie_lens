{
 "cells": [
  {
   "cell_type": "code",
   "execution_count": 1,
   "metadata": {
    "collapsed": true,
    "ExecuteTime": {
     "end_time": "2023-09-06T19:02:57.065197392Z",
     "start_time": "2023-09-06T19:02:56.381300900Z"
    }
   },
   "outputs": [],
   "source": [
    "import pandas as pd\n",
    "from sklearn.metrics.pairwise import cosine_similarity\n"
   ]
  },
  {
   "cell_type": "code",
   "execution_count": 3,
   "outputs": [],
   "source": [
    "df = pd.read_csv('../../data/lens_tmdb/ratings_small.csv')"
   ],
   "metadata": {
    "collapsed": false,
    "ExecuteTime": {
     "end_time": "2023-09-06T19:03:20.056959124Z",
     "start_time": "2023-09-06T19:03:20.014688490Z"
    }
   }
  },
  {
   "cell_type": "code",
   "execution_count": 4,
   "outputs": [],
   "source": [
    "user_item_matrix = df.pivot_table(index='userId', columns='movieId', values='rating')\n"
   ],
   "metadata": {
    "collapsed": false,
    "ExecuteTime": {
     "end_time": "2023-09-06T19:03:22.154488907Z",
     "start_time": "2023-09-06T19:03:22.072204478Z"
    }
   }
  },
  {
   "cell_type": "code",
   "execution_count": 5,
   "outputs": [],
   "source": [
    "user_similarity = cosine_similarity(user_item_matrix.fillna(0))\n",
    "user_similarity_df = pd.DataFrame(user_similarity, index=user_item_matrix.index, columns=user_item_matrix.index)\n"
   ],
   "metadata": {
    "collapsed": false,
    "ExecuteTime": {
     "end_time": "2023-09-06T19:03:29.638336277Z",
     "start_time": "2023-09-06T19:03:29.554678736Z"
    }
   }
  },
  {
   "cell_type": "code",
   "execution_count": 6,
   "outputs": [
    {
     "name": "stdout",
     "output_type": "stream",
     "text": [
      "[105, 277, 585, 724, 914]\n"
     ]
    }
   ],
   "source": [
    "def recommend_movies(user_id, num_recommendations=5):\n",
    "    # Get movies rated by the given user\n",
    "    user_movies = user_item_matrix.loc[user_id].dropna().index\n",
    "\n",
    "    # Get similar users and sort them by similarity score\n",
    "    similar_users = user_similarity_df[user_id].sort_values(ascending=False)\n",
    "\n",
    "    # Initialize an empty list to store recommendations\n",
    "    recommendations = []\n",
    "\n",
    "    for similar_user in similar_users.index:\n",
    "        if len(recommendations) < num_recommendations:\n",
    "            # Get movies rated by the similar user\n",
    "            similar_user_movies = user_item_matrix.loc[similar_user].dropna().index\n",
    "\n",
    "            # Recommend movies rated highly by the similar user but not yet rated by the given user\n",
    "            for movie in similar_user_movies:\n",
    "                if movie not in user_movies:\n",
    "                    recommendations.append(movie)\n",
    "                    if len(recommendations) == num_recommendations:\n",
    "                        break\n",
    "        else:\n",
    "            break\n",
    "\n",
    "    return recommendations\n",
    "\n",
    "# Test the function\n",
    "print(recommend_movies(1))"
   ],
   "metadata": {
    "collapsed": false,
    "ExecuteTime": {
     "end_time": "2023-09-06T19:03:37.100123819Z",
     "start_time": "2023-09-06T19:03:37.096446139Z"
    }
   }
  },
  {
   "cell_type": "code",
   "execution_count": null,
   "outputs": [],
   "source": [],
   "metadata": {
    "collapsed": false
   }
  }
 ],
 "metadata": {
  "kernelspec": {
   "display_name": "Python 3",
   "language": "python",
   "name": "python3"
  },
  "language_info": {
   "codemirror_mode": {
    "name": "ipython",
    "version": 2
   },
   "file_extension": ".py",
   "mimetype": "text/x-python",
   "name": "python",
   "nbconvert_exporter": "python",
   "pygments_lexer": "ipython2",
   "version": "2.7.6"
  }
 },
 "nbformat": 4,
 "nbformat_minor": 0
}
