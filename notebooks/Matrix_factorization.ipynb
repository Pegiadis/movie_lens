{
 "cells": [
  {
   "cell_type": "markdown",
   "source": [
    "# Collaborative Filtering\n",
    "### SVD Matrix Factorization"
   ],
   "metadata": {
    "collapsed": false
   }
  },
  {
   "cell_type": "code",
   "execution_count": 6,
   "metadata": {
    "collapsed": true,
    "ExecuteTime": {
     "end_time": "2023-08-09T20:31:43.634210124Z",
     "start_time": "2023-08-09T20:31:42.557656376Z"
    }
   },
   "outputs": [
    {
     "name": "stdout",
     "output_type": "stream",
     "text": [
      "RMSE: 0.8999\n"
     ]
    }
   ],
   "source": [
    "from surprise import SVD, Dataset, Reader, accuracy\n",
    "from surprise.model_selection import train_test_split\n",
    "import pandas as pd\n",
    "# Load your dataset here\n",
    "# For simplicity, we're using the Surprise library's built-in dataset.\n",
    "ratings = pd.read_csv('../data/lens_tmdb/ratings_small.csv')\n",
    "\n",
    "reader = Reader(rating_scale=(1, 5))  # Rating scale for MovieLens is from 1 to 5\n",
    "data = Dataset.load_from_df(ratings[['userId', 'movieId', 'rating']], reader)\n",
    "\n",
    "# Split into train and test set\n",
    "trainset, testset = train_test_split(data, test_size=0.25)\n",
    "\n",
    "# Train SVD recommender\n",
    "svd = SVD()\n",
    "svd.fit(trainset)\n",
    "\n",
    "# Predictions\n",
    "predictions = svd.test(testset)\n",
    "\n",
    "# Compute RMSE\n",
    "rmse = accuracy.rmse(predictions)\n"
   ]
  },
  {
   "cell_type": "code",
   "execution_count": null,
   "outputs": [],
   "source": [],
   "metadata": {
    "collapsed": false
   }
  }
 ],
 "metadata": {
  "kernelspec": {
   "display_name": "Python 3",
   "language": "python",
   "name": "python3"
  },
  "language_info": {
   "codemirror_mode": {
    "name": "ipython",
    "version": 2
   },
   "file_extension": ".py",
   "mimetype": "text/x-python",
   "name": "python",
   "nbconvert_exporter": "python",
   "pygments_lexer": "ipython2",
   "version": "2.7.6"
  }
 },
 "nbformat": 4,
 "nbformat_minor": 0
}
