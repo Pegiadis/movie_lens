{
 "cells": [
  {
   "cell_type": "code",
   "execution_count": 1,
   "metadata": {
    "collapsed": true,
    "ExecuteTime": {
     "end_time": "2023-09-03T20:18:38.780635147Z",
     "start_time": "2023-09-03T20:18:38.339353005Z"
    }
   },
   "outputs": [
    {
     "name": "stderr",
     "output_type": "stream",
     "text": [
      "/tmp/ipykernel_10871/451757142.py:4: DtypeWarning: Columns (10) have mixed types. Specify dtype option on import or set low_memory=False.\n",
      "  md = pd.read_csv('../data/lens_tmdb/movies_metadata.csv')\n"
     ]
    }
   ],
   "source": [
    "import pandas as pd\n",
    "import numpy as np\n",
    "# Load data\n",
    "md = pd.read_csv('../data/lens_tmdb/movies_metadata.csv')\n",
    "# ratings = pd.read_csv('../../ data/lens_tmdb/ratings.csv')"
   ]
  },
  {
   "cell_type": "markdown",
   "source": [
    "# movies_metadata.csv"
   ],
   "metadata": {
    "collapsed": false
   }
  },
  {
   "cell_type": "code",
   "execution_count": 2,
   "outputs": [
    {
     "data": {
      "text/plain": "       adult                              belongs_to_collection    budget  \\\n0      False  {'id': 10194, 'name': 'Toy Story Collection', ...  30000000   \n1      False                                                NaN  65000000   \n2      False  {'id': 119050, 'name': 'Grumpy Old Men Collect...         0   \n3      False                                                NaN  16000000   \n4      False  {'id': 96871, 'name': 'Father of the Bride Col...         0   \n...      ...                                                ...       ...   \n45461  False                                                NaN         0   \n45462  False                                                NaN         0   \n45463  False                                                NaN         0   \n45464  False                                                NaN         0   \n45465  False                                                NaN         0   \n\n                                                  genres  \\\n0      [{'id': 16, 'name': 'Animation'}, {'id': 35, '...   \n1      [{'id': 12, 'name': 'Adventure'}, {'id': 14, '...   \n2      [{'id': 10749, 'name': 'Romance'}, {'id': 35, ...   \n3      [{'id': 35, 'name': 'Comedy'}, {'id': 18, 'nam...   \n4                         [{'id': 35, 'name': 'Comedy'}]   \n...                                                  ...   \n45461  [{'id': 18, 'name': 'Drama'}, {'id': 10751, 'n...   \n45462                      [{'id': 18, 'name': 'Drama'}]   \n45463  [{'id': 28, 'name': 'Action'}, {'id': 18, 'nam...   \n45464                                                 []   \n45465                                                 []   \n\n                                   homepage      id    imdb_id  \\\n0      http://toystory.disney.com/toy-story     862  tt0114709   \n1                                       NaN    8844  tt0113497   \n2                                       NaN   15602  tt0113228   \n3                                       NaN   31357  tt0114885   \n4                                       NaN   11862  tt0113041   \n...                                     ...     ...        ...   \n45461  http://www.imdb.com/title/tt6209470/  439050  tt6209470   \n45462                                   NaN  111109  tt2028550   \n45463                                   NaN   67758  tt0303758   \n45464                                   NaN  227506  tt0008536   \n45465                                   NaN  461257  tt6980792   \n\n      original_language               original_title  \\\n0                    en                    Toy Story   \n1                    en                      Jumanji   \n2                    en             Grumpier Old Men   \n3                    en            Waiting to Exhale   \n4                    en  Father of the Bride Part II   \n...                 ...                          ...   \n45461                fa                      رگ خواب   \n45462                tl          Siglo ng Pagluluwal   \n45463                en                     Betrayal   \n45464                en          Satana likuyushchiy   \n45465                en                     Queerama   \n\n                                                overview  ... release_date  \\\n0      Led by Woody, Andy's toys live happily in his ...  ...   1995-10-30   \n1      When siblings Judy and Peter discover an encha...  ...   1995-12-15   \n2      A family wedding reignites the ancient feud be...  ...   1995-12-22   \n3      Cheated on, mistreated and stepped on, the wom...  ...   1995-12-22   \n4      Just when George Banks has recovered from his ...  ...   1995-02-10   \n...                                                  ...  ...          ...   \n45461        Rising and falling between a man and woman.  ...          NaN   \n45462  An artist struggles to finish his work while a...  ...   2011-11-17   \n45463  When one of her hits goes wrong, a professiona...  ...   2003-08-01   \n45464  In a small town live two brothers, one a minis...  ...   1917-10-21   \n45465  50 years after decriminalisation of homosexual...  ...   2017-06-09   \n\n           revenue runtime                                   spoken_languages  \\\n0      373554033.0    81.0           [{'iso_639_1': 'en', 'name': 'English'}]   \n1      262797249.0   104.0  [{'iso_639_1': 'en', 'name': 'English'}, {'iso...   \n2              0.0   101.0           [{'iso_639_1': 'en', 'name': 'English'}]   \n3       81452156.0   127.0           [{'iso_639_1': 'en', 'name': 'English'}]   \n4       76578911.0   106.0           [{'iso_639_1': 'en', 'name': 'English'}]   \n...            ...     ...                                                ...   \n45461          0.0    90.0             [{'iso_639_1': 'fa', 'name': 'فارسی'}]   \n45462          0.0   360.0                  [{'iso_639_1': 'tl', 'name': ''}]   \n45463          0.0    90.0           [{'iso_639_1': 'en', 'name': 'English'}]   \n45464          0.0    87.0                                                 []   \n45465          0.0    75.0           [{'iso_639_1': 'en', 'name': 'English'}]   \n\n         status                                            tagline  \\\n0      Released                                                NaN   \n1      Released          Roll the dice and unleash the excitement!   \n2      Released  Still Yelling. Still Fighting. Still Ready for...   \n3      Released  Friends are the people who let you be yourself...   \n4      Released  Just When His World Is Back To Normal... He's ...   \n...         ...                                                ...   \n45461  Released         Rising and falling between a man and woman   \n45462  Released                                                NaN   \n45463  Released                             A deadly game of wits.   \n45464  Released                                                NaN   \n45465  Released                                                NaN   \n\n                             title  video vote_average vote_count  \n0                        Toy Story  False          7.7     5415.0  \n1                          Jumanji  False          6.9     2413.0  \n2                 Grumpier Old Men  False          6.5       92.0  \n3                Waiting to Exhale  False          6.1       34.0  \n4      Father of the Bride Part II  False          5.7      173.0  \n...                            ...    ...          ...        ...  \n45461                       Subdue  False          4.0        1.0  \n45462          Century of Birthing  False          9.0        3.0  \n45463                     Betrayal  False          3.8        6.0  \n45464             Satan Triumphant  False          0.0        0.0  \n45465                     Queerama  False          0.0        0.0  \n\n[45466 rows x 24 columns]",
      "text/html": "<div>\n<style scoped>\n    .dataframe tbody tr th:only-of-type {\n        vertical-align: middle;\n    }\n\n    .dataframe tbody tr th {\n        vertical-align: top;\n    }\n\n    .dataframe thead th {\n        text-align: right;\n    }\n</style>\n<table border=\"1\" class=\"dataframe\">\n  <thead>\n    <tr style=\"text-align: right;\">\n      <th></th>\n      <th>adult</th>\n      <th>belongs_to_collection</th>\n      <th>budget</th>\n      <th>genres</th>\n      <th>homepage</th>\n      <th>id</th>\n      <th>imdb_id</th>\n      <th>original_language</th>\n      <th>original_title</th>\n      <th>overview</th>\n      <th>...</th>\n      <th>release_date</th>\n      <th>revenue</th>\n      <th>runtime</th>\n      <th>spoken_languages</th>\n      <th>status</th>\n      <th>tagline</th>\n      <th>title</th>\n      <th>video</th>\n      <th>vote_average</th>\n      <th>vote_count</th>\n    </tr>\n  </thead>\n  <tbody>\n    <tr>\n      <th>0</th>\n      <td>False</td>\n      <td>{'id': 10194, 'name': 'Toy Story Collection', ...</td>\n      <td>30000000</td>\n      <td>[{'id': 16, 'name': 'Animation'}, {'id': 35, '...</td>\n      <td>http://toystory.disney.com/toy-story</td>\n      <td>862</td>\n      <td>tt0114709</td>\n      <td>en</td>\n      <td>Toy Story</td>\n      <td>Led by Woody, Andy's toys live happily in his ...</td>\n      <td>...</td>\n      <td>1995-10-30</td>\n      <td>373554033.0</td>\n      <td>81.0</td>\n      <td>[{'iso_639_1': 'en', 'name': 'English'}]</td>\n      <td>Released</td>\n      <td>NaN</td>\n      <td>Toy Story</td>\n      <td>False</td>\n      <td>7.7</td>\n      <td>5415.0</td>\n    </tr>\n    <tr>\n      <th>1</th>\n      <td>False</td>\n      <td>NaN</td>\n      <td>65000000</td>\n      <td>[{'id': 12, 'name': 'Adventure'}, {'id': 14, '...</td>\n      <td>NaN</td>\n      <td>8844</td>\n      <td>tt0113497</td>\n      <td>en</td>\n      <td>Jumanji</td>\n      <td>When siblings Judy and Peter discover an encha...</td>\n      <td>...</td>\n      <td>1995-12-15</td>\n      <td>262797249.0</td>\n      <td>104.0</td>\n      <td>[{'iso_639_1': 'en', 'name': 'English'}, {'iso...</td>\n      <td>Released</td>\n      <td>Roll the dice and unleash the excitement!</td>\n      <td>Jumanji</td>\n      <td>False</td>\n      <td>6.9</td>\n      <td>2413.0</td>\n    </tr>\n    <tr>\n      <th>2</th>\n      <td>False</td>\n      <td>{'id': 119050, 'name': 'Grumpy Old Men Collect...</td>\n      <td>0</td>\n      <td>[{'id': 10749, 'name': 'Romance'}, {'id': 35, ...</td>\n      <td>NaN</td>\n      <td>15602</td>\n      <td>tt0113228</td>\n      <td>en</td>\n      <td>Grumpier Old Men</td>\n      <td>A family wedding reignites the ancient feud be...</td>\n      <td>...</td>\n      <td>1995-12-22</td>\n      <td>0.0</td>\n      <td>101.0</td>\n      <td>[{'iso_639_1': 'en', 'name': 'English'}]</td>\n      <td>Released</td>\n      <td>Still Yelling. Still Fighting. Still Ready for...</td>\n      <td>Grumpier Old Men</td>\n      <td>False</td>\n      <td>6.5</td>\n      <td>92.0</td>\n    </tr>\n    <tr>\n      <th>3</th>\n      <td>False</td>\n      <td>NaN</td>\n      <td>16000000</td>\n      <td>[{'id': 35, 'name': 'Comedy'}, {'id': 18, 'nam...</td>\n      <td>NaN</td>\n      <td>31357</td>\n      <td>tt0114885</td>\n      <td>en</td>\n      <td>Waiting to Exhale</td>\n      <td>Cheated on, mistreated and stepped on, the wom...</td>\n      <td>...</td>\n      <td>1995-12-22</td>\n      <td>81452156.0</td>\n      <td>127.0</td>\n      <td>[{'iso_639_1': 'en', 'name': 'English'}]</td>\n      <td>Released</td>\n      <td>Friends are the people who let you be yourself...</td>\n      <td>Waiting to Exhale</td>\n      <td>False</td>\n      <td>6.1</td>\n      <td>34.0</td>\n    </tr>\n    <tr>\n      <th>4</th>\n      <td>False</td>\n      <td>{'id': 96871, 'name': 'Father of the Bride Col...</td>\n      <td>0</td>\n      <td>[{'id': 35, 'name': 'Comedy'}]</td>\n      <td>NaN</td>\n      <td>11862</td>\n      <td>tt0113041</td>\n      <td>en</td>\n      <td>Father of the Bride Part II</td>\n      <td>Just when George Banks has recovered from his ...</td>\n      <td>...</td>\n      <td>1995-02-10</td>\n      <td>76578911.0</td>\n      <td>106.0</td>\n      <td>[{'iso_639_1': 'en', 'name': 'English'}]</td>\n      <td>Released</td>\n      <td>Just When His World Is Back To Normal... He's ...</td>\n      <td>Father of the Bride Part II</td>\n      <td>False</td>\n      <td>5.7</td>\n      <td>173.0</td>\n    </tr>\n    <tr>\n      <th>...</th>\n      <td>...</td>\n      <td>...</td>\n      <td>...</td>\n      <td>...</td>\n      <td>...</td>\n      <td>...</td>\n      <td>...</td>\n      <td>...</td>\n      <td>...</td>\n      <td>...</td>\n      <td>...</td>\n      <td>...</td>\n      <td>...</td>\n      <td>...</td>\n      <td>...</td>\n      <td>...</td>\n      <td>...</td>\n      <td>...</td>\n      <td>...</td>\n      <td>...</td>\n      <td>...</td>\n    </tr>\n    <tr>\n      <th>45461</th>\n      <td>False</td>\n      <td>NaN</td>\n      <td>0</td>\n      <td>[{'id': 18, 'name': 'Drama'}, {'id': 10751, 'n...</td>\n      <td>http://www.imdb.com/title/tt6209470/</td>\n      <td>439050</td>\n      <td>tt6209470</td>\n      <td>fa</td>\n      <td>رگ خواب</td>\n      <td>Rising and falling between a man and woman.</td>\n      <td>...</td>\n      <td>NaN</td>\n      <td>0.0</td>\n      <td>90.0</td>\n      <td>[{'iso_639_1': 'fa', 'name': 'فارسی'}]</td>\n      <td>Released</td>\n      <td>Rising and falling between a man and woman</td>\n      <td>Subdue</td>\n      <td>False</td>\n      <td>4.0</td>\n      <td>1.0</td>\n    </tr>\n    <tr>\n      <th>45462</th>\n      <td>False</td>\n      <td>NaN</td>\n      <td>0</td>\n      <td>[{'id': 18, 'name': 'Drama'}]</td>\n      <td>NaN</td>\n      <td>111109</td>\n      <td>tt2028550</td>\n      <td>tl</td>\n      <td>Siglo ng Pagluluwal</td>\n      <td>An artist struggles to finish his work while a...</td>\n      <td>...</td>\n      <td>2011-11-17</td>\n      <td>0.0</td>\n      <td>360.0</td>\n      <td>[{'iso_639_1': 'tl', 'name': ''}]</td>\n      <td>Released</td>\n      <td>NaN</td>\n      <td>Century of Birthing</td>\n      <td>False</td>\n      <td>9.0</td>\n      <td>3.0</td>\n    </tr>\n    <tr>\n      <th>45463</th>\n      <td>False</td>\n      <td>NaN</td>\n      <td>0</td>\n      <td>[{'id': 28, 'name': 'Action'}, {'id': 18, 'nam...</td>\n      <td>NaN</td>\n      <td>67758</td>\n      <td>tt0303758</td>\n      <td>en</td>\n      <td>Betrayal</td>\n      <td>When one of her hits goes wrong, a professiona...</td>\n      <td>...</td>\n      <td>2003-08-01</td>\n      <td>0.0</td>\n      <td>90.0</td>\n      <td>[{'iso_639_1': 'en', 'name': 'English'}]</td>\n      <td>Released</td>\n      <td>A deadly game of wits.</td>\n      <td>Betrayal</td>\n      <td>False</td>\n      <td>3.8</td>\n      <td>6.0</td>\n    </tr>\n    <tr>\n      <th>45464</th>\n      <td>False</td>\n      <td>NaN</td>\n      <td>0</td>\n      <td>[]</td>\n      <td>NaN</td>\n      <td>227506</td>\n      <td>tt0008536</td>\n      <td>en</td>\n      <td>Satana likuyushchiy</td>\n      <td>In a small town live two brothers, one a minis...</td>\n      <td>...</td>\n      <td>1917-10-21</td>\n      <td>0.0</td>\n      <td>87.0</td>\n      <td>[]</td>\n      <td>Released</td>\n      <td>NaN</td>\n      <td>Satan Triumphant</td>\n      <td>False</td>\n      <td>0.0</td>\n      <td>0.0</td>\n    </tr>\n    <tr>\n      <th>45465</th>\n      <td>False</td>\n      <td>NaN</td>\n      <td>0</td>\n      <td>[]</td>\n      <td>NaN</td>\n      <td>461257</td>\n      <td>tt6980792</td>\n      <td>en</td>\n      <td>Queerama</td>\n      <td>50 years after decriminalisation of homosexual...</td>\n      <td>...</td>\n      <td>2017-06-09</td>\n      <td>0.0</td>\n      <td>75.0</td>\n      <td>[{'iso_639_1': 'en', 'name': 'English'}]</td>\n      <td>Released</td>\n      <td>NaN</td>\n      <td>Queerama</td>\n      <td>False</td>\n      <td>0.0</td>\n      <td>0.0</td>\n    </tr>\n  </tbody>\n</table>\n<p>45466 rows × 24 columns</p>\n</div>"
     },
     "execution_count": 2,
     "metadata": {},
     "output_type": "execute_result"
    }
   ],
   "source": [
    "md"
   ],
   "metadata": {
    "collapsed": false,
    "ExecuteTime": {
     "end_time": "2023-09-03T20:18:38.844333036Z",
     "start_time": "2023-09-03T20:18:38.780143976Z"
    }
   }
  },
  {
   "cell_type": "code",
   "execution_count": 3,
   "outputs": [],
   "source": [
    "import pandas as pd\n",
    "import ast\n",
    "\n",
    "# assuming df is your DataFrame\n",
    "# and assuming the dictionaries are stored as strings, we first need to convert them into actual Python objects\n",
    "dict_columns = ['belongs_to_collection', 'genres', 'production_companies', 'production_countries', 'spoken_languages']\n",
    "\n",
    "for col in dict_columns:\n",
    "    md[col] = md[col].apply(lambda x: ast.literal_eval(x) if isinstance(x, str) else np.nan)\n",
    "\n",
    "# Now, let's extract the information we want\n",
    "md['collection_name'] = md['belongs_to_collection'].apply(lambda x: x['name'] if isinstance(x, dict) else np.nan)\n",
    "md['genre'] = md['genres'].apply(lambda x: x[0]['name'] if isinstance(x, list) and len(x) > 0 else np.nan)\n",
    "md['production_company'] = md['production_companies'].apply(lambda x: x[0]['name'] if isinstance(x, list) and len(x) > 0 else np.nan)\n",
    "md['production_country'] = md['production_countries'].apply(lambda x: x[0]['name'] if isinstance(x, list) and len(x) > 0 else np.nan)\n",
    "md['spoken_language'] = md['spoken_languages'].apply(lambda x: x[0]['name'] if isinstance(x, list) and len(x) > 0 else np.nan)\n",
    "\n",
    "# now drop the original columns\n",
    "md = md.drop(columns=dict_columns)\n"
   ],
   "metadata": {
    "collapsed": false,
    "ExecuteTime": {
     "end_time": "2023-09-03T20:18:41.764327208Z",
     "start_time": "2023-09-03T20:18:38.831944089Z"
    }
   }
  },
  {
   "cell_type": "code",
   "execution_count": 4,
   "outputs": [
    {
     "data": {
      "text/plain": "       adult    budget                              homepage      id  \\\n0      False  30000000  http://toystory.disney.com/toy-story     862   \n1      False  65000000                                   NaN    8844   \n2      False         0                                   NaN   15602   \n3      False  16000000                                   NaN   31357   \n4      False         0                                   NaN   11862   \n...      ...       ...                                   ...     ...   \n45461  False         0  http://www.imdb.com/title/tt6209470/  439050   \n45462  False         0                                   NaN  111109   \n45463  False         0                                   NaN   67758   \n45464  False         0                                   NaN  227506   \n45465  False         0                                   NaN  461257   \n\n         imdb_id original_language               original_title  \\\n0      tt0114709                en                    Toy Story   \n1      tt0113497                en                      Jumanji   \n2      tt0113228                en             Grumpier Old Men   \n3      tt0114885                en            Waiting to Exhale   \n4      tt0113041                en  Father of the Bride Part II   \n...          ...               ...                          ...   \n45461  tt6209470                fa                      رگ خواب   \n45462  tt2028550                tl          Siglo ng Pagluluwal   \n45463  tt0303758                en                     Betrayal   \n45464  tt0008536                en          Satana likuyushchiy   \n45465  tt6980792                en                     Queerama   \n\n                                                overview popularity  \\\n0      Led by Woody, Andy's toys live happily in his ...  21.946943   \n1      When siblings Judy and Peter discover an encha...  17.015539   \n2      A family wedding reignites the ancient feud be...    11.7129   \n3      Cheated on, mistreated and stepped on, the wom...   3.859495   \n4      Just when George Banks has recovered from his ...   8.387519   \n...                                                  ...        ...   \n45461        Rising and falling between a man and woman.   0.072051   \n45462  An artist struggles to finish his work while a...   0.178241   \n45463  When one of her hits goes wrong, a professiona...   0.903007   \n45464  In a small town live two brothers, one a minis...   0.003503   \n45465  50 years after decriminalisation of homosexual...   0.163015   \n\n                            poster_path  ...  \\\n0      /rhIRbceoE9lR4veEXuwCC2wARtG.jpg  ...   \n1      /vzmL6fP7aPKNKPRTFnZmiUfciyV.jpg  ...   \n2      /6ksm1sjKMFLbO7UY2i6G1ju9SML.jpg  ...   \n3      /16XOMpEaLWkrcPqSQqhTmeJuqQl.jpg  ...   \n4      /e64sOI48hQXyru7naBFyssKFxVd.jpg  ...   \n...                                 ...  ...   \n45461  /jldsYflnId4tTWPx8es3uzsB1I8.jpg  ...   \n45462  /xZkmxsNmYXJbKVsTRLLx3pqGHx7.jpg  ...   \n45463  /d5bX92nDsISNhu3ZT69uHwmfCGw.jpg  ...   \n45464  /aorBPO7ak8e8iJKT5OcqYxU3jlK.jpg  ...   \n45465  /s5UkZt6NTsrS7ZF0Rh8nzupRlIU.jpg  ...   \n\n                                                 tagline  \\\n0                                                    NaN   \n1              Roll the dice and unleash the excitement!   \n2      Still Yelling. Still Fighting. Still Ready for...   \n3      Friends are the people who let you be yourself...   \n4      Just When His World Is Back To Normal... He's ...   \n...                                                  ...   \n45461         Rising and falling between a man and woman   \n45462                                                NaN   \n45463                             A deadly game of wits.   \n45464                                                NaN   \n45465                                                NaN   \n\n                             title  video vote_average vote_count  \\\n0                        Toy Story  False          7.7     5415.0   \n1                          Jumanji  False          6.9     2413.0   \n2                 Grumpier Old Men  False          6.5       92.0   \n3                Waiting to Exhale  False          6.1       34.0   \n4      Father of the Bride Part II  False          5.7      173.0   \n...                            ...    ...          ...        ...   \n45461                       Subdue  False          4.0        1.0   \n45462          Century of Birthing  False          9.0        3.0   \n45463                     Betrayal  False          3.8        6.0   \n45464             Satan Triumphant  False          0.0        0.0   \n45465                     Queerama  False          0.0        0.0   \n\n                      collection_name      genre  \\\n0                Toy Story Collection  Animation   \n1                                 NaN  Adventure   \n2           Grumpy Old Men Collection    Romance   \n3                                 NaN     Comedy   \n4      Father of the Bride Collection     Comedy   \n...                               ...        ...   \n45461                             NaN      Drama   \n45462                             NaN      Drama   \n45463                             NaN     Action   \n45464                             NaN        NaN   \n45465                             NaN        NaN   \n\n                           production_company        production_country  \\\n0                     Pixar Animation Studios  United States of America   \n1                            TriStar Pictures  United States of America   \n2                                Warner Bros.  United States of America   \n3      Twentieth Century Fox Film Corporation  United States of America   \n4                       Sandollar Productions  United States of America   \n...                                       ...                       ...   \n45461                                     NaN                      Iran   \n45462                             Sine Olivia               Philippines   \n45463                 American World Pictures  United States of America   \n45464                               Yermoliev                    Russia   \n45465                                     NaN            United Kingdom   \n\n      spoken_language  \n0             English  \n1             English  \n2             English  \n3             English  \n4             English  \n...               ...  \n45461           فارسی  \n45462                  \n45463         English  \n45464             NaN  \n45465         English  \n\n[45466 rows x 24 columns]",
      "text/html": "<div>\n<style scoped>\n    .dataframe tbody tr th:only-of-type {\n        vertical-align: middle;\n    }\n\n    .dataframe tbody tr th {\n        vertical-align: top;\n    }\n\n    .dataframe thead th {\n        text-align: right;\n    }\n</style>\n<table border=\"1\" class=\"dataframe\">\n  <thead>\n    <tr style=\"text-align: right;\">\n      <th></th>\n      <th>adult</th>\n      <th>budget</th>\n      <th>homepage</th>\n      <th>id</th>\n      <th>imdb_id</th>\n      <th>original_language</th>\n      <th>original_title</th>\n      <th>overview</th>\n      <th>popularity</th>\n      <th>poster_path</th>\n      <th>...</th>\n      <th>tagline</th>\n      <th>title</th>\n      <th>video</th>\n      <th>vote_average</th>\n      <th>vote_count</th>\n      <th>collection_name</th>\n      <th>genre</th>\n      <th>production_company</th>\n      <th>production_country</th>\n      <th>spoken_language</th>\n    </tr>\n  </thead>\n  <tbody>\n    <tr>\n      <th>0</th>\n      <td>False</td>\n      <td>30000000</td>\n      <td>http://toystory.disney.com/toy-story</td>\n      <td>862</td>\n      <td>tt0114709</td>\n      <td>en</td>\n      <td>Toy Story</td>\n      <td>Led by Woody, Andy's toys live happily in his ...</td>\n      <td>21.946943</td>\n      <td>/rhIRbceoE9lR4veEXuwCC2wARtG.jpg</td>\n      <td>...</td>\n      <td>NaN</td>\n      <td>Toy Story</td>\n      <td>False</td>\n      <td>7.7</td>\n      <td>5415.0</td>\n      <td>Toy Story Collection</td>\n      <td>Animation</td>\n      <td>Pixar Animation Studios</td>\n      <td>United States of America</td>\n      <td>English</td>\n    </tr>\n    <tr>\n      <th>1</th>\n      <td>False</td>\n      <td>65000000</td>\n      <td>NaN</td>\n      <td>8844</td>\n      <td>tt0113497</td>\n      <td>en</td>\n      <td>Jumanji</td>\n      <td>When siblings Judy and Peter discover an encha...</td>\n      <td>17.015539</td>\n      <td>/vzmL6fP7aPKNKPRTFnZmiUfciyV.jpg</td>\n      <td>...</td>\n      <td>Roll the dice and unleash the excitement!</td>\n      <td>Jumanji</td>\n      <td>False</td>\n      <td>6.9</td>\n      <td>2413.0</td>\n      <td>NaN</td>\n      <td>Adventure</td>\n      <td>TriStar Pictures</td>\n      <td>United States of America</td>\n      <td>English</td>\n    </tr>\n    <tr>\n      <th>2</th>\n      <td>False</td>\n      <td>0</td>\n      <td>NaN</td>\n      <td>15602</td>\n      <td>tt0113228</td>\n      <td>en</td>\n      <td>Grumpier Old Men</td>\n      <td>A family wedding reignites the ancient feud be...</td>\n      <td>11.7129</td>\n      <td>/6ksm1sjKMFLbO7UY2i6G1ju9SML.jpg</td>\n      <td>...</td>\n      <td>Still Yelling. Still Fighting. Still Ready for...</td>\n      <td>Grumpier Old Men</td>\n      <td>False</td>\n      <td>6.5</td>\n      <td>92.0</td>\n      <td>Grumpy Old Men Collection</td>\n      <td>Romance</td>\n      <td>Warner Bros.</td>\n      <td>United States of America</td>\n      <td>English</td>\n    </tr>\n    <tr>\n      <th>3</th>\n      <td>False</td>\n      <td>16000000</td>\n      <td>NaN</td>\n      <td>31357</td>\n      <td>tt0114885</td>\n      <td>en</td>\n      <td>Waiting to Exhale</td>\n      <td>Cheated on, mistreated and stepped on, the wom...</td>\n      <td>3.859495</td>\n      <td>/16XOMpEaLWkrcPqSQqhTmeJuqQl.jpg</td>\n      <td>...</td>\n      <td>Friends are the people who let you be yourself...</td>\n      <td>Waiting to Exhale</td>\n      <td>False</td>\n      <td>6.1</td>\n      <td>34.0</td>\n      <td>NaN</td>\n      <td>Comedy</td>\n      <td>Twentieth Century Fox Film Corporation</td>\n      <td>United States of America</td>\n      <td>English</td>\n    </tr>\n    <tr>\n      <th>4</th>\n      <td>False</td>\n      <td>0</td>\n      <td>NaN</td>\n      <td>11862</td>\n      <td>tt0113041</td>\n      <td>en</td>\n      <td>Father of the Bride Part II</td>\n      <td>Just when George Banks has recovered from his ...</td>\n      <td>8.387519</td>\n      <td>/e64sOI48hQXyru7naBFyssKFxVd.jpg</td>\n      <td>...</td>\n      <td>Just When His World Is Back To Normal... He's ...</td>\n      <td>Father of the Bride Part II</td>\n      <td>False</td>\n      <td>5.7</td>\n      <td>173.0</td>\n      <td>Father of the Bride Collection</td>\n      <td>Comedy</td>\n      <td>Sandollar Productions</td>\n      <td>United States of America</td>\n      <td>English</td>\n    </tr>\n    <tr>\n      <th>...</th>\n      <td>...</td>\n      <td>...</td>\n      <td>...</td>\n      <td>...</td>\n      <td>...</td>\n      <td>...</td>\n      <td>...</td>\n      <td>...</td>\n      <td>...</td>\n      <td>...</td>\n      <td>...</td>\n      <td>...</td>\n      <td>...</td>\n      <td>...</td>\n      <td>...</td>\n      <td>...</td>\n      <td>...</td>\n      <td>...</td>\n      <td>...</td>\n      <td>...</td>\n      <td>...</td>\n    </tr>\n    <tr>\n      <th>45461</th>\n      <td>False</td>\n      <td>0</td>\n      <td>http://www.imdb.com/title/tt6209470/</td>\n      <td>439050</td>\n      <td>tt6209470</td>\n      <td>fa</td>\n      <td>رگ خواب</td>\n      <td>Rising and falling between a man and woman.</td>\n      <td>0.072051</td>\n      <td>/jldsYflnId4tTWPx8es3uzsB1I8.jpg</td>\n      <td>...</td>\n      <td>Rising and falling between a man and woman</td>\n      <td>Subdue</td>\n      <td>False</td>\n      <td>4.0</td>\n      <td>1.0</td>\n      <td>NaN</td>\n      <td>Drama</td>\n      <td>NaN</td>\n      <td>Iran</td>\n      <td>فارسی</td>\n    </tr>\n    <tr>\n      <th>45462</th>\n      <td>False</td>\n      <td>0</td>\n      <td>NaN</td>\n      <td>111109</td>\n      <td>tt2028550</td>\n      <td>tl</td>\n      <td>Siglo ng Pagluluwal</td>\n      <td>An artist struggles to finish his work while a...</td>\n      <td>0.178241</td>\n      <td>/xZkmxsNmYXJbKVsTRLLx3pqGHx7.jpg</td>\n      <td>...</td>\n      <td>NaN</td>\n      <td>Century of Birthing</td>\n      <td>False</td>\n      <td>9.0</td>\n      <td>3.0</td>\n      <td>NaN</td>\n      <td>Drama</td>\n      <td>Sine Olivia</td>\n      <td>Philippines</td>\n      <td></td>\n    </tr>\n    <tr>\n      <th>45463</th>\n      <td>False</td>\n      <td>0</td>\n      <td>NaN</td>\n      <td>67758</td>\n      <td>tt0303758</td>\n      <td>en</td>\n      <td>Betrayal</td>\n      <td>When one of her hits goes wrong, a professiona...</td>\n      <td>0.903007</td>\n      <td>/d5bX92nDsISNhu3ZT69uHwmfCGw.jpg</td>\n      <td>...</td>\n      <td>A deadly game of wits.</td>\n      <td>Betrayal</td>\n      <td>False</td>\n      <td>3.8</td>\n      <td>6.0</td>\n      <td>NaN</td>\n      <td>Action</td>\n      <td>American World Pictures</td>\n      <td>United States of America</td>\n      <td>English</td>\n    </tr>\n    <tr>\n      <th>45464</th>\n      <td>False</td>\n      <td>0</td>\n      <td>NaN</td>\n      <td>227506</td>\n      <td>tt0008536</td>\n      <td>en</td>\n      <td>Satana likuyushchiy</td>\n      <td>In a small town live two brothers, one a minis...</td>\n      <td>0.003503</td>\n      <td>/aorBPO7ak8e8iJKT5OcqYxU3jlK.jpg</td>\n      <td>...</td>\n      <td>NaN</td>\n      <td>Satan Triumphant</td>\n      <td>False</td>\n      <td>0.0</td>\n      <td>0.0</td>\n      <td>NaN</td>\n      <td>NaN</td>\n      <td>Yermoliev</td>\n      <td>Russia</td>\n      <td>NaN</td>\n    </tr>\n    <tr>\n      <th>45465</th>\n      <td>False</td>\n      <td>0</td>\n      <td>NaN</td>\n      <td>461257</td>\n      <td>tt6980792</td>\n      <td>en</td>\n      <td>Queerama</td>\n      <td>50 years after decriminalisation of homosexual...</td>\n      <td>0.163015</td>\n      <td>/s5UkZt6NTsrS7ZF0Rh8nzupRlIU.jpg</td>\n      <td>...</td>\n      <td>NaN</td>\n      <td>Queerama</td>\n      <td>False</td>\n      <td>0.0</td>\n      <td>0.0</td>\n      <td>NaN</td>\n      <td>NaN</td>\n      <td>NaN</td>\n      <td>United Kingdom</td>\n      <td>English</td>\n    </tr>\n  </tbody>\n</table>\n<p>45466 rows × 24 columns</p>\n</div>"
     },
     "execution_count": 4,
     "metadata": {},
     "output_type": "execute_result"
    }
   ],
   "source": [
    "md"
   ],
   "metadata": {
    "collapsed": false,
    "ExecuteTime": {
     "end_time": "2023-09-03T20:18:41.829570100Z",
     "start_time": "2023-09-03T20:18:41.763224085Z"
    }
   }
  },
  {
   "cell_type": "code",
   "execution_count": 5,
   "outputs": [
    {
     "data": {
      "text/plain": "Index(['adult', 'budget', 'homepage', 'id', 'imdb_id', 'original_language',\n       'original_title', 'overview', 'popularity', 'poster_path',\n       'release_date', 'revenue', 'runtime', 'status', 'tagline', 'title',\n       'video', 'vote_average', 'vote_count', 'collection_name', 'genre',\n       'production_company', 'production_country', 'spoken_language'],\n      dtype='object')"
     },
     "execution_count": 5,
     "metadata": {},
     "output_type": "execute_result"
    }
   ],
   "source": [
    "md.columns"
   ],
   "metadata": {
    "collapsed": false,
    "ExecuteTime": {
     "end_time": "2023-09-03T20:18:41.829882177Z",
     "start_time": "2023-09-03T20:18:41.825892209Z"
    }
   }
  },
  {
   "cell_type": "code",
   "execution_count": 6,
   "outputs": [],
   "source": [
    "# Save cleaned meta_data csv\n",
    "md.to_csv('../data/lens_tmdb/cleaned/movies_metadata_cleaned.csv', index=False)"
   ],
   "metadata": {
    "collapsed": false,
    "ExecuteTime": {
     "end_time": "2023-09-03T20:18:42.336439784Z",
     "start_time": "2023-09-03T20:18:41.828665142Z"
    }
   }
  },
  {
   "cell_type": "code",
   "execution_count": 7,
   "outputs": [
    {
     "data": {
      "text/plain": "       adult    budget                              homepage      id  \\\n0      False  30000000  http://toystory.disney.com/toy-story     862   \n1      False  65000000                                   NaN    8844   \n2      False         0                                   NaN   15602   \n3      False  16000000                                   NaN   31357   \n4      False         0                                   NaN   11862   \n...      ...       ...                                   ...     ...   \n45461  False         0  http://www.imdb.com/title/tt6209470/  439050   \n45462  False         0                                   NaN  111109   \n45463  False         0                                   NaN   67758   \n45464  False         0                                   NaN  227506   \n45465  False         0                                   NaN  461257   \n\n         imdb_id original_language               original_title  \\\n0      tt0114709                en                    Toy Story   \n1      tt0113497                en                      Jumanji   \n2      tt0113228                en             Grumpier Old Men   \n3      tt0114885                en            Waiting to Exhale   \n4      tt0113041                en  Father of the Bride Part II   \n...          ...               ...                          ...   \n45461  tt6209470                fa                      رگ خواب   \n45462  tt2028550                tl          Siglo ng Pagluluwal   \n45463  tt0303758                en                     Betrayal   \n45464  tt0008536                en          Satana likuyushchiy   \n45465  tt6980792                en                     Queerama   \n\n                                                overview popularity  \\\n0      Led by Woody, Andy's toys live happily in his ...  21.946943   \n1      When siblings Judy and Peter discover an encha...  17.015539   \n2      A family wedding reignites the ancient feud be...    11.7129   \n3      Cheated on, mistreated and stepped on, the wom...   3.859495   \n4      Just when George Banks has recovered from his ...   8.387519   \n...                                                  ...        ...   \n45461        Rising and falling between a man and woman.   0.072051   \n45462  An artist struggles to finish his work while a...   0.178241   \n45463  When one of her hits goes wrong, a professiona...   0.903007   \n45464  In a small town live two brothers, one a minis...   0.003503   \n45465  50 years after decriminalisation of homosexual...   0.163015   \n\n                            poster_path  ...  \\\n0      /rhIRbceoE9lR4veEXuwCC2wARtG.jpg  ...   \n1      /vzmL6fP7aPKNKPRTFnZmiUfciyV.jpg  ...   \n2      /6ksm1sjKMFLbO7UY2i6G1ju9SML.jpg  ...   \n3      /16XOMpEaLWkrcPqSQqhTmeJuqQl.jpg  ...   \n4      /e64sOI48hQXyru7naBFyssKFxVd.jpg  ...   \n...                                 ...  ...   \n45461  /jldsYflnId4tTWPx8es3uzsB1I8.jpg  ...   \n45462  /xZkmxsNmYXJbKVsTRLLx3pqGHx7.jpg  ...   \n45463  /d5bX92nDsISNhu3ZT69uHwmfCGw.jpg  ...   \n45464  /aorBPO7ak8e8iJKT5OcqYxU3jlK.jpg  ...   \n45465  /s5UkZt6NTsrS7ZF0Rh8nzupRlIU.jpg  ...   \n\n                                                 tagline  \\\n0                                                    NaN   \n1              Roll the dice and unleash the excitement!   \n2      Still Yelling. Still Fighting. Still Ready for...   \n3      Friends are the people who let you be yourself...   \n4      Just When His World Is Back To Normal... He's ...   \n...                                                  ...   \n45461         Rising and falling between a man and woman   \n45462                                                NaN   \n45463                             A deadly game of wits.   \n45464                                                NaN   \n45465                                                NaN   \n\n                             title  video vote_average vote_count  \\\n0                        Toy Story  False          7.7     5415.0   \n1                          Jumanji  False          6.9     2413.0   \n2                 Grumpier Old Men  False          6.5       92.0   \n3                Waiting to Exhale  False          6.1       34.0   \n4      Father of the Bride Part II  False          5.7      173.0   \n...                            ...    ...          ...        ...   \n45461                       Subdue  False          4.0        1.0   \n45462          Century of Birthing  False          9.0        3.0   \n45463                     Betrayal  False          3.8        6.0   \n45464             Satan Triumphant  False          0.0        0.0   \n45465                     Queerama  False          0.0        0.0   \n\n                      collection_name      genre  \\\n0                Toy Story Collection  Animation   \n1                                 NaN  Adventure   \n2           Grumpy Old Men Collection    Romance   \n3                                 NaN     Comedy   \n4      Father of the Bride Collection     Comedy   \n...                               ...        ...   \n45461                             NaN      Drama   \n45462                             NaN      Drama   \n45463                             NaN     Action   \n45464                             NaN        NaN   \n45465                             NaN        NaN   \n\n                           production_company        production_country  \\\n0                     Pixar Animation Studios  United States of America   \n1                            TriStar Pictures  United States of America   \n2                                Warner Bros.  United States of America   \n3      Twentieth Century Fox Film Corporation  United States of America   \n4                       Sandollar Productions  United States of America   \n...                                       ...                       ...   \n45461                                     NaN                      Iran   \n45462                             Sine Olivia               Philippines   \n45463                 American World Pictures  United States of America   \n45464                               Yermoliev                    Russia   \n45465                                     NaN            United Kingdom   \n\n      spoken_language  \n0             English  \n1             English  \n2             English  \n3             English  \n4             English  \n...               ...  \n45461           فارسی  \n45462                  \n45463         English  \n45464             NaN  \n45465         English  \n\n[45466 rows x 24 columns]",
      "text/html": "<div>\n<style scoped>\n    .dataframe tbody tr th:only-of-type {\n        vertical-align: middle;\n    }\n\n    .dataframe tbody tr th {\n        vertical-align: top;\n    }\n\n    .dataframe thead th {\n        text-align: right;\n    }\n</style>\n<table border=\"1\" class=\"dataframe\">\n  <thead>\n    <tr style=\"text-align: right;\">\n      <th></th>\n      <th>adult</th>\n      <th>budget</th>\n      <th>homepage</th>\n      <th>id</th>\n      <th>imdb_id</th>\n      <th>original_language</th>\n      <th>original_title</th>\n      <th>overview</th>\n      <th>popularity</th>\n      <th>poster_path</th>\n      <th>...</th>\n      <th>tagline</th>\n      <th>title</th>\n      <th>video</th>\n      <th>vote_average</th>\n      <th>vote_count</th>\n      <th>collection_name</th>\n      <th>genre</th>\n      <th>production_company</th>\n      <th>production_country</th>\n      <th>spoken_language</th>\n    </tr>\n  </thead>\n  <tbody>\n    <tr>\n      <th>0</th>\n      <td>False</td>\n      <td>30000000</td>\n      <td>http://toystory.disney.com/toy-story</td>\n      <td>862</td>\n      <td>tt0114709</td>\n      <td>en</td>\n      <td>Toy Story</td>\n      <td>Led by Woody, Andy's toys live happily in his ...</td>\n      <td>21.946943</td>\n      <td>/rhIRbceoE9lR4veEXuwCC2wARtG.jpg</td>\n      <td>...</td>\n      <td>NaN</td>\n      <td>Toy Story</td>\n      <td>False</td>\n      <td>7.7</td>\n      <td>5415.0</td>\n      <td>Toy Story Collection</td>\n      <td>Animation</td>\n      <td>Pixar Animation Studios</td>\n      <td>United States of America</td>\n      <td>English</td>\n    </tr>\n    <tr>\n      <th>1</th>\n      <td>False</td>\n      <td>65000000</td>\n      <td>NaN</td>\n      <td>8844</td>\n      <td>tt0113497</td>\n      <td>en</td>\n      <td>Jumanji</td>\n      <td>When siblings Judy and Peter discover an encha...</td>\n      <td>17.015539</td>\n      <td>/vzmL6fP7aPKNKPRTFnZmiUfciyV.jpg</td>\n      <td>...</td>\n      <td>Roll the dice and unleash the excitement!</td>\n      <td>Jumanji</td>\n      <td>False</td>\n      <td>6.9</td>\n      <td>2413.0</td>\n      <td>NaN</td>\n      <td>Adventure</td>\n      <td>TriStar Pictures</td>\n      <td>United States of America</td>\n      <td>English</td>\n    </tr>\n    <tr>\n      <th>2</th>\n      <td>False</td>\n      <td>0</td>\n      <td>NaN</td>\n      <td>15602</td>\n      <td>tt0113228</td>\n      <td>en</td>\n      <td>Grumpier Old Men</td>\n      <td>A family wedding reignites the ancient feud be...</td>\n      <td>11.7129</td>\n      <td>/6ksm1sjKMFLbO7UY2i6G1ju9SML.jpg</td>\n      <td>...</td>\n      <td>Still Yelling. Still Fighting. Still Ready for...</td>\n      <td>Grumpier Old Men</td>\n      <td>False</td>\n      <td>6.5</td>\n      <td>92.0</td>\n      <td>Grumpy Old Men Collection</td>\n      <td>Romance</td>\n      <td>Warner Bros.</td>\n      <td>United States of America</td>\n      <td>English</td>\n    </tr>\n    <tr>\n      <th>3</th>\n      <td>False</td>\n      <td>16000000</td>\n      <td>NaN</td>\n      <td>31357</td>\n      <td>tt0114885</td>\n      <td>en</td>\n      <td>Waiting to Exhale</td>\n      <td>Cheated on, mistreated and stepped on, the wom...</td>\n      <td>3.859495</td>\n      <td>/16XOMpEaLWkrcPqSQqhTmeJuqQl.jpg</td>\n      <td>...</td>\n      <td>Friends are the people who let you be yourself...</td>\n      <td>Waiting to Exhale</td>\n      <td>False</td>\n      <td>6.1</td>\n      <td>34.0</td>\n      <td>NaN</td>\n      <td>Comedy</td>\n      <td>Twentieth Century Fox Film Corporation</td>\n      <td>United States of America</td>\n      <td>English</td>\n    </tr>\n    <tr>\n      <th>4</th>\n      <td>False</td>\n      <td>0</td>\n      <td>NaN</td>\n      <td>11862</td>\n      <td>tt0113041</td>\n      <td>en</td>\n      <td>Father of the Bride Part II</td>\n      <td>Just when George Banks has recovered from his ...</td>\n      <td>8.387519</td>\n      <td>/e64sOI48hQXyru7naBFyssKFxVd.jpg</td>\n      <td>...</td>\n      <td>Just When His World Is Back To Normal... He's ...</td>\n      <td>Father of the Bride Part II</td>\n      <td>False</td>\n      <td>5.7</td>\n      <td>173.0</td>\n      <td>Father of the Bride Collection</td>\n      <td>Comedy</td>\n      <td>Sandollar Productions</td>\n      <td>United States of America</td>\n      <td>English</td>\n    </tr>\n    <tr>\n      <th>...</th>\n      <td>...</td>\n      <td>...</td>\n      <td>...</td>\n      <td>...</td>\n      <td>...</td>\n      <td>...</td>\n      <td>...</td>\n      <td>...</td>\n      <td>...</td>\n      <td>...</td>\n      <td>...</td>\n      <td>...</td>\n      <td>...</td>\n      <td>...</td>\n      <td>...</td>\n      <td>...</td>\n      <td>...</td>\n      <td>...</td>\n      <td>...</td>\n      <td>...</td>\n      <td>...</td>\n    </tr>\n    <tr>\n      <th>45461</th>\n      <td>False</td>\n      <td>0</td>\n      <td>http://www.imdb.com/title/tt6209470/</td>\n      <td>439050</td>\n      <td>tt6209470</td>\n      <td>fa</td>\n      <td>رگ خواب</td>\n      <td>Rising and falling between a man and woman.</td>\n      <td>0.072051</td>\n      <td>/jldsYflnId4tTWPx8es3uzsB1I8.jpg</td>\n      <td>...</td>\n      <td>Rising and falling between a man and woman</td>\n      <td>Subdue</td>\n      <td>False</td>\n      <td>4.0</td>\n      <td>1.0</td>\n      <td>NaN</td>\n      <td>Drama</td>\n      <td>NaN</td>\n      <td>Iran</td>\n      <td>فارسی</td>\n    </tr>\n    <tr>\n      <th>45462</th>\n      <td>False</td>\n      <td>0</td>\n      <td>NaN</td>\n      <td>111109</td>\n      <td>tt2028550</td>\n      <td>tl</td>\n      <td>Siglo ng Pagluluwal</td>\n      <td>An artist struggles to finish his work while a...</td>\n      <td>0.178241</td>\n      <td>/xZkmxsNmYXJbKVsTRLLx3pqGHx7.jpg</td>\n      <td>...</td>\n      <td>NaN</td>\n      <td>Century of Birthing</td>\n      <td>False</td>\n      <td>9.0</td>\n      <td>3.0</td>\n      <td>NaN</td>\n      <td>Drama</td>\n      <td>Sine Olivia</td>\n      <td>Philippines</td>\n      <td></td>\n    </tr>\n    <tr>\n      <th>45463</th>\n      <td>False</td>\n      <td>0</td>\n      <td>NaN</td>\n      <td>67758</td>\n      <td>tt0303758</td>\n      <td>en</td>\n      <td>Betrayal</td>\n      <td>When one of her hits goes wrong, a professiona...</td>\n      <td>0.903007</td>\n      <td>/d5bX92nDsISNhu3ZT69uHwmfCGw.jpg</td>\n      <td>...</td>\n      <td>A deadly game of wits.</td>\n      <td>Betrayal</td>\n      <td>False</td>\n      <td>3.8</td>\n      <td>6.0</td>\n      <td>NaN</td>\n      <td>Action</td>\n      <td>American World Pictures</td>\n      <td>United States of America</td>\n      <td>English</td>\n    </tr>\n    <tr>\n      <th>45464</th>\n      <td>False</td>\n      <td>0</td>\n      <td>NaN</td>\n      <td>227506</td>\n      <td>tt0008536</td>\n      <td>en</td>\n      <td>Satana likuyushchiy</td>\n      <td>In a small town live two brothers, one a minis...</td>\n      <td>0.003503</td>\n      <td>/aorBPO7ak8e8iJKT5OcqYxU3jlK.jpg</td>\n      <td>...</td>\n      <td>NaN</td>\n      <td>Satan Triumphant</td>\n      <td>False</td>\n      <td>0.0</td>\n      <td>0.0</td>\n      <td>NaN</td>\n      <td>NaN</td>\n      <td>Yermoliev</td>\n      <td>Russia</td>\n      <td>NaN</td>\n    </tr>\n    <tr>\n      <th>45465</th>\n      <td>False</td>\n      <td>0</td>\n      <td>NaN</td>\n      <td>461257</td>\n      <td>tt6980792</td>\n      <td>en</td>\n      <td>Queerama</td>\n      <td>50 years after decriminalisation of homosexual...</td>\n      <td>0.163015</td>\n      <td>/s5UkZt6NTsrS7ZF0Rh8nzupRlIU.jpg</td>\n      <td>...</td>\n      <td>NaN</td>\n      <td>Queerama</td>\n      <td>False</td>\n      <td>0.0</td>\n      <td>0.0</td>\n      <td>NaN</td>\n      <td>NaN</td>\n      <td>NaN</td>\n      <td>United Kingdom</td>\n      <td>English</td>\n    </tr>\n  </tbody>\n</table>\n<p>45466 rows × 24 columns</p>\n</div>"
     },
     "execution_count": 7,
     "metadata": {},
     "output_type": "execute_result"
    }
   ],
   "source": [
    "md"
   ],
   "metadata": {
    "collapsed": false,
    "ExecuteTime": {
     "end_time": "2023-09-03T20:18:42.430348564Z",
     "start_time": "2023-09-03T20:18:42.341886954Z"
    }
   }
  },
  {
   "cell_type": "markdown",
   "source": [
    "# credits.csv"
   ],
   "metadata": {
    "collapsed": false
   }
  },
  {
   "cell_type": "code",
   "execution_count": 8,
   "outputs": [],
   "source": [
    "credits = pd.read_csv('../data/lens_tmdb/credits.csv')"
   ],
   "metadata": {
    "collapsed": false,
    "ExecuteTime": {
     "end_time": "2023-09-03T20:18:43.933449915Z",
     "start_time": "2023-09-03T20:18:42.430184603Z"
    }
   }
  },
  {
   "cell_type": "code",
   "execution_count": 9,
   "outputs": [
    {
     "data": {
      "text/plain": "                                                    cast  \\\n0      [{'cast_id': 14, 'character': 'Woody (voice)',...   \n1      [{'cast_id': 1, 'character': 'Alan Parrish', '...   \n2      [{'cast_id': 2, 'character': 'Max Goldman', 'c...   \n3      [{'cast_id': 1, 'character': \"Savannah 'Vannah...   \n4      [{'cast_id': 1, 'character': 'George Banks', '...   \n...                                                  ...   \n45471  [{'cast_id': 0, 'character': '', 'credit_id': ...   \n45472  [{'cast_id': 1002, 'character': 'Sister Angela...   \n45473  [{'cast_id': 6, 'character': 'Emily Shaw', 'cr...   \n45474  [{'cast_id': 2, 'character': '', 'credit_id': ...   \n45475                                                 []   \n\n                                                    crew      id  \n0      [{'credit_id': '52fe4284c3a36847f8024f49', 'de...     862  \n1      [{'credit_id': '52fe44bfc3a36847f80a7cd1', 'de...    8844  \n2      [{'credit_id': '52fe466a9251416c75077a89', 'de...   15602  \n3      [{'credit_id': '52fe44779251416c91011acb', 'de...   31357  \n4      [{'credit_id': '52fe44959251416c75039ed7', 'de...   11862  \n...                                                  ...     ...  \n45471  [{'credit_id': '5894a97d925141426c00818c', 'de...  439050  \n45472  [{'credit_id': '52fe4af1c3a36847f81e9b15', 'de...  111109  \n45473  [{'credit_id': '52fe4776c3a368484e0c8387', 'de...   67758  \n45474  [{'credit_id': '533bccebc3a36844cf0011a7', 'de...  227506  \n45475  [{'credit_id': '593e676c92514105b702e68e', 'de...  461257  \n\n[45476 rows x 3 columns]",
      "text/html": "<div>\n<style scoped>\n    .dataframe tbody tr th:only-of-type {\n        vertical-align: middle;\n    }\n\n    .dataframe tbody tr th {\n        vertical-align: top;\n    }\n\n    .dataframe thead th {\n        text-align: right;\n    }\n</style>\n<table border=\"1\" class=\"dataframe\">\n  <thead>\n    <tr style=\"text-align: right;\">\n      <th></th>\n      <th>cast</th>\n      <th>crew</th>\n      <th>id</th>\n    </tr>\n  </thead>\n  <tbody>\n    <tr>\n      <th>0</th>\n      <td>[{'cast_id': 14, 'character': 'Woody (voice)',...</td>\n      <td>[{'credit_id': '52fe4284c3a36847f8024f49', 'de...</td>\n      <td>862</td>\n    </tr>\n    <tr>\n      <th>1</th>\n      <td>[{'cast_id': 1, 'character': 'Alan Parrish', '...</td>\n      <td>[{'credit_id': '52fe44bfc3a36847f80a7cd1', 'de...</td>\n      <td>8844</td>\n    </tr>\n    <tr>\n      <th>2</th>\n      <td>[{'cast_id': 2, 'character': 'Max Goldman', 'c...</td>\n      <td>[{'credit_id': '52fe466a9251416c75077a89', 'de...</td>\n      <td>15602</td>\n    </tr>\n    <tr>\n      <th>3</th>\n      <td>[{'cast_id': 1, 'character': \"Savannah 'Vannah...</td>\n      <td>[{'credit_id': '52fe44779251416c91011acb', 'de...</td>\n      <td>31357</td>\n    </tr>\n    <tr>\n      <th>4</th>\n      <td>[{'cast_id': 1, 'character': 'George Banks', '...</td>\n      <td>[{'credit_id': '52fe44959251416c75039ed7', 'de...</td>\n      <td>11862</td>\n    </tr>\n    <tr>\n      <th>...</th>\n      <td>...</td>\n      <td>...</td>\n      <td>...</td>\n    </tr>\n    <tr>\n      <th>45471</th>\n      <td>[{'cast_id': 0, 'character': '', 'credit_id': ...</td>\n      <td>[{'credit_id': '5894a97d925141426c00818c', 'de...</td>\n      <td>439050</td>\n    </tr>\n    <tr>\n      <th>45472</th>\n      <td>[{'cast_id': 1002, 'character': 'Sister Angela...</td>\n      <td>[{'credit_id': '52fe4af1c3a36847f81e9b15', 'de...</td>\n      <td>111109</td>\n    </tr>\n    <tr>\n      <th>45473</th>\n      <td>[{'cast_id': 6, 'character': 'Emily Shaw', 'cr...</td>\n      <td>[{'credit_id': '52fe4776c3a368484e0c8387', 'de...</td>\n      <td>67758</td>\n    </tr>\n    <tr>\n      <th>45474</th>\n      <td>[{'cast_id': 2, 'character': '', 'credit_id': ...</td>\n      <td>[{'credit_id': '533bccebc3a36844cf0011a7', 'de...</td>\n      <td>227506</td>\n    </tr>\n    <tr>\n      <th>45475</th>\n      <td>[]</td>\n      <td>[{'credit_id': '593e676c92514105b702e68e', 'de...</td>\n      <td>461257</td>\n    </tr>\n  </tbody>\n</table>\n<p>45476 rows × 3 columns</p>\n</div>"
     },
     "execution_count": 9,
     "metadata": {},
     "output_type": "execute_result"
    }
   ],
   "source": [
    "credits"
   ],
   "metadata": {
    "collapsed": false,
    "ExecuteTime": {
     "end_time": "2023-09-03T20:18:44.001364088Z",
     "start_time": "2023-09-03T20:18:43.939288142Z"
    }
   }
  },
  {
   "cell_type": "code",
   "execution_count": 10,
   "outputs": [
    {
     "data": {
      "text/plain": "      id                                         cast_names           director\n0    862  [Tom Hanks, Tim Allen, Don Rickles, Jim Varney...    [John Lasseter]\n1   8844  [Robin Williams, Jonathan Hyde, Kirsten Dunst,...     [Joe Johnston]\n2  15602  [Walter Matthau, Jack Lemmon, Ann-Margret, Sop...    [Howard Deutch]\n3  31357  [Whitney Houston, Angela Bassett, Loretta Devi...  [Forest Whitaker]\n4  11862  [Steve Martin, Diane Keaton, Martin Short, Kim...    [Charles Shyer]",
      "text/html": "<div>\n<style scoped>\n    .dataframe tbody tr th:only-of-type {\n        vertical-align: middle;\n    }\n\n    .dataframe tbody tr th {\n        vertical-align: top;\n    }\n\n    .dataframe thead th {\n        text-align: right;\n    }\n</style>\n<table border=\"1\" class=\"dataframe\">\n  <thead>\n    <tr style=\"text-align: right;\">\n      <th></th>\n      <th>id</th>\n      <th>cast_names</th>\n      <th>director</th>\n    </tr>\n  </thead>\n  <tbody>\n    <tr>\n      <th>0</th>\n      <td>862</td>\n      <td>[Tom Hanks, Tim Allen, Don Rickles, Jim Varney...</td>\n      <td>[John Lasseter]</td>\n    </tr>\n    <tr>\n      <th>1</th>\n      <td>8844</td>\n      <td>[Robin Williams, Jonathan Hyde, Kirsten Dunst,...</td>\n      <td>[Joe Johnston]</td>\n    </tr>\n    <tr>\n      <th>2</th>\n      <td>15602</td>\n      <td>[Walter Matthau, Jack Lemmon, Ann-Margret, Sop...</td>\n      <td>[Howard Deutch]</td>\n    </tr>\n    <tr>\n      <th>3</th>\n      <td>31357</td>\n      <td>[Whitney Houston, Angela Bassett, Loretta Devi...</td>\n      <td>[Forest Whitaker]</td>\n    </tr>\n    <tr>\n      <th>4</th>\n      <td>11862</td>\n      <td>[Steve Martin, Diane Keaton, Martin Short, Kim...</td>\n      <td>[Charles Shyer]</td>\n    </tr>\n  </tbody>\n</table>\n</div>"
     },
     "execution_count": 10,
     "metadata": {},
     "output_type": "execute_result"
    }
   ],
   "source": [
    "import ast\n",
    "# convert strings to lists of dictionaries\n",
    "credits['cast'] = credits['cast'].apply(ast.literal_eval)\n",
    "credits['crew'] = credits['crew'].apply(ast.literal_eval)\n",
    "\n",
    "# extract the names of the cast members\n",
    "credits['cast_names'] = credits['cast'].apply(lambda x: [i['name'] for i in x])\n",
    "\n",
    "# extract the director from the crew column\n",
    "credits['director'] = credits['crew'].apply(lambda x: [i['name'] for i in x if i['job'] == 'Director'])\n",
    "\n",
    "# you can now drop the original 'cast' and 'crew' columns if you want\n",
    "credits = credits.drop(columns=['cast', 'crew'])\n",
    "\n",
    "credits.head()\n"
   ],
   "metadata": {
    "collapsed": false,
    "ExecuteTime": {
     "end_time": "2023-09-03T20:19:04.561123548Z",
     "start_time": "2023-09-03T20:18:43.997489915Z"
    }
   }
  },
  {
   "cell_type": "code",
   "execution_count": 11,
   "outputs": [],
   "source": [
    "# Save cleaned credits csv\n",
    "credits.to_csv('../data/lens_tmdb/cleaned/credits_cleaned.csv', index=False)"
   ],
   "metadata": {
    "collapsed": false,
    "ExecuteTime": {
     "end_time": "2023-09-03T20:19:04.840953085Z",
     "start_time": "2023-09-03T20:19:04.561537503Z"
    }
   }
  },
  {
   "cell_type": "markdown",
   "source": [
    "# keywords.csv"
   ],
   "metadata": {
    "collapsed": false
   }
  },
  {
   "cell_type": "code",
   "execution_count": 12,
   "outputs": [],
   "source": [
    "keywords = pd.read_csv('../data/lens_tmdb/keywords.csv')"
   ],
   "metadata": {
    "collapsed": false,
    "ExecuteTime": {
     "end_time": "2023-09-03T20:19:04.909170489Z",
     "start_time": "2023-09-03T20:19:04.843685196Z"
    }
   }
  },
  {
   "cell_type": "code",
   "execution_count": 13,
   "outputs": [
    {
     "data": {
      "text/plain": "           id                                           keywords\n0         862  [{'id': 931, 'name': 'jealousy'}, {'id': 4290,...\n1        8844  [{'id': 10090, 'name': 'board game'}, {'id': 1...\n2       15602  [{'id': 1495, 'name': 'fishing'}, {'id': 12392...\n3       31357  [{'id': 818, 'name': 'based on novel'}, {'id':...\n4       11862  [{'id': 1009, 'name': 'baby'}, {'id': 1599, 'n...\n...       ...                                                ...\n46414  439050             [{'id': 10703, 'name': 'tragic love'}]\n46415  111109  [{'id': 2679, 'name': 'artist'}, {'id': 14531,...\n46416   67758                                                 []\n46417  227506                                                 []\n46418  461257                                                 []\n\n[46419 rows x 2 columns]",
      "text/html": "<div>\n<style scoped>\n    .dataframe tbody tr th:only-of-type {\n        vertical-align: middle;\n    }\n\n    .dataframe tbody tr th {\n        vertical-align: top;\n    }\n\n    .dataframe thead th {\n        text-align: right;\n    }\n</style>\n<table border=\"1\" class=\"dataframe\">\n  <thead>\n    <tr style=\"text-align: right;\">\n      <th></th>\n      <th>id</th>\n      <th>keywords</th>\n    </tr>\n  </thead>\n  <tbody>\n    <tr>\n      <th>0</th>\n      <td>862</td>\n      <td>[{'id': 931, 'name': 'jealousy'}, {'id': 4290,...</td>\n    </tr>\n    <tr>\n      <th>1</th>\n      <td>8844</td>\n      <td>[{'id': 10090, 'name': 'board game'}, {'id': 1...</td>\n    </tr>\n    <tr>\n      <th>2</th>\n      <td>15602</td>\n      <td>[{'id': 1495, 'name': 'fishing'}, {'id': 12392...</td>\n    </tr>\n    <tr>\n      <th>3</th>\n      <td>31357</td>\n      <td>[{'id': 818, 'name': 'based on novel'}, {'id':...</td>\n    </tr>\n    <tr>\n      <th>4</th>\n      <td>11862</td>\n      <td>[{'id': 1009, 'name': 'baby'}, {'id': 1599, 'n...</td>\n    </tr>\n    <tr>\n      <th>...</th>\n      <td>...</td>\n      <td>...</td>\n    </tr>\n    <tr>\n      <th>46414</th>\n      <td>439050</td>\n      <td>[{'id': 10703, 'name': 'tragic love'}]</td>\n    </tr>\n    <tr>\n      <th>46415</th>\n      <td>111109</td>\n      <td>[{'id': 2679, 'name': 'artist'}, {'id': 14531,...</td>\n    </tr>\n    <tr>\n      <th>46416</th>\n      <td>67758</td>\n      <td>[]</td>\n    </tr>\n    <tr>\n      <th>46417</th>\n      <td>227506</td>\n      <td>[]</td>\n    </tr>\n    <tr>\n      <th>46418</th>\n      <td>461257</td>\n      <td>[]</td>\n    </tr>\n  </tbody>\n</table>\n<p>46419 rows × 2 columns</p>\n</div>"
     },
     "execution_count": 13,
     "metadata": {},
     "output_type": "execute_result"
    }
   ],
   "source": [
    "keywords"
   ],
   "metadata": {
    "collapsed": false,
    "ExecuteTime": {
     "end_time": "2023-09-03T20:19:04.916983562Z",
     "start_time": "2023-09-03T20:19:04.913224681Z"
    }
   }
  },
  {
   "cell_type": "code",
   "execution_count": 14,
   "outputs": [
    {
     "data": {
      "text/plain": "      id                                       keyword_list\n0    862  [jealousy, toy, boy, friendship, friends, riva...\n1   8844  [board game, disappearance, based on children'...\n2  15602  [fishing, best friend, duringcreditsstinger, o...\n3  31357  [based on novel, interracial relationship, sin...\n4  11862  [baby, midlife crisis, confidence, aging, daug...",
      "text/html": "<div>\n<style scoped>\n    .dataframe tbody tr th:only-of-type {\n        vertical-align: middle;\n    }\n\n    .dataframe tbody tr th {\n        vertical-align: top;\n    }\n\n    .dataframe thead th {\n        text-align: right;\n    }\n</style>\n<table border=\"1\" class=\"dataframe\">\n  <thead>\n    <tr style=\"text-align: right;\">\n      <th></th>\n      <th>id</th>\n      <th>keyword_list</th>\n    </tr>\n  </thead>\n  <tbody>\n    <tr>\n      <th>0</th>\n      <td>862</td>\n      <td>[jealousy, toy, boy, friendship, friends, riva...</td>\n    </tr>\n    <tr>\n      <th>1</th>\n      <td>8844</td>\n      <td>[board game, disappearance, based on children'...</td>\n    </tr>\n    <tr>\n      <th>2</th>\n      <td>15602</td>\n      <td>[fishing, best friend, duringcreditsstinger, o...</td>\n    </tr>\n    <tr>\n      <th>3</th>\n      <td>31357</td>\n      <td>[based on novel, interracial relationship, sin...</td>\n    </tr>\n    <tr>\n      <th>4</th>\n      <td>11862</td>\n      <td>[baby, midlife crisis, confidence, aging, daug...</td>\n    </tr>\n  </tbody>\n</table>\n</div>"
     },
     "execution_count": 14,
     "metadata": {},
     "output_type": "execute_result"
    }
   ],
   "source": [
    "import pandas as pd\n",
    "import ast\n",
    "\n",
    "# convert strings to lists of dictionaries\n",
    "keywords['keywords'] = keywords['keywords'].apply(ast.literal_eval)\n",
    "\n",
    "# extract the keywords\n",
    "keywords['keyword_list'] = keywords['keywords'].apply(lambda x: [i['name'] for i in x])\n",
    "\n",
    "# you can now drop the original 'keywords' column if you want\n",
    "keywords_df = keywords.drop(columns=['keywords'])\n",
    "\n",
    "keywords_df.head()\n"
   ],
   "metadata": {
    "collapsed": false,
    "ExecuteTime": {
     "end_time": "2023-09-03T20:19:06.269254690Z",
     "start_time": "2023-09-03T20:19:04.917250251Z"
    }
   }
  },
  {
   "cell_type": "code",
   "execution_count": 15,
   "outputs": [],
   "source": [
    "# Save cleaned keywords csv\n",
    "keywords_df.to_csv('../data/lens_tmdb/cleaned/keywords_cleaned.csv', index=False)"
   ],
   "metadata": {
    "collapsed": false,
    "ExecuteTime": {
     "end_time": "2023-09-03T20:19:06.374717056Z",
     "start_time": "2023-09-03T20:19:06.269512470Z"
    }
   }
  },
  {
   "cell_type": "markdown",
   "source": [
    "# create final movie dataframe"
   ],
   "metadata": {
    "collapsed": false
   }
  },
  {
   "cell_type": "code",
   "execution_count": 48,
   "outputs": [
    {
     "name": "stderr",
     "output_type": "stream",
     "text": [
      "/tmp/ipykernel_10871/721883452.py:1: DtypeWarning: Columns (8) have mixed types. Specify dtype option on import or set low_memory=False.\n",
      "  md_cleaned = pd.read_csv('../data/lens_tmdb/cleaned/movies_metadata_cleaned.csv')\n"
     ]
    }
   ],
   "source": [
    "md_cleaned = pd.read_csv('../data/lens_tmdb/cleaned/movies_metadata_cleaned.csv')\n",
    "credits_cleaned = pd.read_csv('../data/lens_tmdb/cleaned/credits_cleaned.csv')\n",
    "keywords_cleaned = pd.read_csv('../data/lens_tmdb/cleaned/keywords_cleaned.csv')\n",
    "ratings = pd.read_csv('../data/lens_tmdb/ratings.csv')\n",
    "ratings_small = pd.read_csv('../data/lens_tmdb/ratings_small.csv')\n",
    "links = pd.read_csv('../data/lens_tmdb/links.csv')\n",
    "links_small = pd.read_csv('../data/lens_tmdb/links_small.csv')"
   ],
   "metadata": {
    "collapsed": false,
    "ExecuteTime": {
     "end_time": "2023-09-03T20:28:36.030894985Z",
     "start_time": "2023-09-03T20:28:24.955216164Z"
    }
   }
  },
  {
   "cell_type": "markdown",
   "source": [
    "# create dataset ***info*** from movies_metadata, credits, keywords"
   ],
   "metadata": {
    "collapsed": false
   }
  },
  {
   "cell_type": "code",
   "execution_count": 49,
   "outputs": [
    {
     "data": {
      "text/plain": "Index(['adult', 'budget', 'homepage', 'id', 'imdb_id', 'original_language',\n       'original_title', 'overview', 'popularity', 'poster_path',\n       'release_date', 'revenue', 'runtime', 'status', 'tagline', 'title',\n       'video', 'vote_average', 'vote_count', 'collection_name', 'genre',\n       'production_company', 'production_country', 'spoken_language'],\n      dtype='object')"
     },
     "execution_count": 49,
     "metadata": {},
     "output_type": "execute_result"
    }
   ],
   "source": [
    "md_cleaned.columns"
   ],
   "metadata": {
    "collapsed": false,
    "ExecuteTime": {
     "end_time": "2023-09-03T20:28:47.840958197Z",
     "start_time": "2023-09-03T20:28:47.793083796Z"
    }
   }
  },
  {
   "cell_type": "code",
   "execution_count": 50,
   "outputs": [
    {
     "data": {
      "text/plain": "Index(['id', 'keyword_list'], dtype='object')"
     },
     "execution_count": 50,
     "metadata": {},
     "output_type": "execute_result"
    }
   ],
   "source": [
    "keywords_cleaned.columns"
   ],
   "metadata": {
    "collapsed": false,
    "ExecuteTime": {
     "end_time": "2023-09-03T20:28:48.040335853Z",
     "start_time": "2023-09-03T20:28:48.035662053Z"
    }
   }
  },
  {
   "cell_type": "code",
   "execution_count": 51,
   "outputs": [
    {
     "data": {
      "text/plain": "Index(['id', 'cast_names', 'director'], dtype='object')"
     },
     "execution_count": 51,
     "metadata": {},
     "output_type": "execute_result"
    }
   ],
   "source": [
    "credits_cleaned.columns"
   ],
   "metadata": {
    "collapsed": false,
    "ExecuteTime": {
     "end_time": "2023-09-03T20:28:48.295549988Z",
     "start_time": "2023-09-03T20:28:48.291708449Z"
    }
   }
  },
  {
   "cell_type": "code",
   "execution_count": 52,
   "outputs": [],
   "source": [
    "md_cleaned['id'] = pd.to_numeric(md_cleaned['id'], errors='coerce')\n",
    "md_cleaned = md_cleaned.dropna(subset=['id'])\n",
    "md_cleaned['id'] = md_cleaned['id'].astype(int)\n"
   ],
   "metadata": {
    "collapsed": false,
    "ExecuteTime": {
     "end_time": "2023-09-03T20:28:48.632909078Z",
     "start_time": "2023-09-03T20:28:48.607285292Z"
    }
   }
  },
  {
   "cell_type": "code",
   "execution_count": 53,
   "outputs": [],
   "source": [
    "# set id column to int\n",
    "md_cleaned['id'] = md_cleaned['id'].astype(int)\n",
    "credits_cleaned['id'] = credits_cleaned['id'].astype(int)"
   ],
   "metadata": {
    "collapsed": false,
    "ExecuteTime": {
     "end_time": "2023-09-03T20:28:48.882008119Z",
     "start_time": "2023-09-03T20:28:48.840762573Z"
    }
   }
  },
  {
   "cell_type": "code",
   "execution_count": 54,
   "outputs": [],
   "source": [
    "# merge md_cleaned and credits_cleaned\n",
    "info_df = pd.merge(md_cleaned, credits_cleaned, on='id')"
   ],
   "metadata": {
    "collapsed": false,
    "ExecuteTime": {
     "end_time": "2023-09-03T20:28:49.109078694Z",
     "start_time": "2023-09-03T20:28:49.094085796Z"
    }
   }
  },
  {
   "cell_type": "code",
   "execution_count": 55,
   "outputs": [
    {
     "data": {
      "text/plain": "(45538, 26)"
     },
     "execution_count": 55,
     "metadata": {},
     "output_type": "execute_result"
    }
   ],
   "source": [
    "info_df.shape"
   ],
   "metadata": {
    "collapsed": false,
    "ExecuteTime": {
     "end_time": "2023-09-03T20:28:49.382187593Z",
     "start_time": "2023-09-03T20:28:49.329607027Z"
    }
   }
  },
  {
   "cell_type": "code",
   "execution_count": 56,
   "outputs": [
    {
     "data": {
      "text/plain": "Index(['adult', 'budget', 'homepage', 'id', 'imdb_id', 'original_language',\n       'original_title', 'overview', 'popularity', 'poster_path',\n       'release_date', 'revenue', 'runtime', 'status', 'tagline', 'title',\n       'video', 'vote_average', 'vote_count', 'collection_name', 'genre',\n       'production_company', 'production_country', 'spoken_language',\n       'cast_names', 'director'],\n      dtype='object')"
     },
     "execution_count": 56,
     "metadata": {},
     "output_type": "execute_result"
    }
   ],
   "source": [
    "info_df.columns"
   ],
   "metadata": {
    "collapsed": false,
    "ExecuteTime": {
     "end_time": "2023-09-03T20:28:49.590363100Z",
     "start_time": "2023-09-03T20:28:49.589791425Z"
    }
   }
  },
  {
   "cell_type": "code",
   "execution_count": 57,
   "outputs": [],
   "source": [
    "# merge info_df and keywords_cleaned\n",
    "info_df = pd.merge(info_df, keywords_cleaned, on='id')"
   ],
   "metadata": {
    "collapsed": false,
    "ExecuteTime": {
     "end_time": "2023-09-03T20:28:49.951553425Z",
     "start_time": "2023-09-03T20:28:49.915050762Z"
    }
   }
  },
  {
   "cell_type": "code",
   "execution_count": 58,
   "outputs": [
    {
     "data": {
      "text/plain": "(46628, 27)"
     },
     "execution_count": 58,
     "metadata": {},
     "output_type": "execute_result"
    }
   ],
   "source": [
    "info_df.shape"
   ],
   "metadata": {
    "collapsed": false,
    "ExecuteTime": {
     "end_time": "2023-09-03T20:28:50.259942042Z",
     "start_time": "2023-09-03T20:28:50.255811361Z"
    }
   }
  },
  {
   "cell_type": "code",
   "execution_count": 59,
   "outputs": [],
   "source": [
    "# rename column 'tmdbId' to 'tmdb_id'\n",
    "links =links.rename(columns={'tmdbId': 'id'})"
   ],
   "metadata": {
    "collapsed": false,
    "ExecuteTime": {
     "end_time": "2023-09-03T20:28:50.630178826Z",
     "start_time": "2023-09-03T20:28:50.625307288Z"
    }
   }
  },
  {
   "cell_type": "code",
   "execution_count": 60,
   "outputs": [],
   "source": [
    "# drop nan values\n",
    "links = links.dropna(subset=['id'])\n",
    "# convert id column to int\n",
    "links['id'] = links['id'].astype(int)"
   ],
   "metadata": {
    "collapsed": false,
    "ExecuteTime": {
     "end_time": "2023-09-03T20:28:50.946465941Z",
     "start_time": "2023-09-03T20:28:50.905262573Z"
    }
   }
  },
  {
   "cell_type": "code",
   "execution_count": 61,
   "outputs": [
    {
     "data": {
      "text/plain": "       movieId   imdbId      id\n0            1   114709     862\n1            2   113497    8844\n2            3   113228   15602\n3            4   114885   31357\n4            5   113041   11862\n...        ...      ...     ...\n45838   176269  6209470  439050\n45839   176271  2028550  111109\n45840   176273   303758   67758\n45841   176275     8536  227506\n45842   176279  6980792  461257\n\n[45624 rows x 3 columns]",
      "text/html": "<div>\n<style scoped>\n    .dataframe tbody tr th:only-of-type {\n        vertical-align: middle;\n    }\n\n    .dataframe tbody tr th {\n        vertical-align: top;\n    }\n\n    .dataframe thead th {\n        text-align: right;\n    }\n</style>\n<table border=\"1\" class=\"dataframe\">\n  <thead>\n    <tr style=\"text-align: right;\">\n      <th></th>\n      <th>movieId</th>\n      <th>imdbId</th>\n      <th>id</th>\n    </tr>\n  </thead>\n  <tbody>\n    <tr>\n      <th>0</th>\n      <td>1</td>\n      <td>114709</td>\n      <td>862</td>\n    </tr>\n    <tr>\n      <th>1</th>\n      <td>2</td>\n      <td>113497</td>\n      <td>8844</td>\n    </tr>\n    <tr>\n      <th>2</th>\n      <td>3</td>\n      <td>113228</td>\n      <td>15602</td>\n    </tr>\n    <tr>\n      <th>3</th>\n      <td>4</td>\n      <td>114885</td>\n      <td>31357</td>\n    </tr>\n    <tr>\n      <th>4</th>\n      <td>5</td>\n      <td>113041</td>\n      <td>11862</td>\n    </tr>\n    <tr>\n      <th>...</th>\n      <td>...</td>\n      <td>...</td>\n      <td>...</td>\n    </tr>\n    <tr>\n      <th>45838</th>\n      <td>176269</td>\n      <td>6209470</td>\n      <td>439050</td>\n    </tr>\n    <tr>\n      <th>45839</th>\n      <td>176271</td>\n      <td>2028550</td>\n      <td>111109</td>\n    </tr>\n    <tr>\n      <th>45840</th>\n      <td>176273</td>\n      <td>303758</td>\n      <td>67758</td>\n    </tr>\n    <tr>\n      <th>45841</th>\n      <td>176275</td>\n      <td>8536</td>\n      <td>227506</td>\n    </tr>\n    <tr>\n      <th>45842</th>\n      <td>176279</td>\n      <td>6980792</td>\n      <td>461257</td>\n    </tr>\n  </tbody>\n</table>\n<p>45624 rows × 3 columns</p>\n</div>"
     },
     "execution_count": 61,
     "metadata": {},
     "output_type": "execute_result"
    }
   ],
   "source": [
    "links"
   ],
   "metadata": {
    "collapsed": false,
    "ExecuteTime": {
     "end_time": "2023-09-03T20:28:51.189801824Z",
     "start_time": "2023-09-03T20:28:51.171174654Z"
    }
   }
  },
  {
   "cell_type": "code",
   "execution_count": 62,
   "outputs": [],
   "source": [
    "merged_df_final = info_df.merge(links, how='left', on='id')"
   ],
   "metadata": {
    "collapsed": false,
    "ExecuteTime": {
     "end_time": "2023-09-03T20:28:51.595981678Z",
     "start_time": "2023-09-03T20:28:51.565599660Z"
    }
   }
  },
  {
   "cell_type": "code",
   "execution_count": 63,
   "outputs": [
    {
     "data": {
      "text/plain": "       adult    budget                              homepage      id  \\\n0      False  30000000  http://toystory.disney.com/toy-story     862   \n1      False  65000000                                   NaN    8844   \n2      False         0                                   NaN   15602   \n3      False  16000000                                   NaN   31357   \n4      False         0                                   NaN   11862   \n...      ...       ...                                   ...     ...   \n46905  False         0  http://www.imdb.com/title/tt6209470/  439050   \n46906  False         0                                   NaN  111109   \n46907  False         0                                   NaN   67758   \n46908  False         0                                   NaN  227506   \n46909  False         0                                   NaN  461257   \n\n         imdb_id original_language               original_title  \\\n0      tt0114709                en                    Toy Story   \n1      tt0113497                en                      Jumanji   \n2      tt0113228                en             Grumpier Old Men   \n3      tt0114885                en            Waiting to Exhale   \n4      tt0113041                en  Father of the Bride Part II   \n...          ...               ...                          ...   \n46905  tt6209470                fa                      رگ خواب   \n46906  tt2028550                tl          Siglo ng Pagluluwal   \n46907  tt0303758                en                     Betrayal   \n46908  tt0008536                en          Satana likuyushchiy   \n46909  tt6980792                en                     Queerama   \n\n                                                overview popularity  \\\n0      Led by Woody, Andy's toys live happily in his ...  21.946943   \n1      When siblings Judy and Peter discover an encha...  17.015539   \n2      A family wedding reignites the ancient feud be...    11.7129   \n3      Cheated on, mistreated and stepped on, the wom...   3.859495   \n4      Just when George Banks has recovered from his ...   8.387519   \n...                                                  ...        ...   \n46905        Rising and falling between a man and woman.   0.072051   \n46906  An artist struggles to finish his work while a...   0.178241   \n46907  When one of her hits goes wrong, a professiona...   0.903007   \n46908  In a small town live two brothers, one a minis...   0.003503   \n46909  50 years after decriminalisation of homosexual...   0.163015   \n\n                            poster_path  ...                 collection_name  \\\n0      /rhIRbceoE9lR4veEXuwCC2wARtG.jpg  ...            Toy Story Collection   \n1      /vzmL6fP7aPKNKPRTFnZmiUfciyV.jpg  ...                             NaN   \n2      /6ksm1sjKMFLbO7UY2i6G1ju9SML.jpg  ...       Grumpy Old Men Collection   \n3      /16XOMpEaLWkrcPqSQqhTmeJuqQl.jpg  ...                             NaN   \n4      /e64sOI48hQXyru7naBFyssKFxVd.jpg  ...  Father of the Bride Collection   \n...                                 ...  ...                             ...   \n46905  /jldsYflnId4tTWPx8es3uzsB1I8.jpg  ...                             NaN   \n46906  /xZkmxsNmYXJbKVsTRLLx3pqGHx7.jpg  ...                             NaN   \n46907  /d5bX92nDsISNhu3ZT69uHwmfCGw.jpg  ...                             NaN   \n46908  /aorBPO7ak8e8iJKT5OcqYxU3jlK.jpg  ...                             NaN   \n46909  /s5UkZt6NTsrS7ZF0Rh8nzupRlIU.jpg  ...                             NaN   \n\n           genre                      production_company  \\\n0      Animation                 Pixar Animation Studios   \n1      Adventure                        TriStar Pictures   \n2        Romance                            Warner Bros.   \n3         Comedy  Twentieth Century Fox Film Corporation   \n4         Comedy                   Sandollar Productions   \n...          ...                                     ...   \n46905      Drama                                     NaN   \n46906      Drama                             Sine Olivia   \n46907     Action                 American World Pictures   \n46908        NaN                               Yermoliev   \n46909        NaN                                     NaN   \n\n             production_country spoken_language  \\\n0      United States of America         English   \n1      United States of America         English   \n2      United States of America         English   \n3      United States of America         English   \n4      United States of America         English   \n...                         ...             ...   \n46905                      Iran           فارسی   \n46906               Philippines             NaN   \n46907  United States of America         English   \n46908                    Russia             NaN   \n46909            United Kingdom         English   \n\n                                              cast_names  \\\n0      ['Tom Hanks', 'Tim Allen', 'Don Rickles', 'Jim...   \n1      ['Robin Williams', 'Jonathan Hyde', 'Kirsten D...   \n2      ['Walter Matthau', 'Jack Lemmon', 'Ann-Margret...   \n3      ['Whitney Houston', 'Angela Bassett', 'Loretta...   \n4      ['Steve Martin', 'Diane Keaton', 'Martin Short...   \n...                                                  ...   \n46905  ['Leila Hatami', 'Kourosh Tahami', 'Elham Korda']   \n46906  ['Angel Aquino', 'Perry Dizon', 'Hazel Orencio...   \n46907  ['Erika Eleniak', 'Adam Baldwin', 'Julie du Pa...   \n46908  ['Iwan Mosschuchin', 'Nathalie Lissenko', 'Pav...   \n46909                                                 []   \n\n                   director  \\\n0         ['John Lasseter']   \n1          ['Joe Johnston']   \n2         ['Howard Deutch']   \n3       ['Forest Whitaker']   \n4         ['Charles Shyer']   \n...                     ...   \n46905  ['Hamid Nematollah']   \n46906          ['Lav Diaz']   \n46907    ['Mark L. Lester']   \n46908  ['Yakov Protazanov']   \n46909     ['Daisy Asquith']   \n\n                                            keyword_list  movieId   imdbId  \n0      ['jealousy', 'toy', 'boy', 'friendship', 'frie...        1   114709  \n1      ['board game', 'disappearance', \"based on chil...        2   113497  \n2      ['fishing', 'best friend', 'duringcreditssting...        3   113228  \n3      ['based on novel', 'interracial relationship',...        4   114885  \n4      ['baby', 'midlife crisis', 'confidence', 'agin...        5   113041  \n...                                                  ...      ...      ...  \n46905                                    ['tragic love']   176269  6209470  \n46906                        ['artist', 'play', 'pinoy']   176271  2028550  \n46907                                                 []   176273   303758  \n46908                                                 []   176275     8536  \n46909                                                 []   176279  6980792  \n\n[46910 rows x 29 columns]",
      "text/html": "<div>\n<style scoped>\n    .dataframe tbody tr th:only-of-type {\n        vertical-align: middle;\n    }\n\n    .dataframe tbody tr th {\n        vertical-align: top;\n    }\n\n    .dataframe thead th {\n        text-align: right;\n    }\n</style>\n<table border=\"1\" class=\"dataframe\">\n  <thead>\n    <tr style=\"text-align: right;\">\n      <th></th>\n      <th>adult</th>\n      <th>budget</th>\n      <th>homepage</th>\n      <th>id</th>\n      <th>imdb_id</th>\n      <th>original_language</th>\n      <th>original_title</th>\n      <th>overview</th>\n      <th>popularity</th>\n      <th>poster_path</th>\n      <th>...</th>\n      <th>collection_name</th>\n      <th>genre</th>\n      <th>production_company</th>\n      <th>production_country</th>\n      <th>spoken_language</th>\n      <th>cast_names</th>\n      <th>director</th>\n      <th>keyword_list</th>\n      <th>movieId</th>\n      <th>imdbId</th>\n    </tr>\n  </thead>\n  <tbody>\n    <tr>\n      <th>0</th>\n      <td>False</td>\n      <td>30000000</td>\n      <td>http://toystory.disney.com/toy-story</td>\n      <td>862</td>\n      <td>tt0114709</td>\n      <td>en</td>\n      <td>Toy Story</td>\n      <td>Led by Woody, Andy's toys live happily in his ...</td>\n      <td>21.946943</td>\n      <td>/rhIRbceoE9lR4veEXuwCC2wARtG.jpg</td>\n      <td>...</td>\n      <td>Toy Story Collection</td>\n      <td>Animation</td>\n      <td>Pixar Animation Studios</td>\n      <td>United States of America</td>\n      <td>English</td>\n      <td>['Tom Hanks', 'Tim Allen', 'Don Rickles', 'Jim...</td>\n      <td>['John Lasseter']</td>\n      <td>['jealousy', 'toy', 'boy', 'friendship', 'frie...</td>\n      <td>1</td>\n      <td>114709</td>\n    </tr>\n    <tr>\n      <th>1</th>\n      <td>False</td>\n      <td>65000000</td>\n      <td>NaN</td>\n      <td>8844</td>\n      <td>tt0113497</td>\n      <td>en</td>\n      <td>Jumanji</td>\n      <td>When siblings Judy and Peter discover an encha...</td>\n      <td>17.015539</td>\n      <td>/vzmL6fP7aPKNKPRTFnZmiUfciyV.jpg</td>\n      <td>...</td>\n      <td>NaN</td>\n      <td>Adventure</td>\n      <td>TriStar Pictures</td>\n      <td>United States of America</td>\n      <td>English</td>\n      <td>['Robin Williams', 'Jonathan Hyde', 'Kirsten D...</td>\n      <td>['Joe Johnston']</td>\n      <td>['board game', 'disappearance', \"based on chil...</td>\n      <td>2</td>\n      <td>113497</td>\n    </tr>\n    <tr>\n      <th>2</th>\n      <td>False</td>\n      <td>0</td>\n      <td>NaN</td>\n      <td>15602</td>\n      <td>tt0113228</td>\n      <td>en</td>\n      <td>Grumpier Old Men</td>\n      <td>A family wedding reignites the ancient feud be...</td>\n      <td>11.7129</td>\n      <td>/6ksm1sjKMFLbO7UY2i6G1ju9SML.jpg</td>\n      <td>...</td>\n      <td>Grumpy Old Men Collection</td>\n      <td>Romance</td>\n      <td>Warner Bros.</td>\n      <td>United States of America</td>\n      <td>English</td>\n      <td>['Walter Matthau', 'Jack Lemmon', 'Ann-Margret...</td>\n      <td>['Howard Deutch']</td>\n      <td>['fishing', 'best friend', 'duringcreditssting...</td>\n      <td>3</td>\n      <td>113228</td>\n    </tr>\n    <tr>\n      <th>3</th>\n      <td>False</td>\n      <td>16000000</td>\n      <td>NaN</td>\n      <td>31357</td>\n      <td>tt0114885</td>\n      <td>en</td>\n      <td>Waiting to Exhale</td>\n      <td>Cheated on, mistreated and stepped on, the wom...</td>\n      <td>3.859495</td>\n      <td>/16XOMpEaLWkrcPqSQqhTmeJuqQl.jpg</td>\n      <td>...</td>\n      <td>NaN</td>\n      <td>Comedy</td>\n      <td>Twentieth Century Fox Film Corporation</td>\n      <td>United States of America</td>\n      <td>English</td>\n      <td>['Whitney Houston', 'Angela Bassett', 'Loretta...</td>\n      <td>['Forest Whitaker']</td>\n      <td>['based on novel', 'interracial relationship',...</td>\n      <td>4</td>\n      <td>114885</td>\n    </tr>\n    <tr>\n      <th>4</th>\n      <td>False</td>\n      <td>0</td>\n      <td>NaN</td>\n      <td>11862</td>\n      <td>tt0113041</td>\n      <td>en</td>\n      <td>Father of the Bride Part II</td>\n      <td>Just when George Banks has recovered from his ...</td>\n      <td>8.387519</td>\n      <td>/e64sOI48hQXyru7naBFyssKFxVd.jpg</td>\n      <td>...</td>\n      <td>Father of the Bride Collection</td>\n      <td>Comedy</td>\n      <td>Sandollar Productions</td>\n      <td>United States of America</td>\n      <td>English</td>\n      <td>['Steve Martin', 'Diane Keaton', 'Martin Short...</td>\n      <td>['Charles Shyer']</td>\n      <td>['baby', 'midlife crisis', 'confidence', 'agin...</td>\n      <td>5</td>\n      <td>113041</td>\n    </tr>\n    <tr>\n      <th>...</th>\n      <td>...</td>\n      <td>...</td>\n      <td>...</td>\n      <td>...</td>\n      <td>...</td>\n      <td>...</td>\n      <td>...</td>\n      <td>...</td>\n      <td>...</td>\n      <td>...</td>\n      <td>...</td>\n      <td>...</td>\n      <td>...</td>\n      <td>...</td>\n      <td>...</td>\n      <td>...</td>\n      <td>...</td>\n      <td>...</td>\n      <td>...</td>\n      <td>...</td>\n      <td>...</td>\n    </tr>\n    <tr>\n      <th>46905</th>\n      <td>False</td>\n      <td>0</td>\n      <td>http://www.imdb.com/title/tt6209470/</td>\n      <td>439050</td>\n      <td>tt6209470</td>\n      <td>fa</td>\n      <td>رگ خواب</td>\n      <td>Rising and falling between a man and woman.</td>\n      <td>0.072051</td>\n      <td>/jldsYflnId4tTWPx8es3uzsB1I8.jpg</td>\n      <td>...</td>\n      <td>NaN</td>\n      <td>Drama</td>\n      <td>NaN</td>\n      <td>Iran</td>\n      <td>فارسی</td>\n      <td>['Leila Hatami', 'Kourosh Tahami', 'Elham Korda']</td>\n      <td>['Hamid Nematollah']</td>\n      <td>['tragic love']</td>\n      <td>176269</td>\n      <td>6209470</td>\n    </tr>\n    <tr>\n      <th>46906</th>\n      <td>False</td>\n      <td>0</td>\n      <td>NaN</td>\n      <td>111109</td>\n      <td>tt2028550</td>\n      <td>tl</td>\n      <td>Siglo ng Pagluluwal</td>\n      <td>An artist struggles to finish his work while a...</td>\n      <td>0.178241</td>\n      <td>/xZkmxsNmYXJbKVsTRLLx3pqGHx7.jpg</td>\n      <td>...</td>\n      <td>NaN</td>\n      <td>Drama</td>\n      <td>Sine Olivia</td>\n      <td>Philippines</td>\n      <td>NaN</td>\n      <td>['Angel Aquino', 'Perry Dizon', 'Hazel Orencio...</td>\n      <td>['Lav Diaz']</td>\n      <td>['artist', 'play', 'pinoy']</td>\n      <td>176271</td>\n      <td>2028550</td>\n    </tr>\n    <tr>\n      <th>46907</th>\n      <td>False</td>\n      <td>0</td>\n      <td>NaN</td>\n      <td>67758</td>\n      <td>tt0303758</td>\n      <td>en</td>\n      <td>Betrayal</td>\n      <td>When one of her hits goes wrong, a professiona...</td>\n      <td>0.903007</td>\n      <td>/d5bX92nDsISNhu3ZT69uHwmfCGw.jpg</td>\n      <td>...</td>\n      <td>NaN</td>\n      <td>Action</td>\n      <td>American World Pictures</td>\n      <td>United States of America</td>\n      <td>English</td>\n      <td>['Erika Eleniak', 'Adam Baldwin', 'Julie du Pa...</td>\n      <td>['Mark L. Lester']</td>\n      <td>[]</td>\n      <td>176273</td>\n      <td>303758</td>\n    </tr>\n    <tr>\n      <th>46908</th>\n      <td>False</td>\n      <td>0</td>\n      <td>NaN</td>\n      <td>227506</td>\n      <td>tt0008536</td>\n      <td>en</td>\n      <td>Satana likuyushchiy</td>\n      <td>In a small town live two brothers, one a minis...</td>\n      <td>0.003503</td>\n      <td>/aorBPO7ak8e8iJKT5OcqYxU3jlK.jpg</td>\n      <td>...</td>\n      <td>NaN</td>\n      <td>NaN</td>\n      <td>Yermoliev</td>\n      <td>Russia</td>\n      <td>NaN</td>\n      <td>['Iwan Mosschuchin', 'Nathalie Lissenko', 'Pav...</td>\n      <td>['Yakov Protazanov']</td>\n      <td>[]</td>\n      <td>176275</td>\n      <td>8536</td>\n    </tr>\n    <tr>\n      <th>46909</th>\n      <td>False</td>\n      <td>0</td>\n      <td>NaN</td>\n      <td>461257</td>\n      <td>tt6980792</td>\n      <td>en</td>\n      <td>Queerama</td>\n      <td>50 years after decriminalisation of homosexual...</td>\n      <td>0.163015</td>\n      <td>/s5UkZt6NTsrS7ZF0Rh8nzupRlIU.jpg</td>\n      <td>...</td>\n      <td>NaN</td>\n      <td>NaN</td>\n      <td>NaN</td>\n      <td>United Kingdom</td>\n      <td>English</td>\n      <td>[]</td>\n      <td>['Daisy Asquith']</td>\n      <td>[]</td>\n      <td>176279</td>\n      <td>6980792</td>\n    </tr>\n  </tbody>\n</table>\n<p>46910 rows × 29 columns</p>\n</div>"
     },
     "execution_count": 63,
     "metadata": {},
     "output_type": "execute_result"
    }
   ],
   "source": [
    "merged_df_final"
   ],
   "metadata": {
    "collapsed": false,
    "ExecuteTime": {
     "end_time": "2023-09-03T20:28:52.242604754Z",
     "start_time": "2023-09-03T20:28:52.170131516Z"
    }
   }
  },
  {
   "cell_type": "code",
   "execution_count": 64,
   "outputs": [
    {
     "data": {
      "text/plain": "        userId  movieId  rating   timestamp\n0            1       31     2.5  1260759144\n1            1     1029     3.0  1260759179\n2            1     1061     3.0  1260759182\n3            1     1129     2.0  1260759185\n4            1     1172     4.0  1260759205\n...        ...      ...     ...         ...\n99999      671     6268     2.5  1065579370\n100000     671     6269     4.0  1065149201\n100001     671     6365     4.0  1070940363\n100002     671     6385     2.5  1070979663\n100003     671     6565     3.5  1074784724\n\n[100004 rows x 4 columns]",
      "text/html": "<div>\n<style scoped>\n    .dataframe tbody tr th:only-of-type {\n        vertical-align: middle;\n    }\n\n    .dataframe tbody tr th {\n        vertical-align: top;\n    }\n\n    .dataframe thead th {\n        text-align: right;\n    }\n</style>\n<table border=\"1\" class=\"dataframe\">\n  <thead>\n    <tr style=\"text-align: right;\">\n      <th></th>\n      <th>userId</th>\n      <th>movieId</th>\n      <th>rating</th>\n      <th>timestamp</th>\n    </tr>\n  </thead>\n  <tbody>\n    <tr>\n      <th>0</th>\n      <td>1</td>\n      <td>31</td>\n      <td>2.5</td>\n      <td>1260759144</td>\n    </tr>\n    <tr>\n      <th>1</th>\n      <td>1</td>\n      <td>1029</td>\n      <td>3.0</td>\n      <td>1260759179</td>\n    </tr>\n    <tr>\n      <th>2</th>\n      <td>1</td>\n      <td>1061</td>\n      <td>3.0</td>\n      <td>1260759182</td>\n    </tr>\n    <tr>\n      <th>3</th>\n      <td>1</td>\n      <td>1129</td>\n      <td>2.0</td>\n      <td>1260759185</td>\n    </tr>\n    <tr>\n      <th>4</th>\n      <td>1</td>\n      <td>1172</td>\n      <td>4.0</td>\n      <td>1260759205</td>\n    </tr>\n    <tr>\n      <th>...</th>\n      <td>...</td>\n      <td>...</td>\n      <td>...</td>\n      <td>...</td>\n    </tr>\n    <tr>\n      <th>99999</th>\n      <td>671</td>\n      <td>6268</td>\n      <td>2.5</td>\n      <td>1065579370</td>\n    </tr>\n    <tr>\n      <th>100000</th>\n      <td>671</td>\n      <td>6269</td>\n      <td>4.0</td>\n      <td>1065149201</td>\n    </tr>\n    <tr>\n      <th>100001</th>\n      <td>671</td>\n      <td>6365</td>\n      <td>4.0</td>\n      <td>1070940363</td>\n    </tr>\n    <tr>\n      <th>100002</th>\n      <td>671</td>\n      <td>6385</td>\n      <td>2.5</td>\n      <td>1070979663</td>\n    </tr>\n    <tr>\n      <th>100003</th>\n      <td>671</td>\n      <td>6565</td>\n      <td>3.5</td>\n      <td>1074784724</td>\n    </tr>\n  </tbody>\n</table>\n<p>100004 rows × 4 columns</p>\n</div>"
     },
     "execution_count": 64,
     "metadata": {},
     "output_type": "execute_result"
    }
   ],
   "source": [
    "ratings_small"
   ],
   "metadata": {
    "collapsed": false,
    "ExecuteTime": {
     "end_time": "2023-09-03T20:28:52.574111933Z",
     "start_time": "2023-09-03T20:28:52.530045779Z"
    }
   }
  },
  {
   "cell_type": "code",
   "execution_count": 65,
   "outputs": [
    {
     "data": {
      "text/plain": "0"
     },
     "execution_count": 65,
     "metadata": {},
     "output_type": "execute_result"
    }
   ],
   "source": [
    "# check if nan in movieId column and how many\n",
    "merged_df_final['movieId'].isnull().sum()"
   ],
   "metadata": {
    "collapsed": false,
    "ExecuteTime": {
     "end_time": "2023-09-03T20:28:53.141414326Z",
     "start_time": "2023-09-03T20:28:53.112323271Z"
    }
   }
  },
  {
   "cell_type": "code",
   "execution_count": 66,
   "outputs": [],
   "source": [
    "# save merged_df_final to csv\n",
    "merged_df_final.to_csv('../data/lens_tmdb/cleaned/df_all.csv', index=False)"
   ],
   "metadata": {
    "collapsed": false,
    "ExecuteTime": {
     "end_time": "2023-09-03T20:28:59.945372423Z",
     "start_time": "2023-09-03T20:28:59.209384517Z"
    }
   }
  },
  {
   "cell_type": "code",
   "execution_count": 67,
   "outputs": [
    {
     "data": {
      "text/plain": "Index(['adult', 'budget', 'homepage', 'id', 'imdb_id', 'original_language',\n       'original_title', 'overview', 'popularity', 'poster_path',\n       'release_date', 'revenue', 'runtime', 'status', 'tagline', 'title',\n       'video', 'vote_average', 'vote_count', 'collection_name', 'genre',\n       'production_company', 'production_country', 'spoken_language',\n       'cast_names', 'director', 'keyword_list', 'movieId', 'imdbId'],\n      dtype='object')"
     },
     "execution_count": 67,
     "metadata": {},
     "output_type": "execute_result"
    }
   ],
   "source": [
    "merged_df_final.columns"
   ],
   "metadata": {
    "collapsed": false,
    "ExecuteTime": {
     "end_time": "2023-09-03T20:29:00.744171444Z",
     "start_time": "2023-09-03T20:29:00.740149002Z"
    }
   }
  },
  {
   "cell_type": "code",
   "execution_count": 68,
   "outputs": [
    {
     "data": {
      "text/plain": "Index(['userId', 'movieId', 'rating', 'timestamp'], dtype='object')"
     },
     "execution_count": 68,
     "metadata": {},
     "output_type": "execute_result"
    }
   ],
   "source": [
    "ratings_small.columns"
   ],
   "metadata": {
    "collapsed": false,
    "ExecuteTime": {
     "end_time": "2023-09-03T20:29:01.433851934Z",
     "start_time": "2023-09-03T20:29:01.429929311Z"
    }
   }
  },
  {
   "cell_type": "code",
   "execution_count": 69,
   "outputs": [],
   "source": [
    "test = merged_df_final.merge(ratings_small, how='left', on='movieId')"
   ],
   "metadata": {
    "collapsed": false,
    "ExecuteTime": {
     "end_time": "2023-09-03T20:29:02.878828425Z",
     "start_time": "2023-09-03T20:29:02.807018408Z"
    }
   }
  },
  {
   "cell_type": "code",
   "execution_count": 72,
   "outputs": [
    {
     "data": {
      "text/plain": "        adult    budget                              homepage      id  \\\n0       False  30000000  http://toystory.disney.com/toy-story     862   \n247     False  65000000                                   NaN    8844   \n354     False         0                                   NaN   15602   \n413     False  16000000                                   NaN   31357   \n426     False         0                                   NaN   11862   \n...       ...       ...                                   ...     ...   \n137865  False         0  http://www.imdb.com/title/tt6209470/  439050   \n137866  False         0                                   NaN  111109   \n137867  False         0                                   NaN   67758   \n137868  False         0                                   NaN  227506   \n137869  False         0                                   NaN  461257   \n\n          imdb_id original_language               original_title  \\\n0       tt0114709                en                    Toy Story   \n247     tt0113497                en                      Jumanji   \n354     tt0113228                en             Grumpier Old Men   \n413     tt0114885                en            Waiting to Exhale   \n426     tt0113041                en  Father of the Bride Part II   \n...           ...               ...                          ...   \n137865  tt6209470                fa                      رگ خواب   \n137866  tt2028550                tl          Siglo ng Pagluluwal   \n137867  tt0303758                en                     Betrayal   \n137868  tt0008536                en          Satana likuyushchiy   \n137869  tt6980792                en                     Queerama   \n\n                                                 overview popularity  \\\n0       Led by Woody, Andy's toys live happily in his ...  21.946943   \n247     When siblings Judy and Peter discover an encha...  17.015539   \n354     A family wedding reignites the ancient feud be...    11.7129   \n413     Cheated on, mistreated and stepped on, the wom...   3.859495   \n426     Just when George Banks has recovered from his ...   8.387519   \n...                                                   ...        ...   \n137865        Rising and falling between a man and woman.   0.072051   \n137866  An artist struggles to finish his work while a...   0.178241   \n137867  When one of her hits goes wrong, a professiona...   0.903007   \n137868  In a small town live two brothers, one a minis...   0.003503   \n137869  50 years after decriminalisation of homosexual...   0.163015   \n\n                             poster_path  ...        production_country  \\\n0       /rhIRbceoE9lR4veEXuwCC2wARtG.jpg  ...  United States of America   \n247     /vzmL6fP7aPKNKPRTFnZmiUfciyV.jpg  ...  United States of America   \n354     /6ksm1sjKMFLbO7UY2i6G1ju9SML.jpg  ...  United States of America   \n413     /16XOMpEaLWkrcPqSQqhTmeJuqQl.jpg  ...  United States of America   \n426     /e64sOI48hQXyru7naBFyssKFxVd.jpg  ...  United States of America   \n...                                  ...  ...                       ...   \n137865  /jldsYflnId4tTWPx8es3uzsB1I8.jpg  ...                      Iran   \n137866  /xZkmxsNmYXJbKVsTRLLx3pqGHx7.jpg  ...               Philippines   \n137867  /d5bX92nDsISNhu3ZT69uHwmfCGw.jpg  ...  United States of America   \n137868  /aorBPO7ak8e8iJKT5OcqYxU3jlK.jpg  ...                    Russia   \n137869  /s5UkZt6NTsrS7ZF0Rh8nzupRlIU.jpg  ...            United Kingdom   \n\n        spoken_language                                         cast_names  \\\n0               English  ['Tom Hanks', 'Tim Allen', 'Don Rickles', 'Jim...   \n247             English  ['Robin Williams', 'Jonathan Hyde', 'Kirsten D...   \n354             English  ['Walter Matthau', 'Jack Lemmon', 'Ann-Margret...   \n413             English  ['Whitney Houston', 'Angela Bassett', 'Loretta...   \n426             English  ['Steve Martin', 'Diane Keaton', 'Martin Short...   \n...                 ...                                                ...   \n137865            فارسی  ['Leila Hatami', 'Kourosh Tahami', 'Elham Korda']   \n137866              NaN  ['Angel Aquino', 'Perry Dizon', 'Hazel Orencio...   \n137867          English  ['Erika Eleniak', 'Adam Baldwin', 'Julie du Pa...   \n137868              NaN  ['Iwan Mosschuchin', 'Nathalie Lissenko', 'Pav...   \n137869          English                                                 []   \n\n                    director  \\\n0          ['John Lasseter']   \n247         ['Joe Johnston']   \n354        ['Howard Deutch']   \n413      ['Forest Whitaker']   \n426        ['Charles Shyer']   \n...                      ...   \n137865  ['Hamid Nematollah']   \n137866          ['Lav Diaz']   \n137867    ['Mark L. Lester']   \n137868  ['Yakov Protazanov']   \n137869     ['Daisy Asquith']   \n\n                                             keyword_list movieId   imdbId  \\\n0       ['jealousy', 'toy', 'boy', 'friendship', 'frie...       1   114709   \n247     ['board game', 'disappearance', \"based on chil...       2   113497   \n354     ['fishing', 'best friend', 'duringcreditssting...       3   113228   \n413     ['based on novel', 'interracial relationship',...       4   114885   \n426     ['baby', 'midlife crisis', 'confidence', 'agin...       5   113041   \n...                                                   ...     ...      ...   \n137865                                    ['tragic love']  176269  6209470   \n137866                        ['artist', 'play', 'pinoy']  176271  2028550   \n137867                                                 []  176273   303758   \n137868                                                 []  176275     8536   \n137869                                                 []  176279  6980792   \n\n        userId  rating     timestamp  \n0          7.0     3.0  8.518667e+08  \n247       15.0     2.0  1.134521e+09  \n354        5.0     4.0  1.163375e+09  \n413       19.0     3.0  8.551929e+08  \n426       15.0     4.5  1.093070e+09  \n...        ...     ...           ...  \n137865     NaN     NaN           NaN  \n137866     NaN     NaN           NaN  \n137867     NaN     NaN           NaN  \n137868     NaN     NaN           NaN  \n137869     NaN     NaN           NaN  \n\n[45432 rows x 32 columns]",
      "text/html": "<div>\n<style scoped>\n    .dataframe tbody tr th:only-of-type {\n        vertical-align: middle;\n    }\n\n    .dataframe tbody tr th {\n        vertical-align: top;\n    }\n\n    .dataframe thead th {\n        text-align: right;\n    }\n</style>\n<table border=\"1\" class=\"dataframe\">\n  <thead>\n    <tr style=\"text-align: right;\">\n      <th></th>\n      <th>adult</th>\n      <th>budget</th>\n      <th>homepage</th>\n      <th>id</th>\n      <th>imdb_id</th>\n      <th>original_language</th>\n      <th>original_title</th>\n      <th>overview</th>\n      <th>popularity</th>\n      <th>poster_path</th>\n      <th>...</th>\n      <th>production_country</th>\n      <th>spoken_language</th>\n      <th>cast_names</th>\n      <th>director</th>\n      <th>keyword_list</th>\n      <th>movieId</th>\n      <th>imdbId</th>\n      <th>userId</th>\n      <th>rating</th>\n      <th>timestamp</th>\n    </tr>\n  </thead>\n  <tbody>\n    <tr>\n      <th>0</th>\n      <td>False</td>\n      <td>30000000</td>\n      <td>http://toystory.disney.com/toy-story</td>\n      <td>862</td>\n      <td>tt0114709</td>\n      <td>en</td>\n      <td>Toy Story</td>\n      <td>Led by Woody, Andy's toys live happily in his ...</td>\n      <td>21.946943</td>\n      <td>/rhIRbceoE9lR4veEXuwCC2wARtG.jpg</td>\n      <td>...</td>\n      <td>United States of America</td>\n      <td>English</td>\n      <td>['Tom Hanks', 'Tim Allen', 'Don Rickles', 'Jim...</td>\n      <td>['John Lasseter']</td>\n      <td>['jealousy', 'toy', 'boy', 'friendship', 'frie...</td>\n      <td>1</td>\n      <td>114709</td>\n      <td>7.0</td>\n      <td>3.0</td>\n      <td>8.518667e+08</td>\n    </tr>\n    <tr>\n      <th>247</th>\n      <td>False</td>\n      <td>65000000</td>\n      <td>NaN</td>\n      <td>8844</td>\n      <td>tt0113497</td>\n      <td>en</td>\n      <td>Jumanji</td>\n      <td>When siblings Judy and Peter discover an encha...</td>\n      <td>17.015539</td>\n      <td>/vzmL6fP7aPKNKPRTFnZmiUfciyV.jpg</td>\n      <td>...</td>\n      <td>United States of America</td>\n      <td>English</td>\n      <td>['Robin Williams', 'Jonathan Hyde', 'Kirsten D...</td>\n      <td>['Joe Johnston']</td>\n      <td>['board game', 'disappearance', \"based on chil...</td>\n      <td>2</td>\n      <td>113497</td>\n      <td>15.0</td>\n      <td>2.0</td>\n      <td>1.134521e+09</td>\n    </tr>\n    <tr>\n      <th>354</th>\n      <td>False</td>\n      <td>0</td>\n      <td>NaN</td>\n      <td>15602</td>\n      <td>tt0113228</td>\n      <td>en</td>\n      <td>Grumpier Old Men</td>\n      <td>A family wedding reignites the ancient feud be...</td>\n      <td>11.7129</td>\n      <td>/6ksm1sjKMFLbO7UY2i6G1ju9SML.jpg</td>\n      <td>...</td>\n      <td>United States of America</td>\n      <td>English</td>\n      <td>['Walter Matthau', 'Jack Lemmon', 'Ann-Margret...</td>\n      <td>['Howard Deutch']</td>\n      <td>['fishing', 'best friend', 'duringcreditssting...</td>\n      <td>3</td>\n      <td>113228</td>\n      <td>5.0</td>\n      <td>4.0</td>\n      <td>1.163375e+09</td>\n    </tr>\n    <tr>\n      <th>413</th>\n      <td>False</td>\n      <td>16000000</td>\n      <td>NaN</td>\n      <td>31357</td>\n      <td>tt0114885</td>\n      <td>en</td>\n      <td>Waiting to Exhale</td>\n      <td>Cheated on, mistreated and stepped on, the wom...</td>\n      <td>3.859495</td>\n      <td>/16XOMpEaLWkrcPqSQqhTmeJuqQl.jpg</td>\n      <td>...</td>\n      <td>United States of America</td>\n      <td>English</td>\n      <td>['Whitney Houston', 'Angela Bassett', 'Loretta...</td>\n      <td>['Forest Whitaker']</td>\n      <td>['based on novel', 'interracial relationship',...</td>\n      <td>4</td>\n      <td>114885</td>\n      <td>19.0</td>\n      <td>3.0</td>\n      <td>8.551929e+08</td>\n    </tr>\n    <tr>\n      <th>426</th>\n      <td>False</td>\n      <td>0</td>\n      <td>NaN</td>\n      <td>11862</td>\n      <td>tt0113041</td>\n      <td>en</td>\n      <td>Father of the Bride Part II</td>\n      <td>Just when George Banks has recovered from his ...</td>\n      <td>8.387519</td>\n      <td>/e64sOI48hQXyru7naBFyssKFxVd.jpg</td>\n      <td>...</td>\n      <td>United States of America</td>\n      <td>English</td>\n      <td>['Steve Martin', 'Diane Keaton', 'Martin Short...</td>\n      <td>['Charles Shyer']</td>\n      <td>['baby', 'midlife crisis', 'confidence', 'agin...</td>\n      <td>5</td>\n      <td>113041</td>\n      <td>15.0</td>\n      <td>4.5</td>\n      <td>1.093070e+09</td>\n    </tr>\n    <tr>\n      <th>...</th>\n      <td>...</td>\n      <td>...</td>\n      <td>...</td>\n      <td>...</td>\n      <td>...</td>\n      <td>...</td>\n      <td>...</td>\n      <td>...</td>\n      <td>...</td>\n      <td>...</td>\n      <td>...</td>\n      <td>...</td>\n      <td>...</td>\n      <td>...</td>\n      <td>...</td>\n      <td>...</td>\n      <td>...</td>\n      <td>...</td>\n      <td>...</td>\n      <td>...</td>\n      <td>...</td>\n    </tr>\n    <tr>\n      <th>137865</th>\n      <td>False</td>\n      <td>0</td>\n      <td>http://www.imdb.com/title/tt6209470/</td>\n      <td>439050</td>\n      <td>tt6209470</td>\n      <td>fa</td>\n      <td>رگ خواب</td>\n      <td>Rising and falling between a man and woman.</td>\n      <td>0.072051</td>\n      <td>/jldsYflnId4tTWPx8es3uzsB1I8.jpg</td>\n      <td>...</td>\n      <td>Iran</td>\n      <td>فارسی</td>\n      <td>['Leila Hatami', 'Kourosh Tahami', 'Elham Korda']</td>\n      <td>['Hamid Nematollah']</td>\n      <td>['tragic love']</td>\n      <td>176269</td>\n      <td>6209470</td>\n      <td>NaN</td>\n      <td>NaN</td>\n      <td>NaN</td>\n    </tr>\n    <tr>\n      <th>137866</th>\n      <td>False</td>\n      <td>0</td>\n      <td>NaN</td>\n      <td>111109</td>\n      <td>tt2028550</td>\n      <td>tl</td>\n      <td>Siglo ng Pagluluwal</td>\n      <td>An artist struggles to finish his work while a...</td>\n      <td>0.178241</td>\n      <td>/xZkmxsNmYXJbKVsTRLLx3pqGHx7.jpg</td>\n      <td>...</td>\n      <td>Philippines</td>\n      <td>NaN</td>\n      <td>['Angel Aquino', 'Perry Dizon', 'Hazel Orencio...</td>\n      <td>['Lav Diaz']</td>\n      <td>['artist', 'play', 'pinoy']</td>\n      <td>176271</td>\n      <td>2028550</td>\n      <td>NaN</td>\n      <td>NaN</td>\n      <td>NaN</td>\n    </tr>\n    <tr>\n      <th>137867</th>\n      <td>False</td>\n      <td>0</td>\n      <td>NaN</td>\n      <td>67758</td>\n      <td>tt0303758</td>\n      <td>en</td>\n      <td>Betrayal</td>\n      <td>When one of her hits goes wrong, a professiona...</td>\n      <td>0.903007</td>\n      <td>/d5bX92nDsISNhu3ZT69uHwmfCGw.jpg</td>\n      <td>...</td>\n      <td>United States of America</td>\n      <td>English</td>\n      <td>['Erika Eleniak', 'Adam Baldwin', 'Julie du Pa...</td>\n      <td>['Mark L. Lester']</td>\n      <td>[]</td>\n      <td>176273</td>\n      <td>303758</td>\n      <td>NaN</td>\n      <td>NaN</td>\n      <td>NaN</td>\n    </tr>\n    <tr>\n      <th>137868</th>\n      <td>False</td>\n      <td>0</td>\n      <td>NaN</td>\n      <td>227506</td>\n      <td>tt0008536</td>\n      <td>en</td>\n      <td>Satana likuyushchiy</td>\n      <td>In a small town live two brothers, one a minis...</td>\n      <td>0.003503</td>\n      <td>/aorBPO7ak8e8iJKT5OcqYxU3jlK.jpg</td>\n      <td>...</td>\n      <td>Russia</td>\n      <td>NaN</td>\n      <td>['Iwan Mosschuchin', 'Nathalie Lissenko', 'Pav...</td>\n      <td>['Yakov Protazanov']</td>\n      <td>[]</td>\n      <td>176275</td>\n      <td>8536</td>\n      <td>NaN</td>\n      <td>NaN</td>\n      <td>NaN</td>\n    </tr>\n    <tr>\n      <th>137869</th>\n      <td>False</td>\n      <td>0</td>\n      <td>NaN</td>\n      <td>461257</td>\n      <td>tt6980792</td>\n      <td>en</td>\n      <td>Queerama</td>\n      <td>50 years after decriminalisation of homosexual...</td>\n      <td>0.163015</td>\n      <td>/s5UkZt6NTsrS7ZF0Rh8nzupRlIU.jpg</td>\n      <td>...</td>\n      <td>United Kingdom</td>\n      <td>English</td>\n      <td>[]</td>\n      <td>['Daisy Asquith']</td>\n      <td>[]</td>\n      <td>176279</td>\n      <td>6980792</td>\n      <td>NaN</td>\n      <td>NaN</td>\n      <td>NaN</td>\n    </tr>\n  </tbody>\n</table>\n<p>45432 rows × 32 columns</p>\n</div>"
     },
     "execution_count": 72,
     "metadata": {},
     "output_type": "execute_result"
    }
   ],
   "source": [
    "test"
   ],
   "metadata": {
    "collapsed": false,
    "ExecuteTime": {
     "end_time": "2023-09-03T20:29:18.148327689Z",
     "start_time": "2023-09-03T20:29:18.094626441Z"
    }
   }
  },
  {
   "cell_type": "code",
   "execution_count": 71,
   "outputs": [],
   "source": [
    "# drop duplicates\n",
    "test = test.drop_duplicates(subset=['id'])"
   ],
   "metadata": {
    "collapsed": false,
    "ExecuteTime": {
     "end_time": "2023-09-03T20:29:14.244395030Z",
     "start_time": "2023-09-03T20:29:14.179862837Z"
    }
   }
  },
  {
   "cell_type": "code",
   "execution_count": null,
   "outputs": [],
   "source": [],
   "metadata": {
    "collapsed": false
   }
  }
 ],
 "metadata": {
  "kernelspec": {
   "display_name": "Python 3",
   "language": "python",
   "name": "python3"
  },
  "language_info": {
   "codemirror_mode": {
    "name": "ipython",
    "version": 2
   },
   "file_extension": ".py",
   "mimetype": "text/x-python",
   "name": "python",
   "nbconvert_exporter": "python",
   "pygments_lexer": "ipython2",
   "version": "2.7.6"
  }
 },
 "nbformat": 4,
 "nbformat_minor": 0
}
